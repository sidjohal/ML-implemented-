{
  "cells": [
    {
      "cell_type": "markdown",
      "metadata": {
        "id": "view-in-github",
        "colab_type": "text"
      },
      "source": [
        "<a href=\"https://colab.research.google.com/github/sidjohal/ML_implemented/blob/main/1.%20overview.ipynb\" target=\"_parent\"><img src=\"https://colab.research.google.com/assets/colab-badge.svg\" alt=\"Open In Colab\"/></a>"
      ]
    },
    {
      "cell_type": "code",
      "execution_count": null,
      "id": "7fd61ab6",
      "metadata": {
        "id": "7fd61ab6"
      },
      "outputs": [],
      "source": [
        "import pandas as pd\n",
        "import matplotlib.pyplot as plt\n",
        "import seaborn as sns\n",
        "import numpy as np"
      ]
    },
    {
      "cell_type": "markdown",
      "id": "d43d2c9e",
      "metadata": {
        "id": "d43d2c9e"
      },
      "source": [
        "# Step 1: Look at the big picture"
      ]
    },
    {
      "cell_type": "markdown",
      "id": "72a96e62",
      "metadata": {
        "id": "72a96e62"
      },
      "source": [
        "##### Design consideration in problem framing\n",
        "    - Supervised, Unsupervised, Reinforced Learning\n",
        "    - Classification, Regression, Other\n",
        "    - Single, Multiple outputs\n",
        "    - Continuous Learning, Periodic Updates\n",
        "    - Batch, Online\n",
        "\n",
        "##### Selection of performance measure\n",
        "    - Regression: MSE, MAE\n",
        "    - Classification: Precision, Recall, F1-Score, Accuracy\n",
        "\n",
        "##### Check the assumptions\n",
        "    - Review with domain experts"
      ]
    },
    {
      "cell_type": "markdown",
      "id": "082b4fe8",
      "metadata": {
        "id": "082b4fe8"
      },
      "source": [
        "# Step 2: Data\n",
        "    lec 1.1"
      ]
    },
    {
      "cell_type": "markdown",
      "source": [
        "### Importing data"
      ],
      "metadata": {
        "id": "mfePh5L7Mp5F"
      },
      "id": "mfePh5L7Mp5F"
    },
    {
      "cell_type": "code",
      "execution_count": null,
      "id": "64a31cf1",
      "metadata": {
        "id": "64a31cf1",
        "colab": {
          "base_uri": "https://localhost:8080/"
        },
        "outputId": "43ec67b8-5947-4bb7-eb0d-5b52484bf28c"
      },
      "outputs": [
        {
          "output_type": "execute_result",
          "data": {
            "text/plain": [
              "   fixed acidity  volatile acidity  citric acid  residual sugar  chlorides  \\\n",
              "0            7.4              0.70         0.00             1.9      0.076   \n",
              "1            7.8              0.88         0.00             2.6      0.098   \n",
              "2            7.8              0.76         0.04             2.3      0.092   \n",
              "3           11.2              0.28         0.56             1.9      0.075   \n",
              "4            7.4              0.70         0.00             1.9      0.076   \n",
              "\n",
              "   free sulfur dioxide  total sulfur dioxide  density    pH  sulphates  \\\n",
              "0                 11.0                  34.0   0.9978  3.51       0.56   \n",
              "1                 25.0                  67.0   0.9968  3.20       0.68   \n",
              "2                 15.0                  54.0   0.9970  3.26       0.65   \n",
              "3                 17.0                  60.0   0.9980  3.16       0.58   \n",
              "4                 11.0                  34.0   0.9978  3.51       0.56   \n",
              "\n",
              "   alcohol  quality  \n",
              "0      9.4        5  \n",
              "1      9.8        5  \n",
              "2      9.8        5  \n",
              "3      9.8        6  \n",
              "4      9.4        5  "
            ],
            "text/html": [
              "\n",
              "  <div id=\"df-39b29fbd-e670-46ca-928a-80be59248121\">\n",
              "    <div class=\"colab-df-container\">\n",
              "      <div>\n",
              "<style scoped>\n",
              "    .dataframe tbody tr th:only-of-type {\n",
              "        vertical-align: middle;\n",
              "    }\n",
              "\n",
              "    .dataframe tbody tr th {\n",
              "        vertical-align: top;\n",
              "    }\n",
              "\n",
              "    .dataframe thead th {\n",
              "        text-align: right;\n",
              "    }\n",
              "</style>\n",
              "<table border=\"1\" class=\"dataframe\">\n",
              "  <thead>\n",
              "    <tr style=\"text-align: right;\">\n",
              "      <th></th>\n",
              "      <th>fixed acidity</th>\n",
              "      <th>volatile acidity</th>\n",
              "      <th>citric acid</th>\n",
              "      <th>residual sugar</th>\n",
              "      <th>chlorides</th>\n",
              "      <th>free sulfur dioxide</th>\n",
              "      <th>total sulfur dioxide</th>\n",
              "      <th>density</th>\n",
              "      <th>pH</th>\n",
              "      <th>sulphates</th>\n",
              "      <th>alcohol</th>\n",
              "      <th>quality</th>\n",
              "    </tr>\n",
              "  </thead>\n",
              "  <tbody>\n",
              "    <tr>\n",
              "      <th>0</th>\n",
              "      <td>7.4</td>\n",
              "      <td>0.70</td>\n",
              "      <td>0.00</td>\n",
              "      <td>1.9</td>\n",
              "      <td>0.076</td>\n",
              "      <td>11.0</td>\n",
              "      <td>34.0</td>\n",
              "      <td>0.9978</td>\n",
              "      <td>3.51</td>\n",
              "      <td>0.56</td>\n",
              "      <td>9.4</td>\n",
              "      <td>5</td>\n",
              "    </tr>\n",
              "    <tr>\n",
              "      <th>1</th>\n",
              "      <td>7.8</td>\n",
              "      <td>0.88</td>\n",
              "      <td>0.00</td>\n",
              "      <td>2.6</td>\n",
              "      <td>0.098</td>\n",
              "      <td>25.0</td>\n",
              "      <td>67.0</td>\n",
              "      <td>0.9968</td>\n",
              "      <td>3.20</td>\n",
              "      <td>0.68</td>\n",
              "      <td>9.8</td>\n",
              "      <td>5</td>\n",
              "    </tr>\n",
              "    <tr>\n",
              "      <th>2</th>\n",
              "      <td>7.8</td>\n",
              "      <td>0.76</td>\n",
              "      <td>0.04</td>\n",
              "      <td>2.3</td>\n",
              "      <td>0.092</td>\n",
              "      <td>15.0</td>\n",
              "      <td>54.0</td>\n",
              "      <td>0.9970</td>\n",
              "      <td>3.26</td>\n",
              "      <td>0.65</td>\n",
              "      <td>9.8</td>\n",
              "      <td>5</td>\n",
              "    </tr>\n",
              "    <tr>\n",
              "      <th>3</th>\n",
              "      <td>11.2</td>\n",
              "      <td>0.28</td>\n",
              "      <td>0.56</td>\n",
              "      <td>1.9</td>\n",
              "      <td>0.075</td>\n",
              "      <td>17.0</td>\n",
              "      <td>60.0</td>\n",
              "      <td>0.9980</td>\n",
              "      <td>3.16</td>\n",
              "      <td>0.58</td>\n",
              "      <td>9.8</td>\n",
              "      <td>6</td>\n",
              "    </tr>\n",
              "    <tr>\n",
              "      <th>4</th>\n",
              "      <td>7.4</td>\n",
              "      <td>0.70</td>\n",
              "      <td>0.00</td>\n",
              "      <td>1.9</td>\n",
              "      <td>0.076</td>\n",
              "      <td>11.0</td>\n",
              "      <td>34.0</td>\n",
              "      <td>0.9978</td>\n",
              "      <td>3.51</td>\n",
              "      <td>0.56</td>\n",
              "      <td>9.4</td>\n",
              "      <td>5</td>\n",
              "    </tr>\n",
              "  </tbody>\n",
              "</table>\n",
              "</div>\n",
              "      <button class=\"colab-df-convert\" onclick=\"convertToInteractive('df-39b29fbd-e670-46ca-928a-80be59248121')\"\n",
              "              title=\"Convert this dataframe to an interactive table.\"\n",
              "              style=\"display:none;\">\n",
              "        \n",
              "  <svg xmlns=\"http://www.w3.org/2000/svg\" height=\"24px\"viewBox=\"0 0 24 24\"\n",
              "       width=\"24px\">\n",
              "    <path d=\"M0 0h24v24H0V0z\" fill=\"none\"/>\n",
              "    <path d=\"M18.56 5.44l.94 2.06.94-2.06 2.06-.94-2.06-.94-.94-2.06-.94 2.06-2.06.94zm-11 1L8.5 8.5l.94-2.06 2.06-.94-2.06-.94L8.5 2.5l-.94 2.06-2.06.94zm10 10l.94 2.06.94-2.06 2.06-.94-2.06-.94-.94-2.06-.94 2.06-2.06.94z\"/><path d=\"M17.41 7.96l-1.37-1.37c-.4-.4-.92-.59-1.43-.59-.52 0-1.04.2-1.43.59L10.3 9.45l-7.72 7.72c-.78.78-.78 2.05 0 2.83L4 21.41c.39.39.9.59 1.41.59.51 0 1.02-.2 1.41-.59l7.78-7.78 2.81-2.81c.8-.78.8-2.07 0-2.86zM5.41 20L4 18.59l7.72-7.72 1.47 1.35L5.41 20z\"/>\n",
              "  </svg>\n",
              "      </button>\n",
              "      \n",
              "  <style>\n",
              "    .colab-df-container {\n",
              "      display:flex;\n",
              "      flex-wrap:wrap;\n",
              "      gap: 12px;\n",
              "    }\n",
              "\n",
              "    .colab-df-convert {\n",
              "      background-color: #E8F0FE;\n",
              "      border: none;\n",
              "      border-radius: 50%;\n",
              "      cursor: pointer;\n",
              "      display: none;\n",
              "      fill: #1967D2;\n",
              "      height: 32px;\n",
              "      padding: 0 0 0 0;\n",
              "      width: 32px;\n",
              "    }\n",
              "\n",
              "    .colab-df-convert:hover {\n",
              "      background-color: #E2EBFA;\n",
              "      box-shadow: 0px 1px 2px rgba(60, 64, 67, 0.3), 0px 1px 3px 1px rgba(60, 64, 67, 0.15);\n",
              "      fill: #174EA6;\n",
              "    }\n",
              "\n",
              "    [theme=dark] .colab-df-convert {\n",
              "      background-color: #3B4455;\n",
              "      fill: #D2E3FC;\n",
              "    }\n",
              "\n",
              "    [theme=dark] .colab-df-convert:hover {\n",
              "      background-color: #434B5C;\n",
              "      box-shadow: 0px 1px 3px 1px rgba(0, 0, 0, 0.15);\n",
              "      filter: drop-shadow(0px 1px 2px rgba(0, 0, 0, 0.3));\n",
              "      fill: #FFFFFF;\n",
              "    }\n",
              "  </style>\n",
              "\n",
              "      <script>\n",
              "        const buttonEl =\n",
              "          document.querySelector('#df-39b29fbd-e670-46ca-928a-80be59248121 button.colab-df-convert');\n",
              "        buttonEl.style.display =\n",
              "          google.colab.kernel.accessAllowed ? 'block' : 'none';\n",
              "\n",
              "        async function convertToInteractive(key) {\n",
              "          const element = document.querySelector('#df-39b29fbd-e670-46ca-928a-80be59248121');\n",
              "          const dataTable =\n",
              "            await google.colab.kernel.invokeFunction('convertToInteractive',\n",
              "                                                     [key], {});\n",
              "          if (!dataTable) return;\n",
              "\n",
              "          const docLinkHtml = 'Like what you see? Visit the ' +\n",
              "            '<a target=\"_blank\" href=https://colab.research.google.com/notebooks/data_table.ipynb>data table notebook</a>'\n",
              "            + ' to learn more about interactive tables.';\n",
              "          element.innerHTML = '';\n",
              "          dataTable['output_type'] = 'display_data';\n",
              "          await google.colab.output.renderOutput(dataTable, element);\n",
              "          const docLink = document.createElement('div');\n",
              "          docLink.innerHTML = docLinkHtml;\n",
              "          element.appendChild(docLink);\n",
              "        }\n",
              "      </script>\n",
              "    </div>\n",
              "  </div>\n",
              "  "
            ]
          },
          "metadata": {},
          "execution_count": 2
        }
      ],
      "source": [
        "data_url = 'https://archive.ics.uci.edu/ml/machine-learning-databases/wine-quality/winequality-red.csv'\n",
        "data = pd.read_csv(data_url, sep=\";\")\n",
        "\n",
        "data.head()"
      ]
    },
    {
      "cell_type": "code",
      "source": [
        "data.columns"
      ],
      "metadata": {
        "colab": {
          "base_uri": "https://localhost:8080/"
        },
        "id": "yqFdXLwdNPS2",
        "outputId": "2f6915ab-8288-4dcb-9a79-1d36be5e86c9"
      },
      "id": "yqFdXLwdNPS2",
      "execution_count": null,
      "outputs": [
        {
          "output_type": "execute_result",
          "data": {
            "text/plain": [
              "Index(['fixed acidity', 'volatile acidity', 'citric acid', 'residual sugar',\n",
              "       'chlorides', 'free sulfur dioxide', 'total sulfur dioxide', 'density',\n",
              "       'pH', 'sulphates', 'alcohol', 'quality'],\n",
              "      dtype='object')"
            ]
          },
          "metadata": {},
          "execution_count": 3
        }
      ]
    },
    {
      "cell_type": "markdown",
      "source": [
        "### Data statistics"
      ],
      "metadata": {
        "id": "WlFudXqq7sEN"
      },
      "id": "WlFudXqq7sEN"
    },
    {
      "cell_type": "code",
      "execution_count": null,
      "id": "d05b4572",
      "metadata": {
        "id": "d05b4572",
        "colab": {
          "base_uri": "https://localhost:8080/"
        },
        "outputId": "49171c0d-820b-47d2-8b93-55fdaedf016f"
      },
      "outputs": [
        {
          "output_type": "stream",
          "name": "stdout",
          "text": [
            "<class 'pandas.core.frame.DataFrame'>\n",
            "RangeIndex: 1599 entries, 0 to 1598\n",
            "Data columns (total 12 columns):\n",
            " #   Column                Non-Null Count  Dtype  \n",
            "---  ------                --------------  -----  \n",
            " 0   fixed acidity         1599 non-null   float64\n",
            " 1   volatile acidity      1599 non-null   float64\n",
            " 2   citric acid           1599 non-null   float64\n",
            " 3   residual sugar        1599 non-null   float64\n",
            " 4   chlorides             1599 non-null   float64\n",
            " 5   free sulfur dioxide   1599 non-null   float64\n",
            " 6   total sulfur dioxide  1599 non-null   float64\n",
            " 7   density               1599 non-null   float64\n",
            " 8   pH                    1599 non-null   float64\n",
            " 9   sulphates             1599 non-null   float64\n",
            " 10  alcohol               1599 non-null   float64\n",
            " 11  quality               1599 non-null   int64  \n",
            "dtypes: float64(11), int64(1)\n",
            "memory usage: 150.0 KB\n"
          ]
        }
      ],
      "source": [
        "data.info()"
      ]
    },
    {
      "cell_type": "code",
      "source": [
        "data.describe()"
      ],
      "metadata": {
        "colab": {
          "base_uri": "https://localhost:8080/"
        },
        "id": "MbPr-XGt7yaj",
        "outputId": "3bb87297-40d5-4b07-fe41-3c1d47512598"
      },
      "id": "MbPr-XGt7yaj",
      "execution_count": null,
      "outputs": [
        {
          "output_type": "execute_result",
          "data": {
            "text/plain": [
              "       fixed acidity  volatile acidity  citric acid  residual sugar  \\\n",
              "count    1599.000000       1599.000000  1599.000000     1599.000000   \n",
              "mean        8.319637          0.527821     0.270976        2.538806   \n",
              "std         1.741096          0.179060     0.194801        1.409928   \n",
              "min         4.600000          0.120000     0.000000        0.900000   \n",
              "25%         7.100000          0.390000     0.090000        1.900000   \n",
              "50%         7.900000          0.520000     0.260000        2.200000   \n",
              "75%         9.200000          0.640000     0.420000        2.600000   \n",
              "max        15.900000          1.580000     1.000000       15.500000   \n",
              "\n",
              "         chlorides  free sulfur dioxide  total sulfur dioxide      density  \\\n",
              "count  1599.000000          1599.000000           1599.000000  1599.000000   \n",
              "mean      0.087467            15.874922             46.467792     0.996747   \n",
              "std       0.047065            10.460157             32.895324     0.001887   \n",
              "min       0.012000             1.000000              6.000000     0.990070   \n",
              "25%       0.070000             7.000000             22.000000     0.995600   \n",
              "50%       0.079000            14.000000             38.000000     0.996750   \n",
              "75%       0.090000            21.000000             62.000000     0.997835   \n",
              "max       0.611000            72.000000            289.000000     1.003690   \n",
              "\n",
              "                pH    sulphates      alcohol      quality  \n",
              "count  1599.000000  1599.000000  1599.000000  1599.000000  \n",
              "mean      3.311113     0.658149    10.422983     5.636023  \n",
              "std       0.154386     0.169507     1.065668     0.807569  \n",
              "min       2.740000     0.330000     8.400000     3.000000  \n",
              "25%       3.210000     0.550000     9.500000     5.000000  \n",
              "50%       3.310000     0.620000    10.200000     6.000000  \n",
              "75%       3.400000     0.730000    11.100000     6.000000  \n",
              "max       4.010000     2.000000    14.900000     8.000000  "
            ],
            "text/html": [
              "\n",
              "  <div id=\"df-8a6b046d-ed13-4c42-8172-c823729794e0\">\n",
              "    <div class=\"colab-df-container\">\n",
              "      <div>\n",
              "<style scoped>\n",
              "    .dataframe tbody tr th:only-of-type {\n",
              "        vertical-align: middle;\n",
              "    }\n",
              "\n",
              "    .dataframe tbody tr th {\n",
              "        vertical-align: top;\n",
              "    }\n",
              "\n",
              "    .dataframe thead th {\n",
              "        text-align: right;\n",
              "    }\n",
              "</style>\n",
              "<table border=\"1\" class=\"dataframe\">\n",
              "  <thead>\n",
              "    <tr style=\"text-align: right;\">\n",
              "      <th></th>\n",
              "      <th>fixed acidity</th>\n",
              "      <th>volatile acidity</th>\n",
              "      <th>citric acid</th>\n",
              "      <th>residual sugar</th>\n",
              "      <th>chlorides</th>\n",
              "      <th>free sulfur dioxide</th>\n",
              "      <th>total sulfur dioxide</th>\n",
              "      <th>density</th>\n",
              "      <th>pH</th>\n",
              "      <th>sulphates</th>\n",
              "      <th>alcohol</th>\n",
              "      <th>quality</th>\n",
              "    </tr>\n",
              "  </thead>\n",
              "  <tbody>\n",
              "    <tr>\n",
              "      <th>count</th>\n",
              "      <td>1599.000000</td>\n",
              "      <td>1599.000000</td>\n",
              "      <td>1599.000000</td>\n",
              "      <td>1599.000000</td>\n",
              "      <td>1599.000000</td>\n",
              "      <td>1599.000000</td>\n",
              "      <td>1599.000000</td>\n",
              "      <td>1599.000000</td>\n",
              "      <td>1599.000000</td>\n",
              "      <td>1599.000000</td>\n",
              "      <td>1599.000000</td>\n",
              "      <td>1599.000000</td>\n",
              "    </tr>\n",
              "    <tr>\n",
              "      <th>mean</th>\n",
              "      <td>8.319637</td>\n",
              "      <td>0.527821</td>\n",
              "      <td>0.270976</td>\n",
              "      <td>2.538806</td>\n",
              "      <td>0.087467</td>\n",
              "      <td>15.874922</td>\n",
              "      <td>46.467792</td>\n",
              "      <td>0.996747</td>\n",
              "      <td>3.311113</td>\n",
              "      <td>0.658149</td>\n",
              "      <td>10.422983</td>\n",
              "      <td>5.636023</td>\n",
              "    </tr>\n",
              "    <tr>\n",
              "      <th>std</th>\n",
              "      <td>1.741096</td>\n",
              "      <td>0.179060</td>\n",
              "      <td>0.194801</td>\n",
              "      <td>1.409928</td>\n",
              "      <td>0.047065</td>\n",
              "      <td>10.460157</td>\n",
              "      <td>32.895324</td>\n",
              "      <td>0.001887</td>\n",
              "      <td>0.154386</td>\n",
              "      <td>0.169507</td>\n",
              "      <td>1.065668</td>\n",
              "      <td>0.807569</td>\n",
              "    </tr>\n",
              "    <tr>\n",
              "      <th>min</th>\n",
              "      <td>4.600000</td>\n",
              "      <td>0.120000</td>\n",
              "      <td>0.000000</td>\n",
              "      <td>0.900000</td>\n",
              "      <td>0.012000</td>\n",
              "      <td>1.000000</td>\n",
              "      <td>6.000000</td>\n",
              "      <td>0.990070</td>\n",
              "      <td>2.740000</td>\n",
              "      <td>0.330000</td>\n",
              "      <td>8.400000</td>\n",
              "      <td>3.000000</td>\n",
              "    </tr>\n",
              "    <tr>\n",
              "      <th>25%</th>\n",
              "      <td>7.100000</td>\n",
              "      <td>0.390000</td>\n",
              "      <td>0.090000</td>\n",
              "      <td>1.900000</td>\n",
              "      <td>0.070000</td>\n",
              "      <td>7.000000</td>\n",
              "      <td>22.000000</td>\n",
              "      <td>0.995600</td>\n",
              "      <td>3.210000</td>\n",
              "      <td>0.550000</td>\n",
              "      <td>9.500000</td>\n",
              "      <td>5.000000</td>\n",
              "    </tr>\n",
              "    <tr>\n",
              "      <th>50%</th>\n",
              "      <td>7.900000</td>\n",
              "      <td>0.520000</td>\n",
              "      <td>0.260000</td>\n",
              "      <td>2.200000</td>\n",
              "      <td>0.079000</td>\n",
              "      <td>14.000000</td>\n",
              "      <td>38.000000</td>\n",
              "      <td>0.996750</td>\n",
              "      <td>3.310000</td>\n",
              "      <td>0.620000</td>\n",
              "      <td>10.200000</td>\n",
              "      <td>6.000000</td>\n",
              "    </tr>\n",
              "    <tr>\n",
              "      <th>75%</th>\n",
              "      <td>9.200000</td>\n",
              "      <td>0.640000</td>\n",
              "      <td>0.420000</td>\n",
              "      <td>2.600000</td>\n",
              "      <td>0.090000</td>\n",
              "      <td>21.000000</td>\n",
              "      <td>62.000000</td>\n",
              "      <td>0.997835</td>\n",
              "      <td>3.400000</td>\n",
              "      <td>0.730000</td>\n",
              "      <td>11.100000</td>\n",
              "      <td>6.000000</td>\n",
              "    </tr>\n",
              "    <tr>\n",
              "      <th>max</th>\n",
              "      <td>15.900000</td>\n",
              "      <td>1.580000</td>\n",
              "      <td>1.000000</td>\n",
              "      <td>15.500000</td>\n",
              "      <td>0.611000</td>\n",
              "      <td>72.000000</td>\n",
              "      <td>289.000000</td>\n",
              "      <td>1.003690</td>\n",
              "      <td>4.010000</td>\n",
              "      <td>2.000000</td>\n",
              "      <td>14.900000</td>\n",
              "      <td>8.000000</td>\n",
              "    </tr>\n",
              "  </tbody>\n",
              "</table>\n",
              "</div>\n",
              "      <button class=\"colab-df-convert\" onclick=\"convertToInteractive('df-8a6b046d-ed13-4c42-8172-c823729794e0')\"\n",
              "              title=\"Convert this dataframe to an interactive table.\"\n",
              "              style=\"display:none;\">\n",
              "        \n",
              "  <svg xmlns=\"http://www.w3.org/2000/svg\" height=\"24px\"viewBox=\"0 0 24 24\"\n",
              "       width=\"24px\">\n",
              "    <path d=\"M0 0h24v24H0V0z\" fill=\"none\"/>\n",
              "    <path d=\"M18.56 5.44l.94 2.06.94-2.06 2.06-.94-2.06-.94-.94-2.06-.94 2.06-2.06.94zm-11 1L8.5 8.5l.94-2.06 2.06-.94-2.06-.94L8.5 2.5l-.94 2.06-2.06.94zm10 10l.94 2.06.94-2.06 2.06-.94-2.06-.94-.94-2.06-.94 2.06-2.06.94z\"/><path d=\"M17.41 7.96l-1.37-1.37c-.4-.4-.92-.59-1.43-.59-.52 0-1.04.2-1.43.59L10.3 9.45l-7.72 7.72c-.78.78-.78 2.05 0 2.83L4 21.41c.39.39.9.59 1.41.59.51 0 1.02-.2 1.41-.59l7.78-7.78 2.81-2.81c.8-.78.8-2.07 0-2.86zM5.41 20L4 18.59l7.72-7.72 1.47 1.35L5.41 20z\"/>\n",
              "  </svg>\n",
              "      </button>\n",
              "      \n",
              "  <style>\n",
              "    .colab-df-container {\n",
              "      display:flex;\n",
              "      flex-wrap:wrap;\n",
              "      gap: 12px;\n",
              "    }\n",
              "\n",
              "    .colab-df-convert {\n",
              "      background-color: #E8F0FE;\n",
              "      border: none;\n",
              "      border-radius: 50%;\n",
              "      cursor: pointer;\n",
              "      display: none;\n",
              "      fill: #1967D2;\n",
              "      height: 32px;\n",
              "      padding: 0 0 0 0;\n",
              "      width: 32px;\n",
              "    }\n",
              "\n",
              "    .colab-df-convert:hover {\n",
              "      background-color: #E2EBFA;\n",
              "      box-shadow: 0px 1px 2px rgba(60, 64, 67, 0.3), 0px 1px 3px 1px rgba(60, 64, 67, 0.15);\n",
              "      fill: #174EA6;\n",
              "    }\n",
              "\n",
              "    [theme=dark] .colab-df-convert {\n",
              "      background-color: #3B4455;\n",
              "      fill: #D2E3FC;\n",
              "    }\n",
              "\n",
              "    [theme=dark] .colab-df-convert:hover {\n",
              "      background-color: #434B5C;\n",
              "      box-shadow: 0px 1px 3px 1px rgba(0, 0, 0, 0.15);\n",
              "      filter: drop-shadow(0px 1px 2px rgba(0, 0, 0, 0.3));\n",
              "      fill: #FFFFFF;\n",
              "    }\n",
              "  </style>\n",
              "\n",
              "      <script>\n",
              "        const buttonEl =\n",
              "          document.querySelector('#df-8a6b046d-ed13-4c42-8172-c823729794e0 button.colab-df-convert');\n",
              "        buttonEl.style.display =\n",
              "          google.colab.kernel.accessAllowed ? 'block' : 'none';\n",
              "\n",
              "        async function convertToInteractive(key) {\n",
              "          const element = document.querySelector('#df-8a6b046d-ed13-4c42-8172-c823729794e0');\n",
              "          const dataTable =\n",
              "            await google.colab.kernel.invokeFunction('convertToInteractive',\n",
              "                                                     [key], {});\n",
              "          if (!dataTable) return;\n",
              "\n",
              "          const docLinkHtml = 'Like what you see? Visit the ' +\n",
              "            '<a target=\"_blank\" href=https://colab.research.google.com/notebooks/data_table.ipynb>data table notebook</a>'\n",
              "            + ' to learn more about interactive tables.';\n",
              "          element.innerHTML = '';\n",
              "          dataTable['output_type'] = 'display_data';\n",
              "          await google.colab.output.renderOutput(dataTable, element);\n",
              "          const docLink = document.createElement('div');\n",
              "          docLink.innerHTML = docLinkHtml;\n",
              "          element.appendChild(docLink);\n",
              "        }\n",
              "      </script>\n",
              "    </div>\n",
              "  </div>\n",
              "  "
            ]
          },
          "metadata": {},
          "execution_count": 5
        }
      ]
    },
    {
      "cell_type": "code",
      "execution_count": null,
      "id": "4b9ed98c",
      "metadata": {
        "scrolled": true,
        "colab": {
          "base_uri": "https://localhost:8080/"
        },
        "id": "4b9ed98c",
        "outputId": "436d6312-5863-4ff2-8508-f2a3cc88b123"
      },
      "outputs": [
        {
          "output_type": "execute_result",
          "data": {
            "text/plain": [
              "5    681\n",
              "6    638\n",
              "7    199\n",
              "4     53\n",
              "8     18\n",
              "3     10\n",
              "Name: quality, dtype: int64"
            ]
          },
          "metadata": {},
          "execution_count": 6
        }
      ],
      "source": [
        "data['quality'].value_counts()"
      ]
    },
    {
      "cell_type": "code",
      "source": [
        "sns.set()\n",
        "data['quality'].hist()\n",
        "plt.xlabel('Wine Quality')\n",
        "plt.ylabel('Count')"
      ],
      "metadata": {
        "colab": {
          "base_uri": "https://localhost:8080/"
        },
        "id": "WNc891al8CSD",
        "outputId": "b158e3d7-9eca-48ef-e462-06880b01d024"
      },
      "id": "WNc891al8CSD",
      "execution_count": null,
      "outputs": [
        {
          "output_type": "execute_result",
          "data": {
            "text/plain": [
              "Text(0, 0.5, 'Count')"
            ]
          },
          "metadata": {},
          "execution_count": 7
        },
        {
          "output_type": "display_data",
          "data": {
            "text/plain": [
              "<Figure size 432x288 with 1 Axes>"
            ],
            "image/png": "[encoded data removed]"
          },
          "metadata": {}
        }
      ]
    },
    {
      "cell_type": "code",
      "source": [
        "sns.set()\n",
        "\n",
        "data[\"fixed acidity\"].hist()\n",
        "plt.xlabel(\"Fixed acidity\")\n",
        "plt.ylabel(\"count\")\n",
        "plt.title(\"csi wine data\")"
      ],
      "metadata": {
        "colab": {
          "base_uri": "https://localhost:8080/"
        },
        "id": "n0PDGURC8DKj",
        "outputId": "0d2f04d4-c4ae-490f-b5f9-e06d0e238da7"
      },
      "id": "n0PDGURC8DKj",
      "execution_count": null,
      "outputs": [
        {
          "output_type": "execute_result",
          "data": {
            "text/plain": [
              "Text(0.5, 1.0, 'csi wine data')"
            ]
          },
          "metadata": {},
          "execution_count": 8
        },
        {
          "output_type": "display_data",
          "data": {
            "text/plain": [
              "<Figure size 432x288 with 1 Axes>"
            ],
            "image/png": "[encoded data removed]"
          },
          "metadata": {}
        }
      ]
    },
    {
      "cell_type": "code",
      "source": [
        "data['total sulfur dioxide'].hist(bins=20)\n",
        "plt.xlabel('Total SO2')\n",
        "plt.ylabel('Count')"
      ],
      "metadata": {
        "colab": {
          "base_uri": "https://localhost:8080/"
        },
        "id": "AKVKe60J8aSs",
        "outputId": "39108aa8-c56a-4d89-8179-2b5889869b2e"
      },
      "id": "AKVKe60J8aSs",
      "execution_count": null,
      "outputs": [
        {
          "output_type": "execute_result",
          "data": {
            "text/plain": [
              "Text(0, 0.5, 'Count')"
            ]
          },
          "metadata": {},
          "execution_count": 9
        },
        {
          "output_type": "display_data",
          "data": {
            "text/plain": [
              "<Figure size 432x288 with 1 Axes>"
            ],
            "image/png": "[encoded data removed]"
          },
          "metadata": {}
        }
      ]
    },
    {
      "cell_type": "code",
      "execution_count": null,
      "id": "167d3481",
      "metadata": {
        "colab": {
          "base_uri": "https://localhost:8080/"
        },
        "id": "167d3481",
        "outputId": "2330cbef-6a5b-4658-e5e7-f8755bd43191"
      },
      "outputs": [
        {
          "output_type": "stream",
          "name": "stdout",
          "text": [
            "Features: ['fixed acidity' 'volatile acidity' 'citric acid' 'residual sugar'\n",
            " 'chlorides' 'free sulfur dioxide' 'total sulfur dioxide' 'density' 'pH'\n",
            " 'sulphates' 'alcohol']\n",
            "Label: quality\n"
          ]
        }
      ],
      "source": [
        "features = data.columns[:-1].values\n",
        "label = data.columns[-1]\n",
        "         \n",
        "print (\"Features:\", features)\n",
        "print (\"Label:\", label)"
      ]
    },
    {
      "cell_type": "markdown",
      "source": [
        "## Data preprocessing"
      ],
      "metadata": {
        "id": "FS5Oi35bLomY"
      },
      "id": "FS5Oi35bLomY"
    },
    {
      "cell_type": "markdown",
      "source": [
        "### data splitting funciton from scratch"
      ],
      "metadata": {
        "id": "e0BACnPJL72w"
      },
      "id": "e0BACnPJL72w"
    },
    {
      "cell_type": "code",
      "execution_count": null,
      "id": "e92f390f",
      "metadata": {
        "id": "e92f390f"
      },
      "outputs": [],
      "source": [
        "def split_train_test(data, test_ratio):\n",
        "    np.random.seed(42)\n",
        "    shuffled_indices = np.random.permutation(len(data))\n",
        "    \n",
        "    test_set_size = int(len(data) * test_ratio)\n",
        "    \n",
        "    test_indices = shuffled_indices[:test_set_size]\n",
        "    train_indices = shuffled_indices[test_set_size:]\n",
        "    \n",
        "    train_data, test_data = data.iloc[train_indices], data.iloc[test_indices]\n",
        "    \n",
        "    return train_data, test_data"
      ]
    },
    {
      "cell_type": "code",
      "execution_count": null,
      "id": "ded41cc7",
      "metadata": {
        "id": "ded41cc7"
      },
      "outputs": [],
      "source": [
        "train_data, test_data = split_train_test(data, 0.2)"
      ]
    },
    {
      "cell_type": "markdown",
      "id": "2b03203f",
      "metadata": {
        "id": "2b03203f"
      },
      "source": [
        "### data splitting using sklearn"
      ]
    },
    {
      "cell_type": "markdown",
      "source": [
        "####  Random sampling"
      ],
      "metadata": {
        "id": "G0pmZhCAWo4S"
      },
      "id": "G0pmZhCAWo4S"
    },
    {
      "cell_type": "code",
      "execution_count": null,
      "id": "01a30f14",
      "metadata": {
        "id": "01a30f14"
      },
      "outputs": [],
      "source": [
        "from sklearn.model_selection import train_test_split\n",
        "train_data, test_data = train_test_split(data,test_size=0.2, random_state=42)"
      ]
    },
    {
      "cell_type": "code",
      "execution_count": null,
      "id": "46ea236e",
      "metadata": {
        "id": "46ea236e"
      },
      "outputs": [],
      "source": [
        "random_dist = test_data[\"quality\"].value_counts() / len(test_data)"
      ]
    },
    {
      "cell_type": "code",
      "execution_count": null,
      "id": "99004a30",
      "metadata": {
        "id": "99004a30"
      },
      "outputs": [],
      "source": [
        "total_dist = data['quality'].value_counts() / len(data)"
      ]
    },
    {
      "cell_type": "code",
      "execution_count": null,
      "id": "115ed5d9",
      "metadata": {
        "id": "115ed5d9"
      },
      "outputs": [],
      "source": [
        "dist_comparison_random = pd.DataFrame({'overall': total_dist, 'random': random_dist})"
      ]
    },
    {
      "cell_type": "code",
      "execution_count": null,
      "id": "a0e2f0bd",
      "metadata": {
        "id": "a0e2f0bd"
      },
      "outputs": [],
      "source": [
        "dist_comparison_random['diff_random'] = (total_dist - random_dist)"
      ]
    },
    {
      "cell_type": "code",
      "execution_count": null,
      "id": "430603af",
      "metadata": {
        "id": "430603af"
      },
      "outputs": [],
      "source": [
        "dist_comparison_random['diff_pc_random'] = 100 * (total_dist - random_dist)/total_dist"
      ]
    },
    {
      "cell_type": "code",
      "execution_count": null,
      "id": "745bdacc",
      "metadata": {
        "colab": {
          "base_uri": "https://localhost:8080/"
        },
        "id": "745bdacc",
        "outputId": "4a2ee1a7-88ee-4bfe-911b-c6eb2143f29c"
      },
      "outputs": [
        {
          "output_type": "execute_result",
          "data": {
            "text/plain": [
              "    overall    random  diff_random  diff_pc_random\n",
              "3  0.006254  0.003125     0.003129       50.031250\n",
              "4  0.033146  0.031250     0.001896        5.719340\n",
              "5  0.425891  0.406250     0.019641        4.611784\n",
              "6  0.398999  0.412500    -0.013501       -3.383621\n",
              "7  0.124453  0.131250    -0.006797       -5.461683\n",
              "8  0.011257  0.015625    -0.004368      -38.802083"
            ],
            "text/html": [
              "\n",
              "  <div id=\"df-0d0ed843-ee49-46b4-95fd-b72cadd7a2fb\">\n",
              "    <div class=\"colab-df-container\">\n",
              "      <div>\n",
              "<style scoped>\n",
              "    .dataframe tbody tr th:only-of-type {\n",
              "        vertical-align: middle;\n",
              "    }\n",
              "\n",
              "    .dataframe tbody tr th {\n",
              "        vertical-align: top;\n",
              "    }\n",
              "\n",
              "    .dataframe thead th {\n",
              "        text-align: right;\n",
              "    }\n",
              "</style>\n",
              "<table border=\"1\" class=\"dataframe\">\n",
              "  <thead>\n",
              "    <tr style=\"text-align: right;\">\n",
              "      <th></th>\n",
              "      <th>overall</th>\n",
              "      <th>random</th>\n",
              "      <th>diff_random</th>\n",
              "      <th>diff_pc_random</th>\n",
              "    </tr>\n",
              "  </thead>\n",
              "  <tbody>\n",
              "    <tr>\n",
              "      <th>3</th>\n",
              "      <td>0.006254</td>\n",
              "      <td>0.003125</td>\n",
              "      <td>0.003129</td>\n",
              "      <td>50.031250</td>\n",
              "    </tr>\n",
              "    <tr>\n",
              "      <th>4</th>\n",
              "      <td>0.033146</td>\n",
              "      <td>0.031250</td>\n",
              "      <td>0.001896</td>\n",
              "      <td>5.719340</td>\n",
              "    </tr>\n",
              "    <tr>\n",
              "      <th>5</th>\n",
              "      <td>0.425891</td>\n",
              "      <td>0.406250</td>\n",
              "      <td>0.019641</td>\n",
              "      <td>4.611784</td>\n",
              "    </tr>\n",
              "    <tr>\n",
              "      <th>6</th>\n",
              "      <td>0.398999</td>\n",
              "      <td>0.412500</td>\n",
              "      <td>-0.013501</td>\n",
              "      <td>-3.383621</td>\n",
              "    </tr>\n",
              "    <tr>\n",
              "      <th>7</th>\n",
              "      <td>0.124453</td>\n",
              "      <td>0.131250</td>\n",
              "      <td>-0.006797</td>\n",
              "      <td>-5.461683</td>\n",
              "    </tr>\n",
              "    <tr>\n",
              "      <th>8</th>\n",
              "      <td>0.011257</td>\n",
              "      <td>0.015625</td>\n",
              "      <td>-0.004368</td>\n",
              "      <td>-38.802083</td>\n",
              "    </tr>\n",
              "  </tbody>\n",
              "</table>\n",
              "</div>\n",
              "      <button class=\"colab-df-convert\" onclick=\"convertToInteractive('df-0d0ed843-ee49-46b4-95fd-b72cadd7a2fb')\"\n",
              "              title=\"Convert this dataframe to an interactive table.\"\n",
              "              style=\"display:none;\">\n",
              "        \n",
              "  <svg xmlns=\"http://www.w3.org/2000/svg\" height=\"24px\"viewBox=\"0 0 24 24\"\n",
              "       width=\"24px\">\n",
              "    <path d=\"M0 0h24v24H0V0z\" fill=\"none\"/>\n",
              "    <path d=\"M18.56 5.44l.94 2.06.94-2.06 2.06-.94-2.06-.94-.94-2.06-.94 2.06-2.06.94zm-11 1L8.5 8.5l.94-2.06 2.06-.94-2.06-.94L8.5 2.5l-.94 2.06-2.06.94zm10 10l.94 2.06.94-2.06 2.06-.94-2.06-.94-.94-2.06-.94 2.06-2.06.94z\"/><path d=\"M17.41 7.96l-1.37-1.37c-.4-.4-.92-.59-1.43-.59-.52 0-1.04.2-1.43.59L10.3 9.45l-7.72 7.72c-.78.78-.78 2.05 0 2.83L4 21.41c.39.39.9.59 1.41.59.51 0 1.02-.2 1.41-.59l7.78-7.78 2.81-2.81c.8-.78.8-2.07 0-2.86zM5.41 20L4 18.59l7.72-7.72 1.47 1.35L5.41 20z\"/>\n",
              "  </svg>\n",
              "      </button>\n",
              "      \n",
              "  <style>\n",
              "    .colab-df-container {\n",
              "      display:flex;\n",
              "      flex-wrap:wrap;\n",
              "      gap: 12px;\n",
              "    }\n",
              "\n",
              "    .colab-df-convert {\n",
              "      background-color: #E8F0FE;\n",
              "      border: none;\n",
              "      border-radius: 50%;\n",
              "      cursor: pointer;\n",
              "      display: none;\n",
              "      fill: #1967D2;\n",
              "      height: 32px;\n",
              "      padding: 0 0 0 0;\n",
              "      width: 32px;\n",
              "    }\n",
              "\n",
              "    .colab-df-convert:hover {\n",
              "      background-color: #E2EBFA;\n",
              "      box-shadow: 0px 1px 2px rgba(60, 64, 67, 0.3), 0px 1px 3px 1px rgba(60, 64, 67, 0.15);\n",
              "      fill: #174EA6;\n",
              "    }\n",
              "\n",
              "    [theme=dark] .colab-df-convert {\n",
              "      background-color: #3B4455;\n",
              "      fill: #D2E3FC;\n",
              "    }\n",
              "\n",
              "    [theme=dark] .colab-df-convert:hover {\n",
              "      background-color: #434B5C;\n",
              "      box-shadow: 0px 1px 3px 1px rgba(0, 0, 0, 0.15);\n",
              "      filter: drop-shadow(0px 1px 2px rgba(0, 0, 0, 0.3));\n",
              "      fill: #FFFFFF;\n",
              "    }\n",
              "  </style>\n",
              "\n",
              "      <script>\n",
              "        const buttonEl =\n",
              "          document.querySelector('#df-0d0ed843-ee49-46b4-95fd-b72cadd7a2fb button.colab-df-convert');\n",
              "        buttonEl.style.display =\n",
              "          google.colab.kernel.accessAllowed ? 'block' : 'none';\n",
              "\n",
              "        async function convertToInteractive(key) {\n",
              "          const element = document.querySelector('#df-0d0ed843-ee49-46b4-95fd-b72cadd7a2fb');\n",
              "          const dataTable =\n",
              "            await google.colab.kernel.invokeFunction('convertToInteractive',\n",
              "                                                     [key], {});\n",
              "          if (!dataTable) return;\n",
              "\n",
              "          const docLinkHtml = 'Like what you see? Visit the ' +\n",
              "            '<a target=\"_blank\" href=https://colab.research.google.com/notebooks/data_table.ipynb>data table notebook</a>'\n",
              "            + ' to learn more about interactive tables.';\n",
              "          element.innerHTML = '';\n",
              "          dataTable['output_type'] = 'display_data';\n",
              "          await google.colab.output.renderOutput(dataTable, element);\n",
              "          const docLink = document.createElement('div');\n",
              "          docLink.innerHTML = docLinkHtml;\n",
              "          element.appendChild(docLink);\n",
              "        }\n",
              "      </script>\n",
              "    </div>\n",
              "  </div>\n",
              "  "
            ]
          },
          "metadata": {},
          "execution_count": 19
        }
      ],
      "source": [
        "dist_comparison_random"
      ]
    },
    {
      "cell_type": "markdown",
      "id": "f16ddb49",
      "metadata": {
        "id": "f16ddb49"
      },
      "source": [
        "#### Stratified sampling (as per distribution)"
      ]
    },
    {
      "cell_type": "code",
      "execution_count": null,
      "id": "1a6fadbb",
      "metadata": {
        "id": "1a6fadbb"
      },
      "outputs": [],
      "source": [
        "from sklearn.model_selection import StratifiedShuffleSplit\n",
        "split = StratifiedShuffleSplit(n_splits=1, test_size=0.2, random_state=42)\n",
        "\n",
        "\n",
        "for train_index, test_index in split.split(data, data[\"quality\"]):\n",
        "    strat_train_set = data.loc[train_index]\n",
        "    strat_test_set = data.loc[test_index]"
      ]
    },
    {
      "cell_type": "code",
      "execution_count": null,
      "id": "41fc201a",
      "metadata": {
        "id": "41fc201a"
      },
      "outputs": [],
      "source": [
        "strat_dist = strat_test_set[\"quality\"].value_counts() / len(strat_test_set) "
      ]
    },
    {
      "cell_type": "code",
      "execution_count": null,
      "id": "a5c06b7c",
      "metadata": {
        "id": "a5c06b7c"
      },
      "outputs": [],
      "source": [
        "total_dist = data['quality'].value_counts() / len(data)"
      ]
    },
    {
      "cell_type": "code",
      "execution_count": null,
      "id": "7ba29699",
      "metadata": {
        "id": "7ba29699"
      },
      "outputs": [],
      "source": [
        "dist_comparison = pd.DataFrame({'overall': total_dist, 'stratified': strat_dist})"
      ]
    },
    {
      "cell_type": "code",
      "execution_count": null,
      "id": "bd0707a1",
      "metadata": {
        "id": "bd0707a1"
      },
      "outputs": [],
      "source": [
        "dist_comparison['diff_stratified'] = (total_dist - strat_dist)"
      ]
    },
    {
      "cell_type": "code",
      "execution_count": null,
      "id": "9a71a571",
      "metadata": {
        "id": "9a71a571"
      },
      "outputs": [],
      "source": [
        "dist_comparison['diff_pc_stratified'] = 100 * (total_dist - strat_dist)/total_dist"
      ]
    },
    {
      "cell_type": "code",
      "execution_count": null,
      "id": "b0ec3eaf",
      "metadata": {
        "scrolled": false,
        "colab": {
          "base_uri": "https://localhost:8080/"
        },
        "id": "b0ec3eaf",
        "outputId": "6284fec2-221f-4f03-d89c-3ad588587f73"
      },
      "outputs": [
        {
          "output_type": "execute_result",
          "data": {
            "text/plain": [
              "    overall  stratified  diff_stratified  diff_pc_stratified\n",
              "5  0.425891    0.425000         0.000891            0.209251\n",
              "6  0.398999    0.400000        -0.001001           -0.250784\n",
              "7  0.124453    0.125000        -0.000547           -0.439698\n",
              "4  0.033146    0.034375        -0.001229           -3.708726\n",
              "8  0.011257    0.009375         0.001882           16.718750\n",
              "3  0.006254    0.006250         0.000004            0.062500"
            ],
            "text/html": [
              "\n",
              "  <div id=\"df-3838d3c6-2cfe-4882-bfe0-9af67f66bda7\">\n",
              "    <div class=\"colab-df-container\">\n",
              "      <div>\n",
              "<style scoped>\n",
              "    .dataframe tbody tr th:only-of-type {\n",
              "        vertical-align: middle;\n",
              "    }\n",
              "\n",
              "    .dataframe tbody tr th {\n",
              "        vertical-align: top;\n",
              "    }\n",
              "\n",
              "    .dataframe thead th {\n",
              "        text-align: right;\n",
              "    }\n",
              "</style>\n",
              "<table border=\"1\" class=\"dataframe\">\n",
              "  <thead>\n",
              "    <tr style=\"text-align: right;\">\n",
              "      <th></th>\n",
              "      <th>overall</th>\n",
              "      <th>stratified</th>\n",
              "      <th>diff_stratified</th>\n",
              "      <th>diff_pc_stratified</th>\n",
              "    </tr>\n",
              "  </thead>\n",
              "  <tbody>\n",
              "    <tr>\n",
              "      <th>5</th>\n",
              "      <td>0.425891</td>\n",
              "      <td>0.425000</td>\n",
              "      <td>0.000891</td>\n",
              "      <td>0.209251</td>\n",
              "    </tr>\n",
              "    <tr>\n",
              "      <th>6</th>\n",
              "      <td>0.398999</td>\n",
              "      <td>0.400000</td>\n",
              "      <td>-0.001001</td>\n",
              "      <td>-0.250784</td>\n",
              "    </tr>\n",
              "    <tr>\n",
              "      <th>7</th>\n",
              "      <td>0.124453</td>\n",
              "      <td>0.125000</td>\n",
              "      <td>-0.000547</td>\n",
              "      <td>-0.439698</td>\n",
              "    </tr>\n",
              "    <tr>\n",
              "      <th>4</th>\n",
              "      <td>0.033146</td>\n",
              "      <td>0.034375</td>\n",
              "      <td>-0.001229</td>\n",
              "      <td>-3.708726</td>\n",
              "    </tr>\n",
              "    <tr>\n",
              "      <th>8</th>\n",
              "      <td>0.011257</td>\n",
              "      <td>0.009375</td>\n",
              "      <td>0.001882</td>\n",
              "      <td>16.718750</td>\n",
              "    </tr>\n",
              "    <tr>\n",
              "      <th>3</th>\n",
              "      <td>0.006254</td>\n",
              "      <td>0.006250</td>\n",
              "      <td>0.000004</td>\n",
              "      <td>0.062500</td>\n",
              "    </tr>\n",
              "  </tbody>\n",
              "</table>\n",
              "</div>\n",
              "      <button class=\"colab-df-convert\" onclick=\"convertToInteractive('df-3838d3c6-2cfe-4882-bfe0-9af67f66bda7')\"\n",
              "              title=\"Convert this dataframe to an interactive table.\"\n",
              "              style=\"display:none;\">\n",
              "        \n",
              "  <svg xmlns=\"http://www.w3.org/2000/svg\" height=\"24px\"viewBox=\"0 0 24 24\"\n",
              "       width=\"24px\">\n",
              "    <path d=\"M0 0h24v24H0V0z\" fill=\"none\"/>\n",
              "    <path d=\"M18.56 5.44l.94 2.06.94-2.06 2.06-.94-2.06-.94-.94-2.06-.94 2.06-2.06.94zm-11 1L8.5 8.5l.94-2.06 2.06-.94-2.06-.94L8.5 2.5l-.94 2.06-2.06.94zm10 10l.94 2.06.94-2.06 2.06-.94-2.06-.94-.94-2.06-.94 2.06-2.06.94z\"/><path d=\"M17.41 7.96l-1.37-1.37c-.4-.4-.92-.59-1.43-.59-.52 0-1.04.2-1.43.59L10.3 9.45l-7.72 7.72c-.78.78-.78 2.05 0 2.83L4 21.41c.39.39.9.59 1.41.59.51 0 1.02-.2 1.41-.59l7.78-7.78 2.81-2.81c.8-.78.8-2.07 0-2.86zM5.41 20L4 18.59l7.72-7.72 1.47 1.35L5.41 20z\"/>\n",
              "  </svg>\n",
              "      </button>\n",
              "      \n",
              "  <style>\n",
              "    .colab-df-container {\n",
              "      display:flex;\n",
              "      flex-wrap:wrap;\n",
              "      gap: 12px;\n",
              "    }\n",
              "\n",
              "    .colab-df-convert {\n",
              "      background-color: #E8F0FE;\n",
              "      border: none;\n",
              "      border-radius: 50%;\n",
              "      cursor: pointer;\n",
              "      display: none;\n",
              "      fill: #1967D2;\n",
              "      height: 32px;\n",
              "      padding: 0 0 0 0;\n",
              "      width: 32px;\n",
              "    }\n",
              "\n",
              "    .colab-df-convert:hover {\n",
              "      background-color: #E2EBFA;\n",
              "      box-shadow: 0px 1px 2px rgba(60, 64, 67, 0.3), 0px 1px 3px 1px rgba(60, 64, 67, 0.15);\n",
              "      fill: #174EA6;\n",
              "    }\n",
              "\n",
              "    [theme=dark] .colab-df-convert {\n",
              "      background-color: #3B4455;\n",
              "      fill: #D2E3FC;\n",
              "    }\n",
              "\n",
              "    [theme=dark] .colab-df-convert:hover {\n",
              "      background-color: #434B5C;\n",
              "      box-shadow: 0px 1px 3px 1px rgba(0, 0, 0, 0.15);\n",
              "      filter: drop-shadow(0px 1px 2px rgba(0, 0, 0, 0.3));\n",
              "      fill: #FFFFFF;\n",
              "    }\n",
              "  </style>\n",
              "\n",
              "      <script>\n",
              "        const buttonEl =\n",
              "          document.querySelector('#df-3838d3c6-2cfe-4882-bfe0-9af67f66bda7 button.colab-df-convert');\n",
              "        buttonEl.style.display =\n",
              "          google.colab.kernel.accessAllowed ? 'block' : 'none';\n",
              "\n",
              "        async function convertToInteractive(key) {\n",
              "          const element = document.querySelector('#df-3838d3c6-2cfe-4882-bfe0-9af67f66bda7');\n",
              "          const dataTable =\n",
              "            await google.colab.kernel.invokeFunction('convertToInteractive',\n",
              "                                                     [key], {});\n",
              "          if (!dataTable) return;\n",
              "\n",
              "          const docLinkHtml = 'Like what you see? Visit the ' +\n",
              "            '<a target=\"_blank\" href=https://colab.research.google.com/notebooks/data_table.ipynb>data table notebook</a>'\n",
              "            + ' to learn more about interactive tables.';\n",
              "          element.innerHTML = '';\n",
              "          dataTable['output_type'] = 'display_data';\n",
              "          await google.colab.output.renderOutput(dataTable, element);\n",
              "          const docLink = document.createElement('div');\n",
              "          docLink.innerHTML = docLinkHtml;\n",
              "          element.appendChild(docLink);\n",
              "        }\n",
              "      </script>\n",
              "    </div>\n",
              "  </div>\n",
              "  "
            ]
          },
          "metadata": {},
          "execution_count": 26
        }
      ],
      "source": [
        "dist_comparison"
      ]
    },
    {
      "cell_type": "markdown",
      "source": [
        "### Stratified vs random sampling"
      ],
      "metadata": {
        "id": "fiierSNiHFFZ"
      },
      "id": "fiierSNiHFFZ"
    },
    {
      "cell_type": "code",
      "source": [
        "dist_comparison.insert(1, 'random', dist_comparison_random['random'])\n",
        "dist_comparison.insert(3, 'diff_random', dist_comparison_random['diff_random'])\n",
        "dist_comparison.insert(6, 'diff_pc_random', dist_comparison_random['diff_pc_random'])"
      ],
      "metadata": {
        "id": "F-4NdHa4G4eZ"
      },
      "id": "F-4NdHa4G4eZ",
      "execution_count": null,
      "outputs": []
    },
    {
      "cell_type": "code",
      "source": [
        "dist_comparison"
      ],
      "metadata": {
        "colab": {
          "base_uri": "https://localhost:8080/"
        },
        "id": "BgmfqW7-HMLw",
        "outputId": "571a0d8c-d707-405e-ae11-0d9902906a58"
      },
      "id": "BgmfqW7-HMLw",
      "execution_count": null,
      "outputs": [
        {
          "output_type": "execute_result",
          "data": {
            "text/plain": [
              "    overall    random  stratified  diff_random  diff_stratified  \\\n",
              "5  0.425891  0.406250    0.425000     0.019641         0.000891   \n",
              "6  0.398999  0.412500    0.400000    -0.013501        -0.001001   \n",
              "7  0.124453  0.131250    0.125000    -0.006797        -0.000547   \n",
              "4  0.033146  0.031250    0.034375     0.001896        -0.001229   \n",
              "8  0.011257  0.015625    0.009375    -0.004368         0.001882   \n",
              "3  0.006254  0.003125    0.006250     0.003129         0.000004   \n",
              "\n",
              "   diff_pc_stratified  diff_pc_random  \n",
              "5            0.209251        4.611784  \n",
              "6           -0.250784       -3.383621  \n",
              "7           -0.439698       -5.461683  \n",
              "4           -3.708726        5.719340  \n",
              "8           16.718750      -38.802083  \n",
              "3            0.062500       50.031250  "
            ],
            "text/html": [
              "\n",
              "  <div id=\"df-c6a17fb5-458f-452e-91be-3a8429a327bf\">\n",
              "    <div class=\"colab-df-container\">\n",
              "      <div>\n",
              "<style scoped>\n",
              "    .dataframe tbody tr th:only-of-type {\n",
              "        vertical-align: middle;\n",
              "    }\n",
              "\n",
              "    .dataframe tbody tr th {\n",
              "        vertical-align: top;\n",
              "    }\n",
              "\n",
              "    .dataframe thead th {\n",
              "        text-align: right;\n",
              "    }\n",
              "</style>\n",
              "<table border=\"1\" class=\"dataframe\">\n",
              "  <thead>\n",
              "    <tr style=\"text-align: right;\">\n",
              "      <th></th>\n",
              "      <th>overall</th>\n",
              "      <th>random</th>\n",
              "      <th>stratified</th>\n",
              "      <th>diff_random</th>\n",
              "      <th>diff_stratified</th>\n",
              "      <th>diff_pc_stratified</th>\n",
              "      <th>diff_pc_random</th>\n",
              "    </tr>\n",
              "  </thead>\n",
              "  <tbody>\n",
              "    <tr>\n",
              "      <th>5</th>\n",
              "      <td>0.425891</td>\n",
              "      <td>0.406250</td>\n",
              "      <td>0.425000</td>\n",
              "      <td>0.019641</td>\n",
              "      <td>0.000891</td>\n",
              "      <td>0.209251</td>\n",
              "      <td>4.611784</td>\n",
              "    </tr>\n",
              "    <tr>\n",
              "      <th>6</th>\n",
              "      <td>0.398999</td>\n",
              "      <td>0.412500</td>\n",
              "      <td>0.400000</td>\n",
              "      <td>-0.013501</td>\n",
              "      <td>-0.001001</td>\n",
              "      <td>-0.250784</td>\n",
              "      <td>-3.383621</td>\n",
              "    </tr>\n",
              "    <tr>\n",
              "      <th>7</th>\n",
              "      <td>0.124453</td>\n",
              "      <td>0.131250</td>\n",
              "      <td>0.125000</td>\n",
              "      <td>-0.006797</td>\n",
              "      <td>-0.000547</td>\n",
              "      <td>-0.439698</td>\n",
              "      <td>-5.461683</td>\n",
              "    </tr>\n",
              "    <tr>\n",
              "      <th>4</th>\n",
              "      <td>0.033146</td>\n",
              "      <td>0.031250</td>\n",
              "      <td>0.034375</td>\n",
              "      <td>0.001896</td>\n",
              "      <td>-0.001229</td>\n",
              "      <td>-3.708726</td>\n",
              "      <td>5.719340</td>\n",
              "    </tr>\n",
              "    <tr>\n",
              "      <th>8</th>\n",
              "      <td>0.011257</td>\n",
              "      <td>0.015625</td>\n",
              "      <td>0.009375</td>\n",
              "      <td>-0.004368</td>\n",
              "      <td>0.001882</td>\n",
              "      <td>16.718750</td>\n",
              "      <td>-38.802083</td>\n",
              "    </tr>\n",
              "    <tr>\n",
              "      <th>3</th>\n",
              "      <td>0.006254</td>\n",
              "      <td>0.003125</td>\n",
              "      <td>0.006250</td>\n",
              "      <td>0.003129</td>\n",
              "      <td>0.000004</td>\n",
              "      <td>0.062500</td>\n",
              "      <td>50.031250</td>\n",
              "    </tr>\n",
              "  </tbody>\n",
              "</table>\n",
              "</div>\n",
              "      <button class=\"colab-df-convert\" onclick=\"convertToInteractive('df-c6a17fb5-458f-452e-91be-3a8429a327bf')\"\n",
              "              title=\"Convert this dataframe to an interactive table.\"\n",
              "              style=\"display:none;\">\n",
              "        \n",
              "  <svg xmlns=\"http://www.w3.org/2000/svg\" height=\"24px\"viewBox=\"0 0 24 24\"\n",
              "       width=\"24px\">\n",
              "    <path d=\"M0 0h24v24H0V0z\" fill=\"none\"/>\n",
              "    <path d=\"M18.56 5.44l.94 2.06.94-2.06 2.06-.94-2.06-.94-.94-2.06-.94 2.06-2.06.94zm-11 1L8.5 8.5l.94-2.06 2.06-.94-2.06-.94L8.5 2.5l-.94 2.06-2.06.94zm10 10l.94 2.06.94-2.06 2.06-.94-2.06-.94-.94-2.06-.94 2.06-2.06.94z\"/><path d=\"M17.41 7.96l-1.37-1.37c-.4-.4-.92-.59-1.43-.59-.52 0-1.04.2-1.43.59L10.3 9.45l-7.72 7.72c-.78.78-.78 2.05 0 2.83L4 21.41c.39.39.9.59 1.41.59.51 0 1.02-.2 1.41-.59l7.78-7.78 2.81-2.81c.8-.78.8-2.07 0-2.86zM5.41 20L4 18.59l7.72-7.72 1.47 1.35L5.41 20z\"/>\n",
              "  </svg>\n",
              "      </button>\n",
              "      \n",
              "  <style>\n",
              "    .colab-df-container {\n",
              "      display:flex;\n",
              "      flex-wrap:wrap;\n",
              "      gap: 12px;\n",
              "    }\n",
              "\n",
              "    .colab-df-convert {\n",
              "      background-color: #E8F0FE;\n",
              "      border: none;\n",
              "      border-radius: 50%;\n",
              "      cursor: pointer;\n",
              "      display: none;\n",
              "      fill: #1967D2;\n",
              "      height: 32px;\n",
              "      padding: 0 0 0 0;\n",
              "      width: 32px;\n",
              "    }\n",
              "\n",
              "    .colab-df-convert:hover {\n",
              "      background-color: #E2EBFA;\n",
              "      box-shadow: 0px 1px 2px rgba(60, 64, 67, 0.3), 0px 1px 3px 1px rgba(60, 64, 67, 0.15);\n",
              "      fill: #174EA6;\n",
              "    }\n",
              "\n",
              "    [theme=dark] .colab-df-convert {\n",
              "      background-color: #3B4455;\n",
              "      fill: #D2E3FC;\n",
              "    }\n",
              "\n",
              "    [theme=dark] .colab-df-convert:hover {\n",
              "      background-color: #434B5C;\n",
              "      box-shadow: 0px 1px 3px 1px rgba(0, 0, 0, 0.15);\n",
              "      filter: drop-shadow(0px 1px 2px rgba(0, 0, 0, 0.3));\n",
              "      fill: #FFFFFF;\n",
              "    }\n",
              "  </style>\n",
              "\n",
              "      <script>\n",
              "        const buttonEl =\n",
              "          document.querySelector('#df-c6a17fb5-458f-452e-91be-3a8429a327bf button.colab-df-convert');\n",
              "        buttonEl.style.display =\n",
              "          google.colab.kernel.accessAllowed ? 'block' : 'none';\n",
              "\n",
              "        async function convertToInteractive(key) {\n",
              "          const element = document.querySelector('#df-c6a17fb5-458f-452e-91be-3a8429a327bf');\n",
              "          const dataTable =\n",
              "            await google.colab.kernel.invokeFunction('convertToInteractive',\n",
              "                                                     [key], {});\n",
              "          if (!dataTable) return;\n",
              "\n",
              "          const docLinkHtml = 'Like what you see? Visit the ' +\n",
              "            '<a target=\"_blank\" href=https://colab.research.google.com/notebooks/data_table.ipynb>data table notebook</a>'\n",
              "            + ' to learn more about interactive tables.';\n",
              "          element.innerHTML = '';\n",
              "          dataTable['output_type'] = 'display_data';\n",
              "          await google.colab.output.renderOutput(dataTable, element);\n",
              "          const docLink = document.createElement('div');\n",
              "          docLink.innerHTML = docLinkHtml;\n",
              "          element.appendChild(docLink);\n",
              "        }\n",
              "      </script>\n",
              "    </div>\n",
              "  </div>\n",
              "  "
            ]
          },
          "metadata": {},
          "execution_count": 28
        }
      ]
    },
    {
      "cell_type": "markdown",
      "id": "b803cea7",
      "metadata": {
        "id": "b803cea7"
      },
      "source": [
        "# Step 3: Data visualization\n",
        "    lec 1.2"
      ]
    },
    {
      "cell_type": "markdown",
      "id": "0e65b8a4",
      "metadata": {
        "id": "0e65b8a4"
      },
      "source": [
        "### Comparing random and stratified sampling."
      ]
    },
    {
      "cell_type": "code",
      "execution_count": null,
      "id": "7213dfd6",
      "metadata": {
        "scrolled": false,
        "colab": {
          "base_uri": "https://localhost:8080/"
        },
        "id": "7213dfd6",
        "outputId": "41e7b94b-4dd8-42f3-8e87-6b94dc577bc7"
      },
      "outputs": [
        {
          "output_type": "execute_result",
          "data": {
            "text/plain": [
              "    overall    random  stratified  diff_random  diff_stratified  \\\n",
              "5  0.425891  0.406250    0.425000     0.019641         0.000891   \n",
              "6  0.398999  0.412500    0.400000    -0.013501        -0.001001   \n",
              "7  0.124453  0.131250    0.125000    -0.006797        -0.000547   \n",
              "4  0.033146  0.031250    0.034375     0.001896        -0.001229   \n",
              "8  0.011257  0.015625    0.009375    -0.004368         0.001882   \n",
              "3  0.006254  0.003125    0.006250     0.003129         0.000004   \n",
              "\n",
              "   diff_pc_stratified  diff_pc_random  \n",
              "5            0.209251        4.611784  \n",
              "6           -0.250784       -3.383621  \n",
              "7           -0.439698       -5.461683  \n",
              "4           -3.708726        5.719340  \n",
              "8           16.718750      -38.802083  \n",
              "3            0.062500       50.031250  "
            ],
            "text/html": [
              "\n",
              "  <div id=\"df-2848d627-f2a0-4f41-a115-54bdae2568d4\">\n",
              "    <div class=\"colab-df-container\">\n",
              "      <div>\n",
              "<style scoped>\n",
              "    .dataframe tbody tr th:only-of-type {\n",
              "        vertical-align: middle;\n",
              "    }\n",
              "\n",
              "    .dataframe tbody tr th {\n",
              "        vertical-align: top;\n",
              "    }\n",
              "\n",
              "    .dataframe thead th {\n",
              "        text-align: right;\n",
              "    }\n",
              "</style>\n",
              "<table border=\"1\" class=\"dataframe\">\n",
              "  <thead>\n",
              "    <tr style=\"text-align: right;\">\n",
              "      <th></th>\n",
              "      <th>overall</th>\n",
              "      <th>random</th>\n",
              "      <th>stratified</th>\n",
              "      <th>diff_random</th>\n",
              "      <th>diff_stratified</th>\n",
              "      <th>diff_pc_stratified</th>\n",
              "      <th>diff_pc_random</th>\n",
              "    </tr>\n",
              "  </thead>\n",
              "  <tbody>\n",
              "    <tr>\n",
              "      <th>5</th>\n",
              "      <td>0.425891</td>\n",
              "      <td>0.406250</td>\n",
              "      <td>0.425000</td>\n",
              "      <td>0.019641</td>\n",
              "      <td>0.000891</td>\n",
              "      <td>0.209251</td>\n",
              "      <td>4.611784</td>\n",
              "    </tr>\n",
              "    <tr>\n",
              "      <th>6</th>\n",
              "      <td>0.398999</td>\n",
              "      <td>0.412500</td>\n",
              "      <td>0.400000</td>\n",
              "      <td>-0.013501</td>\n",
              "      <td>-0.001001</td>\n",
              "      <td>-0.250784</td>\n",
              "      <td>-3.383621</td>\n",
              "    </tr>\n",
              "    <tr>\n",
              "      <th>7</th>\n",
              "      <td>0.124453</td>\n",
              "      <td>0.131250</td>\n",
              "      <td>0.125000</td>\n",
              "      <td>-0.006797</td>\n",
              "      <td>-0.000547</td>\n",
              "      <td>-0.439698</td>\n",
              "      <td>-5.461683</td>\n",
              "    </tr>\n",
              "    <tr>\n",
              "      <th>4</th>\n",
              "      <td>0.033146</td>\n",
              "      <td>0.031250</td>\n",
              "      <td>0.034375</td>\n",
              "      <td>0.001896</td>\n",
              "      <td>-0.001229</td>\n",
              "      <td>-3.708726</td>\n",
              "      <td>5.719340</td>\n",
              "    </tr>\n",
              "    <tr>\n",
              "      <th>8</th>\n",
              "      <td>0.011257</td>\n",
              "      <td>0.015625</td>\n",
              "      <td>0.009375</td>\n",
              "      <td>-0.004368</td>\n",
              "      <td>0.001882</td>\n",
              "      <td>16.718750</td>\n",
              "      <td>-38.802083</td>\n",
              "    </tr>\n",
              "    <tr>\n",
              "      <th>3</th>\n",
              "      <td>0.006254</td>\n",
              "      <td>0.003125</td>\n",
              "      <td>0.006250</td>\n",
              "      <td>0.003129</td>\n",
              "      <td>0.000004</td>\n",
              "      <td>0.062500</td>\n",
              "      <td>50.031250</td>\n",
              "    </tr>\n",
              "  </tbody>\n",
              "</table>\n",
              "</div>\n",
              "      <button class=\"colab-df-convert\" onclick=\"convertToInteractive('df-2848d627-f2a0-4f41-a115-54bdae2568d4')\"\n",
              "              title=\"Convert this dataframe to an interactive table.\"\n",
              "              style=\"display:none;\">\n",
              "        \n",
              "  <svg xmlns=\"http://www.w3.org/2000/svg\" height=\"24px\"viewBox=\"0 0 24 24\"\n",
              "       width=\"24px\">\n",
              "    <path d=\"M0 0h24v24H0V0z\" fill=\"none\"/>\n",
              "    <path d=\"M18.56 5.44l.94 2.06.94-2.06 2.06-.94-2.06-.94-.94-2.06-.94 2.06-2.06.94zm-11 1L8.5 8.5l.94-2.06 2.06-.94-2.06-.94L8.5 2.5l-.94 2.06-2.06.94zm10 10l.94 2.06.94-2.06 2.06-.94-2.06-.94-.94-2.06-.94 2.06-2.06.94z\"/><path d=\"M17.41 7.96l-1.37-1.37c-.4-.4-.92-.59-1.43-.59-.52 0-1.04.2-1.43.59L10.3 9.45l-7.72 7.72c-.78.78-.78 2.05 0 2.83L4 21.41c.39.39.9.59 1.41.59.51 0 1.02-.2 1.41-.59l7.78-7.78 2.81-2.81c.8-.78.8-2.07 0-2.86zM5.41 20L4 18.59l7.72-7.72 1.47 1.35L5.41 20z\"/>\n",
              "  </svg>\n",
              "      </button>\n",
              "      \n",
              "  <style>\n",
              "    .colab-df-container {\n",
              "      display:flex;\n",
              "      flex-wrap:wrap;\n",
              "      gap: 12px;\n",
              "    }\n",
              "\n",
              "    .colab-df-convert {\n",
              "      background-color: #E8F0FE;\n",
              "      border: none;\n",
              "      border-radius: 50%;\n",
              "      cursor: pointer;\n",
              "      display: none;\n",
              "      fill: #1967D2;\n",
              "      height: 32px;\n",
              "      padding: 0 0 0 0;\n",
              "      width: 32px;\n",
              "    }\n",
              "\n",
              "    .colab-df-convert:hover {\n",
              "      background-color: #E2EBFA;\n",
              "      box-shadow: 0px 1px 2px rgba(60, 64, 67, 0.3), 0px 1px 3px 1px rgba(60, 64, 67, 0.15);\n",
              "      fill: #174EA6;\n",
              "    }\n",
              "\n",
              "    [theme=dark] .colab-df-convert {\n",
              "      background-color: #3B4455;\n",
              "      fill: #D2E3FC;\n",
              "    }\n",
              "\n",
              "    [theme=dark] .colab-df-convert:hover {\n",
              "      background-color: #434B5C;\n",
              "      box-shadow: 0px 1px 3px 1px rgba(0, 0, 0, 0.15);\n",
              "      filter: drop-shadow(0px 1px 2px rgba(0, 0, 0, 0.3));\n",
              "      fill: #FFFFFF;\n",
              "    }\n",
              "  </style>\n",
              "\n",
              "      <script>\n",
              "        const buttonEl =\n",
              "          document.querySelector('#df-2848d627-f2a0-4f41-a115-54bdae2568d4 button.colab-df-convert');\n",
              "        buttonEl.style.display =\n",
              "          google.colab.kernel.accessAllowed ? 'block' : 'none';\n",
              "\n",
              "        async function convertToInteractive(key) {\n",
              "          const element = document.querySelector('#df-2848d627-f2a0-4f41-a115-54bdae2568d4');\n",
              "          const dataTable =\n",
              "            await google.colab.kernel.invokeFunction('convertToInteractive',\n",
              "                                                     [key], {});\n",
              "          if (!dataTable) return;\n",
              "\n",
              "          const docLinkHtml = 'Like what you see? Visit the ' +\n",
              "            '<a target=\"_blank\" href=https://colab.research.google.com/notebooks/data_table.ipynb>data table notebook</a>'\n",
              "            + ' to learn more about interactive tables.';\n",
              "          element.innerHTML = '';\n",
              "          dataTable['output_type'] = 'display_data';\n",
              "          await google.colab.output.renderOutput(dataTable, element);\n",
              "          const docLink = document.createElement('div');\n",
              "          docLink.innerHTML = docLinkHtml;\n",
              "          element.appendChild(docLink);\n",
              "        }\n",
              "      </script>\n",
              "    </div>\n",
              "  </div>\n",
              "  "
            ]
          },
          "metadata": {},
          "execution_count": 29
        }
      ],
      "source": [
        "dist_comparison"
      ]
    },
    {
      "cell_type": "markdown",
      "source": [
        "### Data plotting\n",
        "\n",
        "` Since the dataset used is small, we use it as the \"exploration set\" instead of creating a new one`"
      ],
      "metadata": {
        "id": "Pb_bP7piHeGe"
      },
      "id": "Pb_bP7piHeGe"
    },
    {
      "cell_type": "code",
      "source": [
        "exploration_set = strat_train_set.copy()"
      ],
      "metadata": {
        "id": "AiniB0yJHgVH"
      },
      "id": "AiniB0yJHgVH",
      "execution_count": null,
      "outputs": []
    },
    {
      "cell_type": "code",
      "source": [
        "sns.scatterplot(x='fixed acidity', y='density', hue='quality', data=exploration_set)"
      ],
      "metadata": {
        "colab": {
          "base_uri": "https://localhost:8080/"
        },
        "id": "wvC2pOrQHquD",
        "outputId": "4ed31fea-c5cc-4b09-f9c6-5b4c9371ae50"
      },
      "id": "wvC2pOrQHquD",
      "execution_count": null,
      "outputs": [
        {
          "output_type": "execute_result",
          "data": {
            "text/plain": [
              "<matplotlib.axes._subplots.AxesSubplot at 0x7f6a6251d9d0>"
            ]
          },
          "metadata": {},
          "execution_count": 31
        },
        {
          "output_type": "display_data",
          "data": {
            "text/plain": [
              "<Figure size 432x288 with 1 Axes>"
            ],
            "image/png": "[encoded data removed]"
          },
          "metadata": {}
        }
      ]
    },
    {
      "cell_type": "code",
      "source": [
        "exploration_set.plot(kind=\"scatter\", x=\"fixed acidity\", y=\"density\", alpha=0.5, c=\"quality\", cmap=plt.get_cmap(\"jet\"))"
      ],
      "metadata": {
        "colab": {
          "base_uri": "https://localhost:8080/"
        },
        "id": "IUXjyt4jHtId",
        "outputId": "1b2d6bea-213a-4b85-f3ef-982fd144ef08"
      },
      "id": "IUXjyt4jHtId",
      "execution_count": null,
      "outputs": [
        {
          "output_type": "execute_result",
          "data": {
            "text/plain": [
              "<matplotlib.axes._subplots.AxesSubplot at 0x7f6a634d8b10>"
            ]
          },
          "metadata": {},
          "execution_count": 32
        },
        {
          "output_type": "display_data",
          "data": {
            "text/plain": [
              "<Figure size 432x288 with 2 Axes>"
            ],
            "image/png": "[encoded data removed]"
          },
          "metadata": {}
        }
      ]
    },
    {
      "cell_type": "markdown",
      "id": "78754268",
      "metadata": {
        "id": "78754268"
      },
      "source": [
        "### Correlation between features\n",
        "`correlation is useful for linear relationships;\n",
        "for non-linear rel. we use rank correlation`"
      ]
    },
    {
      "cell_type": "code",
      "execution_count": null,
      "id": "453a9ac8",
      "metadata": {
        "id": "453a9ac8"
      },
      "outputs": [],
      "source": [
        "exploration_set = strat_train_set.copy()"
      ]
    },
    {
      "cell_type": "code",
      "execution_count": null,
      "id": "be7c8e15",
      "metadata": {
        "id": "be7c8e15"
      },
      "outputs": [],
      "source": [
        "corr_matrix = exploration_set.corr()"
      ]
    },
    {
      "cell_type": "code",
      "execution_count": null,
      "id": "22072f29",
      "metadata": {
        "scrolled": true,
        "colab": {
          "base_uri": "https://localhost:8080/"
        },
        "id": "22072f29",
        "outputId": "76699f54-593e-4a1b-acfb-0bfa2491dc13"
      },
      "outputs": [
        {
          "output_type": "execute_result",
          "data": {
            "text/plain": [
              "fixed acidity           0.107940\n",
              "volatile acidity       -0.383249\n",
              "citric acid             0.210802\n",
              "residual sugar          0.003710\n",
              "chlorides              -0.120231\n",
              "free sulfur dioxide    -0.048291\n",
              "total sulfur dioxide   -0.194511\n",
              "density                -0.193009\n",
              "pH                     -0.052063\n",
              "sulphates               0.228050\n",
              "alcohol                 0.481197\n",
              "quality                 1.000000\n",
              "Name: quality, dtype: float64"
            ]
          },
          "metadata": {},
          "execution_count": 35
        }
      ],
      "source": [
        "# correlation of select feature (including quality) with other features\n",
        "corr_matrix['quality']"
      ]
    },
    {
      "cell_type": "code",
      "source": [
        "sns.heatmap(corr_matrix)"
      ],
      "metadata": {
        "colab": {
          "base_uri": "https://localhost:8080/"
        },
        "id": "3nwrqNEhId0-",
        "outputId": "518041f1-3003-4a74-a415-67cabb503ebb"
      },
      "id": "3nwrqNEhId0-",
      "execution_count": null,
      "outputs": [
        {
          "output_type": "execute_result",
          "data": {
            "text/plain": [
              "<matplotlib.axes._subplots.AxesSubplot at 0x7f6a60af4310>"
            ]
          },
          "metadata": {},
          "execution_count": 36
        },
        {
          "output_type": "display_data",
          "data": {
            "text/plain": [
              "<Figure size 432x288 with 2 Axes>"
            ],
            "image/png": "[encoded data removed]"
          },
          "metadata": {}
        }
      ]
    },
    {
      "cell_type": "code",
      "source": [
        "from pandas.plotting import scatter_matrix\n",
        "attribute_list = ['citric acid', 'pH', 'alcohol', 'sulphates', 'quality', 'fixed acidity']\n",
        "#semi-colon at the end of the below statement is used to ignore the text in the output.\n",
        "scatter_matrix(exploration_set[attribute_list], figsize=(12, 12), diagonal='kde', alpha=0.5);"
      ],
      "metadata": {
        "colab": {
          "base_uri": "https://localhost:8080/"
        },
        "id": "ZB8cQXusIiiT",
        "outputId": "59a667fb-c71d-4a7a-e580-bd5f30ecfa8f"
      },
      "id": "ZB8cQXusIiiT",
      "execution_count": null,
      "outputs": [
        {
          "output_type": "display_data",
          "data": {
            "text/plain": [
              "<Figure size 864x864 with 36 Axes>"
            ],
            "image/png": "[encoded data removed]"
          },
          "metadata": {}
        }
      ]
    },
    {
      "cell_type": "markdown",
      "id": "b25e9bab",
      "metadata": {
        "id": "b25e9bab"
      },
      "source": [
        "# Step 4: Prepare data for ML algorithm\n",
        "    lec 1.3"
      ]
    },
    {
      "cell_type": "markdown",
      "source": [
        "Preprocessing is required to make data usable for a model;\n",
        "* Data may have missing values due to errors in data collection\n",
        "* Different features may be on different scales and thus variance in weights may be high\n",
        "* Current distribution may not be fit for learning\n",
        "\n",
        "\n",
        "Thus, steps in data preprocessing are:\n",
        "* Separate features and labels\n",
        "* Feature imputation - handling missing values\n",
        "* Feature scaling\n",
        "* Feature transformation"
      ],
      "metadata": {
        "id": "pom006bP7DTx"
      },
      "id": "pom006bP7DTx"
    },
    {
      "cell_type": "markdown",
      "source": [
        "#### Separate features and labels"
      ],
      "metadata": {
        "id": "13MbPTy2-znN"
      },
      "id": "13MbPTy2-znN"
    },
    {
      "cell_type": "code",
      "execution_count": null,
      "id": "ca9d5a9b",
      "metadata": {
        "colab": {
          "base_uri": "https://localhost:8080/"
        },
        "id": "ca9d5a9b",
        "outputId": "d725ff7f-dda5-43ed-a233-dccb0eeef13b"
      },
      "outputs": [
        {
          "output_type": "execute_result",
          "data": {
            "text/plain": [
              "1542    6\n",
              "1558    5\n",
              "344     6\n",
              "924     5\n",
              "971     6\n",
              "       ..\n",
              "1056    7\n",
              "1394    5\n",
              "337     5\n",
              "539     5\n",
              "1083    6\n",
              "Name: quality, Length: 1279, dtype: int64"
            ]
          },
          "metadata": {},
          "execution_count": 38
        }
      ],
      "source": [
        "wine_features = strat_train_set.drop(\"quality\", axis=1)\n",
        "wine_labels = strat_train_set['quality'].copy()\n",
        "wine_labels"
      ]
    },
    {
      "cell_type": "code",
      "execution_count": null,
      "id": "6c8e970f",
      "metadata": {
        "scrolled": true,
        "colab": {
          "base_uri": "https://localhost:8080/"
        },
        "id": "6c8e970f",
        "outputId": "7b758904-2647-4796-f1c5-ea36d2597e26"
      },
      "outputs": [
        {
          "output_type": "execute_result",
          "data": {
            "text/plain": [
              "fixed acidity           0\n",
              "volatile acidity        0\n",
              "citric acid             0\n",
              "residual sugar          0\n",
              "chlorides               0\n",
              "free sulfur dioxide     0\n",
              "total sulfur dioxide    0\n",
              "density                 0\n",
              "pH                      0\n",
              "sulphates               0\n",
              "alcohol                 0\n",
              "dtype: int64"
            ]
          },
          "metadata": {},
          "execution_count": 39
        }
      ],
      "source": [
        "wine_features.isna().sum() # you may use dropna() or drop() from sklearn to drop rows containing missing values"
      ]
    },
    {
      "cell_type": "markdown",
      "id": "a6866acc",
      "metadata": {
        "id": "a6866acc"
      },
      "source": [
        "### Feature imputation\n",
        "\n",
        "* Deleting rows containing empty values maybe costly; Thus we impute missing data\n",
        "* Imputation can be done using median, mean, etc or neighboring values\n"
      ]
    },
    {
      "cell_type": "code",
      "execution_count": null,
      "id": "bd98de2b",
      "metadata": {
        "scrolled": true,
        "colab": {
          "base_uri": "https://localhost:8080/"
        },
        "id": "bd98de2b",
        "outputId": "802b8b0c-4045-4e30-a496-2f3c9d13c866"
      },
      "outputs": [
        {
          "output_type": "execute_result",
          "data": {
            "text/plain": [
              "(1279, 12)"
            ]
          },
          "metadata": {},
          "execution_count": 40
        }
      ],
      "source": [
        "#Forcing all rows with free sulfur dioxide less than 5 to NA, and we'll impute those values to median later.\n",
        "\n",
        "strat_train_set.loc[strat_train_set['free sulfur dioxide'] < 5, 'free sulfur dioxide'] = None\n",
        "strat_train_set.shape"
      ]
    },
    {
      "cell_type": "code",
      "execution_count": null,
      "id": "54c1e712",
      "metadata": {
        "colab": {
          "base_uri": "https://localhost:8080/"
        },
        "id": "54c1e712",
        "outputId": "1fa70cef-02f3-4beb-e1e2-90de94b1853b"
      },
      "outputs": [
        {
          "output_type": "execute_result",
          "data": {
            "text/plain": [
              "fixed acidity           0\n",
              "volatile acidity        0\n",
              "citric acid             0\n",
              "residual sugar          0\n",
              "chlorides               0\n",
              "free sulfur dioxide     0\n",
              "total sulfur dioxide    0\n",
              "density                 0\n",
              "pH                      0\n",
              "sulphates               0\n",
              "alcohol                 0\n",
              "dtype: int64"
            ]
          },
          "metadata": {},
          "execution_count": 41
        }
      ],
      "source": [
        "from sklearn.impute import SimpleImputer\n",
        "imputer = SimpleImputer(strategy=\"median\")\n",
        "imputer.fit(wine_features)\n",
        "wine_features.isna().sum()"
      ]
    },
    {
      "cell_type": "code",
      "execution_count": null,
      "id": "adfa842c",
      "metadata": {
        "colab": {
          "base_uri": "https://localhost:8080/"
        },
        "id": "adfa842c",
        "outputId": "e5ae5136-5189-4dcf-d974-c989d0bd253e"
      },
      "outputs": [
        {
          "output_type": "execute_result",
          "data": {
            "text/plain": [
              "array([ 7.9    ,  0.52   ,  0.26   ,  2.2    ,  0.08   , 14.     ,\n",
              "       39.     ,  0.99675,  3.31   ,  0.62   , 10.2    ])"
            ]
          },
          "metadata": {},
          "execution_count": 42
        }
      ],
      "source": [
        "imputer.statistics_"
      ]
    },
    {
      "cell_type": "code",
      "source": [
        "# we can verify values from the imputer statistics from median method\n",
        "wine_features.median()"
      ],
      "metadata": {
        "colab": {
          "base_uri": "https://localhost:8080/"
        },
        "id": "TjRmk3XV8MaJ",
        "outputId": "dce73d82-aec3-4325-dd18-3b911349851e"
      },
      "id": "TjRmk3XV8MaJ",
      "execution_count": null,
      "outputs": [
        {
          "output_type": "execute_result",
          "data": {
            "text/plain": [
              "fixed acidity            7.90000\n",
              "volatile acidity         0.52000\n",
              "citric acid              0.26000\n",
              "residual sugar           2.20000\n",
              "chlorides                0.08000\n",
              "free sulfur dioxide     14.00000\n",
              "total sulfur dioxide    39.00000\n",
              "density                  0.99675\n",
              "pH                       3.31000\n",
              "sulphates                0.62000\n",
              "alcohol                 10.20000\n",
              "dtype: float64"
            ]
          },
          "metadata": {},
          "execution_count": 43
        }
      ]
    },
    {
      "cell_type": "code",
      "execution_count": null,
      "id": "41e17e61",
      "metadata": {
        "colab": {
          "base_uri": "https://localhost:8080/"
        },
        "id": "41e17e61",
        "outputId": "3d552eba-489e-4252-94cd-22cebb32b883"
      },
      "outputs": [
        {
          "output_type": "execute_result",
          "data": {
            "text/plain": [
              "      fixed acidity  volatile acidity  citric acid  residual sugar  chlorides  \\\n",
              "1542            6.7             0.855         0.02             1.9      0.064   \n",
              "1558            6.9             0.630         0.33             6.7      0.235   \n",
              "344            11.9             0.570         0.50             2.6      0.082   \n",
              "924             8.6             0.470         0.27             2.3      0.055   \n",
              "971            10.4             0.260         0.48             1.9      0.066   \n",
              "\n",
              "      free sulfur dioxide  total sulfur dioxide  density    pH  sulphates  \\\n",
              "1542                 29.0                  38.0  0.99472  3.30       0.56   \n",
              "1558                 66.0                 115.0  0.99787  3.22       0.56   \n",
              "344                   6.0                  32.0  1.00060  3.12       0.78   \n",
              "924                  14.0                  28.0  0.99516  3.18       0.80   \n",
              "971                   6.0                  10.0  0.99724  3.33       0.87   \n",
              "\n",
              "      alcohol  \n",
              "1542    10.75  \n",
              "1558     9.50  \n",
              "344     10.70  \n",
              "924     11.20  \n",
              "971     10.90  "
            ],
            "text/html": [
              "\n",
              "  <div id=\"df-fc8c6eba-3f48-459f-8a17-6917a70e4cdb\">\n",
              "    <div class=\"colab-df-container\">\n",
              "      <div>\n",
              "<style scoped>\n",
              "    .dataframe tbody tr th:only-of-type {\n",
              "        vertical-align: middle;\n",
              "    }\n",
              "\n",
              "    .dataframe tbody tr th {\n",
              "        vertical-align: top;\n",
              "    }\n",
              "\n",
              "    .dataframe thead th {\n",
              "        text-align: right;\n",
              "    }\n",
              "</style>\n",
              "<table border=\"1\" class=\"dataframe\">\n",
              "  <thead>\n",
              "    <tr style=\"text-align: right;\">\n",
              "      <th></th>\n",
              "      <th>fixed acidity</th>\n",
              "      <th>volatile acidity</th>\n",
              "      <th>citric acid</th>\n",
              "      <th>residual sugar</th>\n",
              "      <th>chlorides</th>\n",
              "      <th>free sulfur dioxide</th>\n",
              "      <th>total sulfur dioxide</th>\n",
              "      <th>density</th>\n",
              "      <th>pH</th>\n",
              "      <th>sulphates</th>\n",
              "      <th>alcohol</th>\n",
              "    </tr>\n",
              "  </thead>\n",
              "  <tbody>\n",
              "    <tr>\n",
              "      <th>1542</th>\n",
              "      <td>6.7</td>\n",
              "      <td>0.855</td>\n",
              "      <td>0.02</td>\n",
              "      <td>1.9</td>\n",
              "      <td>0.064</td>\n",
              "      <td>29.0</td>\n",
              "      <td>38.0</td>\n",
              "      <td>0.99472</td>\n",
              "      <td>3.30</td>\n",
              "      <td>0.56</td>\n",
              "      <td>10.75</td>\n",
              "    </tr>\n",
              "    <tr>\n",
              "      <th>1558</th>\n",
              "      <td>6.9</td>\n",
              "      <td>0.630</td>\n",
              "      <td>0.33</td>\n",
              "      <td>6.7</td>\n",
              "      <td>0.235</td>\n",
              "      <td>66.0</td>\n",
              "      <td>115.0</td>\n",
              "      <td>0.99787</td>\n",
              "      <td>3.22</td>\n",
              "      <td>0.56</td>\n",
              "      <td>9.50</td>\n",
              "    </tr>\n",
              "    <tr>\n",
              "      <th>344</th>\n",
              "      <td>11.9</td>\n",
              "      <td>0.570</td>\n",
              "      <td>0.50</td>\n",
              "      <td>2.6</td>\n",
              "      <td>0.082</td>\n",
              "      <td>6.0</td>\n",
              "      <td>32.0</td>\n",
              "      <td>1.00060</td>\n",
              "      <td>3.12</td>\n",
              "      <td>0.78</td>\n",
              "      <td>10.70</td>\n",
              "    </tr>\n",
              "    <tr>\n",
              "      <th>924</th>\n",
              "      <td>8.6</td>\n",
              "      <td>0.470</td>\n",
              "      <td>0.27</td>\n",
              "      <td>2.3</td>\n",
              "      <td>0.055</td>\n",
              "      <td>14.0</td>\n",
              "      <td>28.0</td>\n",
              "      <td>0.99516</td>\n",
              "      <td>3.18</td>\n",
              "      <td>0.80</td>\n",
              "      <td>11.20</td>\n",
              "    </tr>\n",
              "    <tr>\n",
              "      <th>971</th>\n",
              "      <td>10.4</td>\n",
              "      <td>0.260</td>\n",
              "      <td>0.48</td>\n",
              "      <td>1.9</td>\n",
              "      <td>0.066</td>\n",
              "      <td>6.0</td>\n",
              "      <td>10.0</td>\n",
              "      <td>0.99724</td>\n",
              "      <td>3.33</td>\n",
              "      <td>0.87</td>\n",
              "      <td>10.90</td>\n",
              "    </tr>\n",
              "  </tbody>\n",
              "</table>\n",
              "</div>\n",
              "      <button class=\"colab-df-convert\" onclick=\"convertToInteractive('df-fc8c6eba-3f48-459f-8a17-6917a70e4cdb')\"\n",
              "              title=\"Convert this dataframe to an interactive table.\"\n",
              "              style=\"display:none;\">\n",
              "        \n",
              "  <svg xmlns=\"http://www.w3.org/2000/svg\" height=\"24px\"viewBox=\"0 0 24 24\"\n",
              "       width=\"24px\">\n",
              "    <path d=\"M0 0h24v24H0V0z\" fill=\"none\"/>\n",
              "    <path d=\"M18.56 5.44l.94 2.06.94-2.06 2.06-.94-2.06-.94-.94-2.06-.94 2.06-2.06.94zm-11 1L8.5 8.5l.94-2.06 2.06-.94-2.06-.94L8.5 2.5l-.94 2.06-2.06.94zm10 10l.94 2.06.94-2.06 2.06-.94-2.06-.94-.94-2.06-.94 2.06-2.06.94z\"/><path d=\"M17.41 7.96l-1.37-1.37c-.4-.4-.92-.59-1.43-.59-.52 0-1.04.2-1.43.59L10.3 9.45l-7.72 7.72c-.78.78-.78 2.05 0 2.83L4 21.41c.39.39.9.59 1.41.59.51 0 1.02-.2 1.41-.59l7.78-7.78 2.81-2.81c.8-.78.8-2.07 0-2.86zM5.41 20L4 18.59l7.72-7.72 1.47 1.35L5.41 20z\"/>\n",
              "  </svg>\n",
              "      </button>\n",
              "      \n",
              "  <style>\n",
              "    .colab-df-container {\n",
              "      display:flex;\n",
              "      flex-wrap:wrap;\n",
              "      gap: 12px;\n",
              "    }\n",
              "\n",
              "    .colab-df-convert {\n",
              "      background-color: #E8F0FE;\n",
              "      border: none;\n",
              "      border-radius: 50%;\n",
              "      cursor: pointer;\n",
              "      display: none;\n",
              "      fill: #1967D2;\n",
              "      height: 32px;\n",
              "      padding: 0 0 0 0;\n",
              "      width: 32px;\n",
              "    }\n",
              "\n",
              "    .colab-df-convert:hover {\n",
              "      background-color: #E2EBFA;\n",
              "      box-shadow: 0px 1px 2px rgba(60, 64, 67, 0.3), 0px 1px 3px 1px rgba(60, 64, 67, 0.15);\n",
              "      fill: #174EA6;\n",
              "    }\n",
              "\n",
              "    [theme=dark] .colab-df-convert {\n",
              "      background-color: #3B4455;\n",
              "      fill: #D2E3FC;\n",
              "    }\n",
              "\n",
              "    [theme=dark] .colab-df-convert:hover {\n",
              "      background-color: #434B5C;\n",
              "      box-shadow: 0px 1px 3px 1px rgba(0, 0, 0, 0.15);\n",
              "      filter: drop-shadow(0px 1px 2px rgba(0, 0, 0, 0.3));\n",
              "      fill: #FFFFFF;\n",
              "    }\n",
              "  </style>\n",
              "\n",
              "      <script>\n",
              "        const buttonEl =\n",
              "          document.querySelector('#df-fc8c6eba-3f48-459f-8a17-6917a70e4cdb button.colab-df-convert');\n",
              "        buttonEl.style.display =\n",
              "          google.colab.kernel.accessAllowed ? 'block' : 'none';\n",
              "\n",
              "        async function convertToInteractive(key) {\n",
              "          const element = document.querySelector('#df-fc8c6eba-3f48-459f-8a17-6917a70e4cdb');\n",
              "          const dataTable =\n",
              "            await google.colab.kernel.invokeFunction('convertToInteractive',\n",
              "                                                     [key], {});\n",
              "          if (!dataTable) return;\n",
              "\n",
              "          const docLinkHtml = 'Like what you see? Visit the ' +\n",
              "            '<a target=\"_blank\" href=https://colab.research.google.com/notebooks/data_table.ipynb>data table notebook</a>'\n",
              "            + ' to learn more about interactive tables.';\n",
              "          element.innerHTML = '';\n",
              "          dataTable['output_type'] = 'display_data';\n",
              "          await google.colab.output.renderOutput(dataTable, element);\n",
              "          const docLink = document.createElement('div');\n",
              "          docLink.innerHTML = docLinkHtml;\n",
              "          element.appendChild(docLink);\n",
              "        }\n",
              "      </script>\n",
              "    </div>\n",
              "  </div>\n",
              "  "
            ]
          },
          "metadata": {},
          "execution_count": 44
        }
      ],
      "source": [
        "type(wine_features)\n",
        "wine_features.head()"
      ]
    },
    {
      "cell_type": "code",
      "execution_count": null,
      "id": "50fa39f8",
      "metadata": {
        "colab": {
          "base_uri": "https://localhost:8080/"
        },
        "id": "50fa39f8",
        "outputId": "35d923c8-fbef-4ff7-e7f1-444e4b17208f"
      },
      "outputs": [
        {
          "output_type": "execute_result",
          "data": {
            "text/plain": [
              "fixed acidity            7.90000\n",
              "volatile acidity         0.52000\n",
              "citric acid              0.26000\n",
              "residual sugar           2.20000\n",
              "chlorides                0.08000\n",
              "free sulfur dioxide     14.00000\n",
              "total sulfur dioxide    39.00000\n",
              "density                  0.99675\n",
              "pH                       3.31000\n",
              "sulphates                0.62000\n",
              "alcohol                 10.20000\n",
              "dtype: float64"
            ]
          },
          "metadata": {},
          "execution_count": 45
        }
      ],
      "source": [
        "wine_features.median()"
      ]
    },
    {
      "cell_type": "code",
      "execution_count": null,
      "id": "55e8cf40",
      "metadata": {
        "id": "55e8cf40"
      },
      "outputs": [],
      "source": [
        "tr_features = imputer.transform(wine_features)"
      ]
    },
    {
      "cell_type": "code",
      "execution_count": null,
      "id": "6f335aa0",
      "metadata": {
        "id": "6f335aa0"
      },
      "outputs": [],
      "source": [
        "wine_features_tr = pd.DataFrame(tr_features, columns=wine_features.columns)"
      ]
    },
    {
      "cell_type": "code",
      "execution_count": null,
      "id": "0732827b",
      "metadata": {
        "scrolled": true,
        "colab": {
          "base_uri": "https://localhost:8080/"
        },
        "id": "0732827b",
        "outputId": "3cdb9596-d872-4837-be45-c073e1ad6926"
      },
      "outputs": [
        {
          "output_type": "execute_result",
          "data": {
            "text/plain": [
              "      fixed acidity  volatile acidity  citric acid  residual sugar  chlorides  \\\n",
              "0               6.7             0.855         0.02            1.90      0.064   \n",
              "1               6.9             0.630         0.33            6.70      0.235   \n",
              "2              11.9             0.570         0.50            2.60      0.082   \n",
              "3               8.6             0.470         0.27            2.30      0.055   \n",
              "4              10.4             0.260         0.48            1.90      0.066   \n",
              "...             ...               ...          ...             ...        ...   \n",
              "1274            8.9             0.480         0.53            4.00      0.101   \n",
              "1275            6.4             0.570         0.14            3.90      0.070   \n",
              "1276            7.8             0.430         0.32            2.80      0.080   \n",
              "1277           11.2             0.500         0.74            5.15      0.100   \n",
              "1278            8.7             0.420         0.45            2.40      0.072   \n",
              "\n",
              "      free sulfur dioxide  total sulfur dioxide  density    pH  sulphates  \\\n",
              "0                    29.0                  38.0  0.99472  3.30       0.56   \n",
              "1                    66.0                 115.0  0.99787  3.22       0.56   \n",
              "2                     6.0                  32.0  1.00060  3.12       0.78   \n",
              "3                    14.0                  28.0  0.99516  3.18       0.80   \n",
              "4                     6.0                  10.0  0.99724  3.33       0.87   \n",
              "...                   ...                   ...      ...   ...        ...   \n",
              "1274                  3.0                  10.0  0.99586  3.21       0.59   \n",
              "1275                 27.0                  73.0  0.99669  3.32       0.48   \n",
              "1276                 29.0                  58.0  0.99740  3.31       0.64   \n",
              "1277                  5.0                  17.0  0.99960  3.22       0.62   \n",
              "1278                 32.0                  59.0  0.99617  3.33       0.77   \n",
              "\n",
              "      alcohol  \n",
              "0       10.75  \n",
              "1        9.50  \n",
              "2       10.70  \n",
              "3       11.20  \n",
              "4       10.90  \n",
              "...       ...  \n",
              "1274    12.10  \n",
              "1275     9.20  \n",
              "1276    10.30  \n",
              "1277    11.20  \n",
              "1278    12.00  \n",
              "\n",
              "[1279 rows x 11 columns]"
            ],
            "text/html": [
              "\n",
              "  <div id=\"df-164dd32e-9342-487b-a79c-4d8fce45416b\">\n",
              "    <div class=\"colab-df-container\">\n",
              "      <div>\n",
              "<style scoped>\n",
              "    .dataframe tbody tr th:only-of-type {\n",
              "        vertical-align: middle;\n",
              "    }\n",
              "\n",
              "    .dataframe tbody tr th {\n",
              "        vertical-align: top;\n",
              "    }\n",
              "\n",
              "    .dataframe thead th {\n",
              "        text-align: right;\n",
              "    }\n",
              "</style>\n",
              "<table border=\"1\" class=\"dataframe\">\n",
              "  <thead>\n",
              "    <tr style=\"text-align: right;\">\n",
              "      <th></th>\n",
              "      <th>fixed acidity</th>\n",
              "      <th>volatile acidity</th>\n",
              "      <th>citric acid</th>\n",
              "      <th>residual sugar</th>\n",
              "      <th>chlorides</th>\n",
              "      <th>free sulfur dioxide</th>\n",
              "      <th>total sulfur dioxide</th>\n",
              "      <th>density</th>\n",
              "      <th>pH</th>\n",
              "      <th>sulphates</th>\n",
              "      <th>alcohol</th>\n",
              "    </tr>\n",
              "  </thead>\n",
              "  <tbody>\n",
              "    <tr>\n",
              "      <th>0</th>\n",
              "      <td>6.7</td>\n",
              "      <td>0.855</td>\n",
              "      <td>0.02</td>\n",
              "      <td>1.90</td>\n",
              "      <td>0.064</td>\n",
              "      <td>29.0</td>\n",
              "      <td>38.0</td>\n",
              "      <td>0.99472</td>\n",
              "      <td>3.30</td>\n",
              "      <td>0.56</td>\n",
              "      <td>10.75</td>\n",
              "    </tr>\n",
              "    <tr>\n",
              "      <th>1</th>\n",
              "      <td>6.9</td>\n",
              "      <td>0.630</td>\n",
              "      <td>0.33</td>\n",
              "      <td>6.70</td>\n",
              "      <td>0.235</td>\n",
              "      <td>66.0</td>\n",
              "      <td>115.0</td>\n",
              "      <td>0.99787</td>\n",
              "      <td>3.22</td>\n",
              "      <td>0.56</td>\n",
              "      <td>9.50</td>\n",
              "    </tr>\n",
              "    <tr>\n",
              "      <th>2</th>\n",
              "      <td>11.9</td>\n",
              "      <td>0.570</td>\n",
              "      <td>0.50</td>\n",
              "      <td>2.60</td>\n",
              "      <td>0.082</td>\n",
              "      <td>6.0</td>\n",
              "      <td>32.0</td>\n",
              "      <td>1.00060</td>\n",
              "      <td>3.12</td>\n",
              "      <td>0.78</td>\n",
              "      <td>10.70</td>\n",
              "    </tr>\n",
              "    <tr>\n",
              "      <th>3</th>\n",
              "      <td>8.6</td>\n",
              "      <td>0.470</td>\n",
              "      <td>0.27</td>\n",
              "      <td>2.30</td>\n",
              "      <td>0.055</td>\n",
              "      <td>14.0</td>\n",
              "      <td>28.0</td>\n",
              "      <td>0.99516</td>\n",
              "      <td>3.18</td>\n",
              "      <td>0.80</td>\n",
              "      <td>11.20</td>\n",
              "    </tr>\n",
              "    <tr>\n",
              "      <th>4</th>\n",
              "      <td>10.4</td>\n",
              "      <td>0.260</td>\n",
              "      <td>0.48</td>\n",
              "      <td>1.90</td>\n",
              "      <td>0.066</td>\n",
              "      <td>6.0</td>\n",
              "      <td>10.0</td>\n",
              "      <td>0.99724</td>\n",
              "      <td>3.33</td>\n",
              "      <td>0.87</td>\n",
              "      <td>10.90</td>\n",
              "    </tr>\n",
              "    <tr>\n",
              "      <th>...</th>\n",
              "      <td>...</td>\n",
              "      <td>...</td>\n",
              "      <td>...</td>\n",
              "      <td>...</td>\n",
              "      <td>...</td>\n",
              "      <td>...</td>\n",
              "      <td>...</td>\n",
              "      <td>...</td>\n",
              "      <td>...</td>\n",
              "      <td>...</td>\n",
              "      <td>...</td>\n",
              "    </tr>\n",
              "    <tr>\n",
              "      <th>1274</th>\n",
              "      <td>8.9</td>\n",
              "      <td>0.480</td>\n",
              "      <td>0.53</td>\n",
              "      <td>4.00</td>\n",
              "      <td>0.101</td>\n",
              "      <td>3.0</td>\n",
              "      <td>10.0</td>\n",
              "      <td>0.99586</td>\n",
              "      <td>3.21</td>\n",
              "      <td>0.59</td>\n",
              "      <td>12.10</td>\n",
              "    </tr>\n",
              "    <tr>\n",
              "      <th>1275</th>\n",
              "      <td>6.4</td>\n",
              "      <td>0.570</td>\n",
              "      <td>0.14</td>\n",
              "      <td>3.90</td>\n",
              "      <td>0.070</td>\n",
              "      <td>27.0</td>\n",
              "      <td>73.0</td>\n",
              "      <td>0.99669</td>\n",
              "      <td>3.32</td>\n",
              "      <td>0.48</td>\n",
              "      <td>9.20</td>\n",
              "    </tr>\n",
              "    <tr>\n",
              "      <th>1276</th>\n",
              "      <td>7.8</td>\n",
              "      <td>0.430</td>\n",
              "      <td>0.32</td>\n",
              "      <td>2.80</td>\n",
              "      <td>0.080</td>\n",
              "      <td>29.0</td>\n",
              "      <td>58.0</td>\n",
              "      <td>0.99740</td>\n",
              "      <td>3.31</td>\n",
              "      <td>0.64</td>\n",
              "      <td>10.30</td>\n",
              "    </tr>\n",
              "    <tr>\n",
              "      <th>1277</th>\n",
              "      <td>11.2</td>\n",
              "      <td>0.500</td>\n",
              "      <td>0.74</td>\n",
              "      <td>5.15</td>\n",
              "      <td>0.100</td>\n",
              "      <td>5.0</td>\n",
              "      <td>17.0</td>\n",
              "      <td>0.99960</td>\n",
              "      <td>3.22</td>\n",
              "      <td>0.62</td>\n",
              "      <td>11.20</td>\n",
              "    </tr>\n",
              "    <tr>\n",
              "      <th>1278</th>\n",
              "      <td>8.7</td>\n",
              "      <td>0.420</td>\n",
              "      <td>0.45</td>\n",
              "      <td>2.40</td>\n",
              "      <td>0.072</td>\n",
              "      <td>32.0</td>\n",
              "      <td>59.0</td>\n",
              "      <td>0.99617</td>\n",
              "      <td>3.33</td>\n",
              "      <td>0.77</td>\n",
              "      <td>12.00</td>\n",
              "    </tr>\n",
              "  </tbody>\n",
              "</table>\n",
              "<p>1279 rows × 11 columns</p>\n",
              "</div>\n",
              "      <button class=\"colab-df-convert\" onclick=\"convertToInteractive('df-164dd32e-9342-487b-a79c-4d8fce45416b')\"\n",
              "              title=\"Convert this dataframe to an interactive table.\"\n",
              "              style=\"display:none;\">\n",
              "        \n",
              "  <svg xmlns=\"http://www.w3.org/2000/svg\" height=\"24px\"viewBox=\"0 0 24 24\"\n",
              "       width=\"24px\">\n",
              "    <path d=\"M0 0h24v24H0V0z\" fill=\"none\"/>\n",
              "    <path d=\"M18.56 5.44l.94 2.06.94-2.06 2.06-.94-2.06-.94-.94-2.06-.94 2.06-2.06.94zm-11 1L8.5 8.5l.94-2.06 2.06-.94-2.06-.94L8.5 2.5l-.94 2.06-2.06.94zm10 10l.94 2.06.94-2.06 2.06-.94-2.06-.94-.94-2.06-.94 2.06-2.06.94z\"/><path d=\"M17.41 7.96l-1.37-1.37c-.4-.4-.92-.59-1.43-.59-.52 0-1.04.2-1.43.59L10.3 9.45l-7.72 7.72c-.78.78-.78 2.05 0 2.83L4 21.41c.39.39.9.59 1.41.59.51 0 1.02-.2 1.41-.59l7.78-7.78 2.81-2.81c.8-.78.8-2.07 0-2.86zM5.41 20L4 18.59l7.72-7.72 1.47 1.35L5.41 20z\"/>\n",
              "  </svg>\n",
              "      </button>\n",
              "      \n",
              "  <style>\n",
              "    .colab-df-container {\n",
              "      display:flex;\n",
              "      flex-wrap:wrap;\n",
              "      gap: 12px;\n",
              "    }\n",
              "\n",
              "    .colab-df-convert {\n",
              "      background-color: #E8F0FE;\n",
              "      border: none;\n",
              "      border-radius: 50%;\n",
              "      cursor: pointer;\n",
              "      display: none;\n",
              "      fill: #1967D2;\n",
              "      height: 32px;\n",
              "      padding: 0 0 0 0;\n",
              "      width: 32px;\n",
              "    }\n",
              "\n",
              "    .colab-df-convert:hover {\n",
              "      background-color: #E2EBFA;\n",
              "      box-shadow: 0px 1px 2px rgba(60, 64, 67, 0.3), 0px 1px 3px 1px rgba(60, 64, 67, 0.15);\n",
              "      fill: #174EA6;\n",
              "    }\n",
              "\n",
              "    [theme=dark] .colab-df-convert {\n",
              "      background-color: #3B4455;\n",
              "      fill: #D2E3FC;\n",
              "    }\n",
              "\n",
              "    [theme=dark] .colab-df-convert:hover {\n",
              "      background-color: #434B5C;\n",
              "      box-shadow: 0px 1px 3px 1px rgba(0, 0, 0, 0.15);\n",
              "      filter: drop-shadow(0px 1px 2px rgba(0, 0, 0, 0.3));\n",
              "      fill: #FFFFFF;\n",
              "    }\n",
              "  </style>\n",
              "\n",
              "      <script>\n",
              "        const buttonEl =\n",
              "          document.querySelector('#df-164dd32e-9342-487b-a79c-4d8fce45416b button.colab-df-convert');\n",
              "        buttonEl.style.display =\n",
              "          google.colab.kernel.accessAllowed ? 'block' : 'none';\n",
              "\n",
              "        async function convertToInteractive(key) {\n",
              "          const element = document.querySelector('#df-164dd32e-9342-487b-a79c-4d8fce45416b');\n",
              "          const dataTable =\n",
              "            await google.colab.kernel.invokeFunction('convertToInteractive',\n",
              "                                                     [key], {});\n",
              "          if (!dataTable) return;\n",
              "\n",
              "          const docLinkHtml = 'Like what you see? Visit the ' +\n",
              "            '<a target=\"_blank\" href=https://colab.research.google.com/notebooks/data_table.ipynb>data table notebook</a>'\n",
              "            + ' to learn more about interactive tables.';\n",
              "          element.innerHTML = '';\n",
              "          dataTable['output_type'] = 'display_data';\n",
              "          await google.colab.output.renderOutput(dataTable, element);\n",
              "          const docLink = document.createElement('div');\n",
              "          docLink.innerHTML = docLinkHtml;\n",
              "          element.appendChild(docLink);\n",
              "        }\n",
              "      </script>\n",
              "    </div>\n",
              "  </div>\n",
              "  "
            ]
          },
          "metadata": {},
          "execution_count": 48
        }
      ],
      "source": [
        "wine_features_tr"
      ]
    },
    {
      "cell_type": "code",
      "execution_count": null,
      "id": "137ef910",
      "metadata": {
        "scrolled": true,
        "colab": {
          "base_uri": "https://localhost:8080/"
        },
        "id": "137ef910",
        "outputId": "bcced9b5-12d7-4b37-d977-e63714830a9a"
      },
      "outputs": [
        {
          "output_type": "execute_result",
          "data": {
            "text/plain": [
              "       fixed acidity  volatile acidity  citric acid  residual sugar  \\\n",
              "count    1279.000000       1279.000000  1279.000000     1279.000000   \n",
              "mean        8.306489          0.528073     0.273878        2.543589   \n",
              "std         1.695325          0.177710     0.194902        1.375697   \n",
              "min         4.600000          0.120000     0.000000        0.900000   \n",
              "25%         7.100000          0.395000     0.100000        1.900000   \n",
              "50%         7.900000          0.520000     0.260000        2.200000   \n",
              "75%         9.300000          0.635000     0.430000        2.600000   \n",
              "max        15.900000          1.580000     1.000000       15.400000   \n",
              "\n",
              "         chlorides  free sulfur dioxide  total sulfur dioxide      density  \\\n",
              "count  1279.000000          1279.000000           1279.000000  1279.000000   \n",
              "mean      0.088934            16.127834             47.280688     0.996735   \n",
              "std       0.050981            10.473562             33.334786     0.001852   \n",
              "min       0.012000             1.000000              6.000000     0.990070   \n",
              "25%       0.070000             7.000000             22.000000     0.995600   \n",
              "50%       0.080000            14.000000             39.000000     0.996750   \n",
              "75%       0.091000            22.000000             64.000000     0.997800   \n",
              "max       0.611000            68.000000            289.000000     1.003690   \n",
              "\n",
              "                pH    sulphates      alcohol  \n",
              "count  1279.000000  1279.000000  1279.000000  \n",
              "mean      3.308585     0.663675    10.424446  \n",
              "std       0.151599     0.178360     1.065672  \n",
              "min       2.740000     0.370000     8.400000  \n",
              "25%       3.210000     0.550000     9.500000  \n",
              "50%       3.310000     0.620000    10.200000  \n",
              "75%       3.400000     0.740000    11.100000  \n",
              "max       3.900000     2.000000    14.900000  "
            ],
            "text/html": [
              "\n",
              "  <div id=\"df-43a92e4c-16da-4697-b8c4-e1e7b249d6dd\">\n",
              "    <div class=\"colab-df-container\">\n",
              "      <div>\n",
              "<style scoped>\n",
              "    .dataframe tbody tr th:only-of-type {\n",
              "        vertical-align: middle;\n",
              "    }\n",
              "\n",
              "    .dataframe tbody tr th {\n",
              "        vertical-align: top;\n",
              "    }\n",
              "\n",
              "    .dataframe thead th {\n",
              "        text-align: right;\n",
              "    }\n",
              "</style>\n",
              "<table border=\"1\" class=\"dataframe\">\n",
              "  <thead>\n",
              "    <tr style=\"text-align: right;\">\n",
              "      <th></th>\n",
              "      <th>fixed acidity</th>\n",
              "      <th>volatile acidity</th>\n",
              "      <th>citric acid</th>\n",
              "      <th>residual sugar</th>\n",
              "      <th>chlorides</th>\n",
              "      <th>free sulfur dioxide</th>\n",
              "      <th>total sulfur dioxide</th>\n",
              "      <th>density</th>\n",
              "      <th>pH</th>\n",
              "      <th>sulphates</th>\n",
              "      <th>alcohol</th>\n",
              "    </tr>\n",
              "  </thead>\n",
              "  <tbody>\n",
              "    <tr>\n",
              "      <th>count</th>\n",
              "      <td>1279.000000</td>\n",
              "      <td>1279.000000</td>\n",
              "      <td>1279.000000</td>\n",
              "      <td>1279.000000</td>\n",
              "      <td>1279.000000</td>\n",
              "      <td>1279.000000</td>\n",
              "      <td>1279.000000</td>\n",
              "      <td>1279.000000</td>\n",
              "      <td>1279.000000</td>\n",
              "      <td>1279.000000</td>\n",
              "      <td>1279.000000</td>\n",
              "    </tr>\n",
              "    <tr>\n",
              "      <th>mean</th>\n",
              "      <td>8.306489</td>\n",
              "      <td>0.528073</td>\n",
              "      <td>0.273878</td>\n",
              "      <td>2.543589</td>\n",
              "      <td>0.088934</td>\n",
              "      <td>16.127834</td>\n",
              "      <td>47.280688</td>\n",
              "      <td>0.996735</td>\n",
              "      <td>3.308585</td>\n",
              "      <td>0.663675</td>\n",
              "      <td>10.424446</td>\n",
              "    </tr>\n",
              "    <tr>\n",
              "      <th>std</th>\n",
              "      <td>1.695325</td>\n",
              "      <td>0.177710</td>\n",
              "      <td>0.194902</td>\n",
              "      <td>1.375697</td>\n",
              "      <td>0.050981</td>\n",
              "      <td>10.473562</td>\n",
              "      <td>33.334786</td>\n",
              "      <td>0.001852</td>\n",
              "      <td>0.151599</td>\n",
              "      <td>0.178360</td>\n",
              "      <td>1.065672</td>\n",
              "    </tr>\n",
              "    <tr>\n",
              "      <th>min</th>\n",
              "      <td>4.600000</td>\n",
              "      <td>0.120000</td>\n",
              "      <td>0.000000</td>\n",
              "      <td>0.900000</td>\n",
              "      <td>0.012000</td>\n",
              "      <td>1.000000</td>\n",
              "      <td>6.000000</td>\n",
              "      <td>0.990070</td>\n",
              "      <td>2.740000</td>\n",
              "      <td>0.370000</td>\n",
              "      <td>8.400000</td>\n",
              "    </tr>\n",
              "    <tr>\n",
              "      <th>25%</th>\n",
              "      <td>7.100000</td>\n",
              "      <td>0.395000</td>\n",
              "      <td>0.100000</td>\n",
              "      <td>1.900000</td>\n",
              "      <td>0.070000</td>\n",
              "      <td>7.000000</td>\n",
              "      <td>22.000000</td>\n",
              "      <td>0.995600</td>\n",
              "      <td>3.210000</td>\n",
              "      <td>0.550000</td>\n",
              "      <td>9.500000</td>\n",
              "    </tr>\n",
              "    <tr>\n",
              "      <th>50%</th>\n",
              "      <td>7.900000</td>\n",
              "      <td>0.520000</td>\n",
              "      <td>0.260000</td>\n",
              "      <td>2.200000</td>\n",
              "      <td>0.080000</td>\n",
              "      <td>14.000000</td>\n",
              "      <td>39.000000</td>\n",
              "      <td>0.996750</td>\n",
              "      <td>3.310000</td>\n",
              "      <td>0.620000</td>\n",
              "      <td>10.200000</td>\n",
              "    </tr>\n",
              "    <tr>\n",
              "      <th>75%</th>\n",
              "      <td>9.300000</td>\n",
              "      <td>0.635000</td>\n",
              "      <td>0.430000</td>\n",
              "      <td>2.600000</td>\n",
              "      <td>0.091000</td>\n",
              "      <td>22.000000</td>\n",
              "      <td>64.000000</td>\n",
              "      <td>0.997800</td>\n",
              "      <td>3.400000</td>\n",
              "      <td>0.740000</td>\n",
              "      <td>11.100000</td>\n",
              "    </tr>\n",
              "    <tr>\n",
              "      <th>max</th>\n",
              "      <td>15.900000</td>\n",
              "      <td>1.580000</td>\n",
              "      <td>1.000000</td>\n",
              "      <td>15.400000</td>\n",
              "      <td>0.611000</td>\n",
              "      <td>68.000000</td>\n",
              "      <td>289.000000</td>\n",
              "      <td>1.003690</td>\n",
              "      <td>3.900000</td>\n",
              "      <td>2.000000</td>\n",
              "      <td>14.900000</td>\n",
              "    </tr>\n",
              "  </tbody>\n",
              "</table>\n",
              "</div>\n",
              "      <button class=\"colab-df-convert\" onclick=\"convertToInteractive('df-43a92e4c-16da-4697-b8c4-e1e7b249d6dd')\"\n",
              "              title=\"Convert this dataframe to an interactive table.\"\n",
              "              style=\"display:none;\">\n",
              "        \n",
              "  <svg xmlns=\"http://www.w3.org/2000/svg\" height=\"24px\"viewBox=\"0 0 24 24\"\n",
              "       width=\"24px\">\n",
              "    <path d=\"M0 0h24v24H0V0z\" fill=\"none\"/>\n",
              "    <path d=\"M18.56 5.44l.94 2.06.94-2.06 2.06-.94-2.06-.94-.94-2.06-.94 2.06-2.06.94zm-11 1L8.5 8.5l.94-2.06 2.06-.94-2.06-.94L8.5 2.5l-.94 2.06-2.06.94zm10 10l.94 2.06.94-2.06 2.06-.94-2.06-.94-.94-2.06-.94 2.06-2.06.94z\"/><path d=\"M17.41 7.96l-1.37-1.37c-.4-.4-.92-.59-1.43-.59-.52 0-1.04.2-1.43.59L10.3 9.45l-7.72 7.72c-.78.78-.78 2.05 0 2.83L4 21.41c.39.39.9.59 1.41.59.51 0 1.02-.2 1.41-.59l7.78-7.78 2.81-2.81c.8-.78.8-2.07 0-2.86zM5.41 20L4 18.59l7.72-7.72 1.47 1.35L5.41 20z\"/>\n",
              "  </svg>\n",
              "      </button>\n",
              "      \n",
              "  <style>\n",
              "    .colab-df-container {\n",
              "      display:flex;\n",
              "      flex-wrap:wrap;\n",
              "      gap: 12px;\n",
              "    }\n",
              "\n",
              "    .colab-df-convert {\n",
              "      background-color: #E8F0FE;\n",
              "      border: none;\n",
              "      border-radius: 50%;\n",
              "      cursor: pointer;\n",
              "      display: none;\n",
              "      fill: #1967D2;\n",
              "      height: 32px;\n",
              "      padding: 0 0 0 0;\n",
              "      width: 32px;\n",
              "    }\n",
              "\n",
              "    .colab-df-convert:hover {\n",
              "      background-color: #E2EBFA;\n",
              "      box-shadow: 0px 1px 2px rgba(60, 64, 67, 0.3), 0px 1px 3px 1px rgba(60, 64, 67, 0.15);\n",
              "      fill: #174EA6;\n",
              "    }\n",
              "\n",
              "    [theme=dark] .colab-df-convert {\n",
              "      background-color: #3B4455;\n",
              "      fill: #D2E3FC;\n",
              "    }\n",
              "\n",
              "    [theme=dark] .colab-df-convert:hover {\n",
              "      background-color: #434B5C;\n",
              "      box-shadow: 0px 1px 3px 1px rgba(0, 0, 0, 0.15);\n",
              "      filter: drop-shadow(0px 1px 2px rgba(0, 0, 0, 0.3));\n",
              "      fill: #FFFFFF;\n",
              "    }\n",
              "  </style>\n",
              "\n",
              "      <script>\n",
              "        const buttonEl =\n",
              "          document.querySelector('#df-43a92e4c-16da-4697-b8c4-e1e7b249d6dd button.colab-df-convert');\n",
              "        buttonEl.style.display =\n",
              "          google.colab.kernel.accessAllowed ? 'block' : 'none';\n",
              "\n",
              "        async function convertToInteractive(key) {\n",
              "          const element = document.querySelector('#df-43a92e4c-16da-4697-b8c4-e1e7b249d6dd');\n",
              "          const dataTable =\n",
              "            await google.colab.kernel.invokeFunction('convertToInteractive',\n",
              "                                                     [key], {});\n",
              "          if (!dataTable) return;\n",
              "\n",
              "          const docLinkHtml = 'Like what you see? Visit the ' +\n",
              "            '<a target=\"_blank\" href=https://colab.research.google.com/notebooks/data_table.ipynb>data table notebook</a>'\n",
              "            + ' to learn more about interactive tables.';\n",
              "          element.innerHTML = '';\n",
              "          dataTable['output_type'] = 'display_data';\n",
              "          await google.colab.output.renderOutput(dataTable, element);\n",
              "          const docLink = document.createElement('div');\n",
              "          docLink.innerHTML = docLinkHtml;\n",
              "          element.appendChild(docLink);\n",
              "        }\n",
              "      </script>\n",
              "    </div>\n",
              "  </div>\n",
              "  "
            ]
          },
          "metadata": {},
          "execution_count": 49
        }
      ],
      "source": [
        "wine_features_tr.describe()"
      ]
    },
    {
      "cell_type": "markdown",
      "id": "270a0d14",
      "metadata": {
        "id": "270a0d14"
      },
      "source": [
        "### Encoding for categorical features"
      ]
    },
    {
      "cell_type": "code",
      "execution_count": null,
      "id": "e09471fc",
      "metadata": {
        "scrolled": true,
        "colab": {
          "base_uri": "https://localhost:8080/"
        },
        "id": "e09471fc",
        "outputId": "e94e7b20-09af-43f3-8e52-d06b5903e81d"
      },
      "outputs": [
        {
          "output_type": "execute_result",
          "data": {
            "text/plain": [
              "         0         1      2      3\n",
              "0      One       Two  Three   None\n",
              "1  January  February  March   None\n",
              "2  January       Two  Three   Four\n",
              "3      One  February  March  April"
            ],
            "text/html": [
              "\n",
              "  <div id=\"df-15cb2995-94b7-42ed-938b-e10739035d30\">\n",
              "    <div class=\"colab-df-container\">\n",
              "      <div>\n",
              "<style scoped>\n",
              "    .dataframe tbody tr th:only-of-type {\n",
              "        vertical-align: middle;\n",
              "    }\n",
              "\n",
              "    .dataframe tbody tr th {\n",
              "        vertical-align: top;\n",
              "    }\n",
              "\n",
              "    .dataframe thead th {\n",
              "        text-align: right;\n",
              "    }\n",
              "</style>\n",
              "<table border=\"1\" class=\"dataframe\">\n",
              "  <thead>\n",
              "    <tr style=\"text-align: right;\">\n",
              "      <th></th>\n",
              "      <th>0</th>\n",
              "      <th>1</th>\n",
              "      <th>2</th>\n",
              "      <th>3</th>\n",
              "    </tr>\n",
              "  </thead>\n",
              "  <tbody>\n",
              "    <tr>\n",
              "      <th>0</th>\n",
              "      <td>One</td>\n",
              "      <td>Two</td>\n",
              "      <td>Three</td>\n",
              "      <td>None</td>\n",
              "    </tr>\n",
              "    <tr>\n",
              "      <th>1</th>\n",
              "      <td>January</td>\n",
              "      <td>February</td>\n",
              "      <td>March</td>\n",
              "      <td>None</td>\n",
              "    </tr>\n",
              "    <tr>\n",
              "      <th>2</th>\n",
              "      <td>January</td>\n",
              "      <td>Two</td>\n",
              "      <td>Three</td>\n",
              "      <td>Four</td>\n",
              "    </tr>\n",
              "    <tr>\n",
              "      <th>3</th>\n",
              "      <td>One</td>\n",
              "      <td>February</td>\n",
              "      <td>March</td>\n",
              "      <td>April</td>\n",
              "    </tr>\n",
              "  </tbody>\n",
              "</table>\n",
              "</div>\n",
              "      <button class=\"colab-df-convert\" onclick=\"convertToInteractive('df-15cb2995-94b7-42ed-938b-e10739035d30')\"\n",
              "              title=\"Convert this dataframe to an interactive table.\"\n",
              "              style=\"display:none;\">\n",
              "        \n",
              "  <svg xmlns=\"http://www.w3.org/2000/svg\" height=\"24px\"viewBox=\"0 0 24 24\"\n",
              "       width=\"24px\">\n",
              "    <path d=\"M0 0h24v24H0V0z\" fill=\"none\"/>\n",
              "    <path d=\"M18.56 5.44l.94 2.06.94-2.06 2.06-.94-2.06-.94-.94-2.06-.94 2.06-2.06.94zm-11 1L8.5 8.5l.94-2.06 2.06-.94-2.06-.94L8.5 2.5l-.94 2.06-2.06.94zm10 10l.94 2.06.94-2.06 2.06-.94-2.06-.94-.94-2.06-.94 2.06-2.06.94z\"/><path d=\"M17.41 7.96l-1.37-1.37c-.4-.4-.92-.59-1.43-.59-.52 0-1.04.2-1.43.59L10.3 9.45l-7.72 7.72c-.78.78-.78 2.05 0 2.83L4 21.41c.39.39.9.59 1.41.59.51 0 1.02-.2 1.41-.59l7.78-7.78 2.81-2.81c.8-.78.8-2.07 0-2.86zM5.41 20L4 18.59l7.72-7.72 1.47 1.35L5.41 20z\"/>\n",
              "  </svg>\n",
              "      </button>\n",
              "      \n",
              "  <style>\n",
              "    .colab-df-container {\n",
              "      display:flex;\n",
              "      flex-wrap:wrap;\n",
              "      gap: 12px;\n",
              "    }\n",
              "\n",
              "    .colab-df-convert {\n",
              "      background-color: #E8F0FE;\n",
              "      border: none;\n",
              "      border-radius: 50%;\n",
              "      cursor: pointer;\n",
              "      display: none;\n",
              "      fill: #1967D2;\n",
              "      height: 32px;\n",
              "      padding: 0 0 0 0;\n",
              "      width: 32px;\n",
              "    }\n",
              "\n",
              "    .colab-df-convert:hover {\n",
              "      background-color: #E2EBFA;\n",
              "      box-shadow: 0px 1px 2px rgba(60, 64, 67, 0.3), 0px 1px 3px 1px rgba(60, 64, 67, 0.15);\n",
              "      fill: #174EA6;\n",
              "    }\n",
              "\n",
              "    [theme=dark] .colab-df-convert {\n",
              "      background-color: #3B4455;\n",
              "      fill: #D2E3FC;\n",
              "    }\n",
              "\n",
              "    [theme=dark] .colab-df-convert:hover {\n",
              "      background-color: #434B5C;\n",
              "      box-shadow: 0px 1px 3px 1px rgba(0, 0, 0, 0.15);\n",
              "      filter: drop-shadow(0px 1px 2px rgba(0, 0, 0, 0.3));\n",
              "      fill: #FFFFFF;\n",
              "    }\n",
              "  </style>\n",
              "\n",
              "      <script>\n",
              "        const buttonEl =\n",
              "          document.querySelector('#df-15cb2995-94b7-42ed-938b-e10739035d30 button.colab-df-convert');\n",
              "        buttonEl.style.display =\n",
              "          google.colab.kernel.accessAllowed ? 'block' : 'none';\n",
              "\n",
              "        async function convertToInteractive(key) {\n",
              "          const element = document.querySelector('#df-15cb2995-94b7-42ed-938b-e10739035d30');\n",
              "          const dataTable =\n",
              "            await google.colab.kernel.invokeFunction('convertToInteractive',\n",
              "                                                     [key], {});\n",
              "          if (!dataTable) return;\n",
              "\n",
              "          const docLinkHtml = 'Like what you see? Visit the ' +\n",
              "            '<a target=\"_blank\" href=https://colab.research.google.com/notebooks/data_table.ipynb>data table notebook</a>'\n",
              "            + ' to learn more about interactive tables.';\n",
              "          element.innerHTML = '';\n",
              "          dataTable['output_type'] = 'display_data';\n",
              "          await google.colab.output.renderOutput(dataTable, element);\n",
              "          const docLink = document.createElement('div');\n",
              "          docLink.innerHTML = docLinkHtml;\n",
              "          element.appendChild(docLink);\n",
              "        }\n",
              "      </script>\n",
              "    </div>\n",
              "  </div>\n",
              "  "
            ]
          },
          "metadata": {},
          "execution_count": 50
        }
      ],
      "source": [
        "data = pd.DataFrame([['One', 'Two', 'Three'],['January', 'February', 'March'],['January', 'Two', 'Three','Four'],['One', 'February', 'March', 'April']])\n",
        "data"
      ]
    },
    {
      "cell_type": "markdown",
      "source": [
        "#### OrdinalEncoder\n",
        "\n",
        "Features can be ordinally encoded and accessed through categories_instance\n",
        "* ML algo would assume 2 nearby values are closed than distinct ones\n",
        "\n",
        "Then we can use OnHotEncoder\n",
        "* When the data is one-hot encoded, there're as many columns in the encoded form as there are unique values in the data (including None)"
      ],
      "metadata": {
        "id": "jNhYHwXEAn1G"
      },
      "id": "jNhYHwXEAn1G"
    },
    {
      "cell_type": "code",
      "execution_count": null,
      "id": "0fad481d",
      "metadata": {
        "id": "0fad481d",
        "colab": {
          "base_uri": "https://localhost:8080/"
        },
        "outputId": "7779af33-1855-4c0c-f694-7736e184511f"
      },
      "outputs": [
        {
          "output_type": "stream",
          "name": "stdout",
          "text": [
            "[[1. 1. 1. 2.]\n",
            " [0. 0. 0. 2.]\n",
            " [0. 1. 1. 1.]\n",
            " [1. 0. 0. 0.]]\n"
          ]
        }
      ],
      "source": [
        "from sklearn.preprocessing import OrdinalEncoder\n",
        "ord_encoder = OrdinalEncoder()\n",
        "ord = ord_encoder.fit_transform(data)\n",
        "print(ord)"
      ]
    },
    {
      "cell_type": "code",
      "execution_count": null,
      "id": "bfb1a647",
      "metadata": {
        "scrolled": false,
        "colab": {
          "base_uri": "https://localhost:8080/"
        },
        "id": "bfb1a647",
        "outputId": "6727ffe5-037b-45dc-efcd-45bb0573d85e"
      },
      "outputs": [
        {
          "output_type": "execute_result",
          "data": {
            "text/plain": [
              "[array(['January', 'One'], dtype=object),\n",
              " array(['February', 'Two'], dtype=object),\n",
              " array(['March', 'Three'], dtype=object),\n",
              " array(['April', 'Four', None], dtype=object)]"
            ]
          },
          "metadata": {},
          "execution_count": 52
        }
      ],
      "source": [
        "ord_encoder.categories_"
      ]
    },
    {
      "cell_type": "markdown",
      "id": "b385c5b1",
      "metadata": {
        "id": "b385c5b1"
      },
      "source": [
        "#### OneHotEncoder  for categorical features"
      ]
    },
    {
      "cell_type": "code",
      "execution_count": null,
      "id": "88725d2a",
      "metadata": {
        "scrolled": true,
        "colab": {
          "base_uri": "https://localhost:8080/"
        },
        "id": "88725d2a",
        "outputId": "a40dd2e4-e2c9-437b-ac0d-d5ed08b7acbe"
      },
      "outputs": [
        {
          "output_type": "execute_result",
          "data": {
            "text/plain": [
              "         0         1      2      3\n",
              "0      One       Two  Three   None\n",
              "1  January  February  March   None\n",
              "2  January       Two  Three   Four\n",
              "3      One  February  March  April"
            ],
            "text/html": [
              "\n",
              "  <div id=\"df-25ab70a2-14c3-458b-be76-2ba5645a16d0\">\n",
              "    <div class=\"colab-df-container\">\n",
              "      <div>\n",
              "<style scoped>\n",
              "    .dataframe tbody tr th:only-of-type {\n",
              "        vertical-align: middle;\n",
              "    }\n",
              "\n",
              "    .dataframe tbody tr th {\n",
              "        vertical-align: top;\n",
              "    }\n",
              "\n",
              "    .dataframe thead th {\n",
              "        text-align: right;\n",
              "    }\n",
              "</style>\n",
              "<table border=\"1\" class=\"dataframe\">\n",
              "  <thead>\n",
              "    <tr style=\"text-align: right;\">\n",
              "      <th></th>\n",
              "      <th>0</th>\n",
              "      <th>1</th>\n",
              "      <th>2</th>\n",
              "      <th>3</th>\n",
              "    </tr>\n",
              "  </thead>\n",
              "  <tbody>\n",
              "    <tr>\n",
              "      <th>0</th>\n",
              "      <td>One</td>\n",
              "      <td>Two</td>\n",
              "      <td>Three</td>\n",
              "      <td>None</td>\n",
              "    </tr>\n",
              "    <tr>\n",
              "      <th>1</th>\n",
              "      <td>January</td>\n",
              "      <td>February</td>\n",
              "      <td>March</td>\n",
              "      <td>None</td>\n",
              "    </tr>\n",
              "    <tr>\n",
              "      <th>2</th>\n",
              "      <td>January</td>\n",
              "      <td>Two</td>\n",
              "      <td>Three</td>\n",
              "      <td>Four</td>\n",
              "    </tr>\n",
              "    <tr>\n",
              "      <th>3</th>\n",
              "      <td>One</td>\n",
              "      <td>February</td>\n",
              "      <td>March</td>\n",
              "      <td>April</td>\n",
              "    </tr>\n",
              "  </tbody>\n",
              "</table>\n",
              "</div>\n",
              "      <button class=\"colab-df-convert\" onclick=\"convertToInteractive('df-25ab70a2-14c3-458b-be76-2ba5645a16d0')\"\n",
              "              title=\"Convert this dataframe to an interactive table.\"\n",
              "              style=\"display:none;\">\n",
              "        \n",
              "  <svg xmlns=\"http://www.w3.org/2000/svg\" height=\"24px\"viewBox=\"0 0 24 24\"\n",
              "       width=\"24px\">\n",
              "    <path d=\"M0 0h24v24H0V0z\" fill=\"none\"/>\n",
              "    <path d=\"M18.56 5.44l.94 2.06.94-2.06 2.06-.94-2.06-.94-.94-2.06-.94 2.06-2.06.94zm-11 1L8.5 8.5l.94-2.06 2.06-.94-2.06-.94L8.5 2.5l-.94 2.06-2.06.94zm10 10l.94 2.06.94-2.06 2.06-.94-2.06-.94-.94-2.06-.94 2.06-2.06.94z\"/><path d=\"M17.41 7.96l-1.37-1.37c-.4-.4-.92-.59-1.43-.59-.52 0-1.04.2-1.43.59L10.3 9.45l-7.72 7.72c-.78.78-.78 2.05 0 2.83L4 21.41c.39.39.9.59 1.41.59.51 0 1.02-.2 1.41-.59l7.78-7.78 2.81-2.81c.8-.78.8-2.07 0-2.86zM5.41 20L4 18.59l7.72-7.72 1.47 1.35L5.41 20z\"/>\n",
              "  </svg>\n",
              "      </button>\n",
              "      \n",
              "  <style>\n",
              "    .colab-df-container {\n",
              "      display:flex;\n",
              "      flex-wrap:wrap;\n",
              "      gap: 12px;\n",
              "    }\n",
              "\n",
              "    .colab-df-convert {\n",
              "      background-color: #E8F0FE;\n",
              "      border: none;\n",
              "      border-radius: 50%;\n",
              "      cursor: pointer;\n",
              "      display: none;\n",
              "      fill: #1967D2;\n",
              "      height: 32px;\n",
              "      padding: 0 0 0 0;\n",
              "      width: 32px;\n",
              "    }\n",
              "\n",
              "    .colab-df-convert:hover {\n",
              "      background-color: #E2EBFA;\n",
              "      box-shadow: 0px 1px 2px rgba(60, 64, 67, 0.3), 0px 1px 3px 1px rgba(60, 64, 67, 0.15);\n",
              "      fill: #174EA6;\n",
              "    }\n",
              "\n",
              "    [theme=dark] .colab-df-convert {\n",
              "      background-color: #3B4455;\n",
              "      fill: #D2E3FC;\n",
              "    }\n",
              "\n",
              "    [theme=dark] .colab-df-convert:hover {\n",
              "      background-color: #434B5C;\n",
              "      box-shadow: 0px 1px 3px 1px rgba(0, 0, 0, 0.15);\n",
              "      filter: drop-shadow(0px 1px 2px rgba(0, 0, 0, 0.3));\n",
              "      fill: #FFFFFF;\n",
              "    }\n",
              "  </style>\n",
              "\n",
              "      <script>\n",
              "        const buttonEl =\n",
              "          document.querySelector('#df-25ab70a2-14c3-458b-be76-2ba5645a16d0 button.colab-df-convert');\n",
              "        buttonEl.style.display =\n",
              "          google.colab.kernel.accessAllowed ? 'block' : 'none';\n",
              "\n",
              "        async function convertToInteractive(key) {\n",
              "          const element = document.querySelector('#df-25ab70a2-14c3-458b-be76-2ba5645a16d0');\n",
              "          const dataTable =\n",
              "            await google.colab.kernel.invokeFunction('convertToInteractive',\n",
              "                                                     [key], {});\n",
              "          if (!dataTable) return;\n",
              "\n",
              "          const docLinkHtml = 'Like what you see? Visit the ' +\n",
              "            '<a target=\"_blank\" href=https://colab.research.google.com/notebooks/data_table.ipynb>data table notebook</a>'\n",
              "            + ' to learn more about interactive tables.';\n",
              "          element.innerHTML = '';\n",
              "          dataTable['output_type'] = 'display_data';\n",
              "          await google.colab.output.renderOutput(dataTable, element);\n",
              "          const docLink = document.createElement('div');\n",
              "          docLink.innerHTML = docLinkHtml;\n",
              "          element.appendChild(docLink);\n",
              "        }\n",
              "      </script>\n",
              "    </div>\n",
              "  </div>\n",
              "  "
            ]
          },
          "metadata": {},
          "execution_count": 53
        }
      ],
      "source": [
        "# When the data is one-hot encoded, there're as many columns in the encoded form as there are unique values in the data (including None)\n",
        "data1 = pd.DataFrame([['One', 'Two', 'Three'],['January', 'February', 'March'],['January', 'Two', 'Three','Four'],['One', 'February', 'March', 'April']])\n",
        "data1"
      ]
    },
    {
      "cell_type": "code",
      "execution_count": null,
      "id": "a7ada332",
      "metadata": {
        "id": "a7ada332"
      },
      "outputs": [],
      "source": [
        "#Let's one-hot encode this.\n",
        "from sklearn.preprocessing import OneHotEncoder\n",
        "cat_encoder = OneHotEncoder(sparse=False) # By default, OneHotEncoder produces a sparse matrix."
      ]
    },
    {
      "cell_type": "code",
      "execution_count": null,
      "id": "2d2bd598",
      "metadata": {
        "scrolled": true,
        "colab": {
          "base_uri": "https://localhost:8080/"
        },
        "id": "2d2bd598",
        "outputId": "91a2ed01-af65-4ee9-93b8-dd8072163f53"
      },
      "outputs": [
        {
          "output_type": "stream",
          "name": "stdout",
          "text": [
            "[[0. 1. 0. 1. 0. 1. 0. 0. 1.]\n",
            " [1. 0. 1. 0. 1. 0. 0. 0. 1.]\n",
            " [1. 0. 0. 1. 0. 1. 0. 1. 0.]\n",
            " [0. 1. 1. 0. 1. 0. 1. 0. 0.]]\n"
          ]
        }
      ],
      "source": [
        "one_hot = cat_encoder.fit_transform(data1)\n",
        "print(one_hot)"
      ]
    },
    {
      "cell_type": "code",
      "execution_count": null,
      "id": "670d1f25",
      "metadata": {
        "scrolled": true,
        "colab": {
          "base_uri": "https://localhost:8080/"
        },
        "id": "670d1f25",
        "outputId": "3c974798-d045-4b27-efd4-5446cc586717"
      },
      "outputs": [
        {
          "output_type": "execute_result",
          "data": {
            "text/plain": [
              "[array(['January', 'One'], dtype=object),\n",
              " array(['February', 'Two'], dtype=object),\n",
              " array(['March', 'Three'], dtype=object),\n",
              " array(['April', 'Four', None], dtype=object)]"
            ]
          },
          "metadata": {},
          "execution_count": 56
        }
      ],
      "source": [
        "cat_encoder.categories_"
      ]
    },
    {
      "cell_type": "markdown",
      "id": "aeb9e759",
      "metadata": {
        "id": "aeb9e759"
      },
      "source": [
        "#### OneHotEncoder for mixed (numerical and categorical) features"
      ]
    },
    {
      "cell_type": "code",
      "execution_count": null,
      "id": "8b8da80d",
      "metadata": {
        "id": "8b8da80d"
      },
      "outputs": [],
      "source": [
        "# Add a new column called place_of_manufacturing to the wine_features_tr; there must be 1279 rows.\n",
        "d1 = pd.DataFrame(['Delhi', 'Mumbai','Calcutta','Chennai', 'Cochin', 'Bangalore'] * 200)\n",
        "d2 = pd.DataFrame(['Trivandrum'] * 79)\n",
        "df = pd.concat([d1, d2])\n",
        "df = df.iloc[np.random.permutation(len(df))]\n",
        "df.reset_index(inplace = True)"
      ]
    },
    {
      "cell_type": "code",
      "execution_count": null,
      "id": "94f70941",
      "metadata": {
        "scrolled": false,
        "colab": {
          "base_uri": "https://localhost:8080/"
        },
        "id": "94f70941",
        "outputId": "421cb9b6-a432-483c-f072-730225bf9908"
      },
      "outputs": [
        {
          "output_type": "execute_result",
          "data": {
            "text/plain": [
              "      fixed acidity  volatile acidity  citric acid  residual sugar  chlorides  \\\n",
              "0               6.7             0.855         0.02            1.90      0.064   \n",
              "1               6.9             0.630         0.33            6.70      0.235   \n",
              "2              11.9             0.570         0.50            2.60      0.082   \n",
              "3               8.6             0.470         0.27            2.30      0.055   \n",
              "4              10.4             0.260         0.48            1.90      0.066   \n",
              "...             ...               ...          ...             ...        ...   \n",
              "1274            8.9             0.480         0.53            4.00      0.101   \n",
              "1275            6.4             0.570         0.14            3.90      0.070   \n",
              "1276            7.8             0.430         0.32            2.80      0.080   \n",
              "1277           11.2             0.500         0.74            5.15      0.100   \n",
              "1278            8.7             0.420         0.45            2.40      0.072   \n",
              "\n",
              "      free sulfur dioxide  total sulfur dioxide  density    pH  sulphates  \\\n",
              "0                    29.0                  38.0  0.99472  3.30       0.56   \n",
              "1                    66.0                 115.0  0.99787  3.22       0.56   \n",
              "2                     6.0                  32.0  1.00060  3.12       0.78   \n",
              "3                    14.0                  28.0  0.99516  3.18       0.80   \n",
              "4                     6.0                  10.0  0.99724  3.33       0.87   \n",
              "...                   ...                   ...      ...   ...        ...   \n",
              "1274                  3.0                  10.0  0.99586  3.21       0.59   \n",
              "1275                 27.0                  73.0  0.99669  3.32       0.48   \n",
              "1276                 29.0                  58.0  0.99740  3.31       0.64   \n",
              "1277                  5.0                  17.0  0.99960  3.22       0.62   \n",
              "1278                 32.0                  59.0  0.99617  3.33       0.77   \n",
              "\n",
              "      alcohol place_of_manufacturing  \n",
              "0       10.75                Chennai  \n",
              "1        9.50                 Cochin  \n",
              "2       10.70                Chennai  \n",
              "3       11.20                Chennai  \n",
              "4       10.90              Bangalore  \n",
              "...       ...                    ...  \n",
              "1274    12.10             Trivandrum  \n",
              "1275     9.20                Chennai  \n",
              "1276    10.30              Bangalore  \n",
              "1277    11.20                 Cochin  \n",
              "1278    12.00              Bangalore  \n",
              "\n",
              "[1279 rows x 12 columns]"
            ],
            "text/html": [
              "\n",
              "  <div id=\"df-59717895-27b0-4db4-a001-ce4927a45cc9\">\n",
              "    <div class=\"colab-df-container\">\n",
              "      <div>\n",
              "<style scoped>\n",
              "    .dataframe tbody tr th:only-of-type {\n",
              "        vertical-align: middle;\n",
              "    }\n",
              "\n",
              "    .dataframe tbody tr th {\n",
              "        vertical-align: top;\n",
              "    }\n",
              "\n",
              "    .dataframe thead th {\n",
              "        text-align: right;\n",
              "    }\n",
              "</style>\n",
              "<table border=\"1\" class=\"dataframe\">\n",
              "  <thead>\n",
              "    <tr style=\"text-align: right;\">\n",
              "      <th></th>\n",
              "      <th>fixed acidity</th>\n",
              "      <th>volatile acidity</th>\n",
              "      <th>citric acid</th>\n",
              "      <th>residual sugar</th>\n",
              "      <th>chlorides</th>\n",
              "      <th>free sulfur dioxide</th>\n",
              "      <th>total sulfur dioxide</th>\n",
              "      <th>density</th>\n",
              "      <th>pH</th>\n",
              "      <th>sulphates</th>\n",
              "      <th>alcohol</th>\n",
              "      <th>place_of_manufacturing</th>\n",
              "    </tr>\n",
              "  </thead>\n",
              "  <tbody>\n",
              "    <tr>\n",
              "      <th>0</th>\n",
              "      <td>6.7</td>\n",
              "      <td>0.855</td>\n",
              "      <td>0.02</td>\n",
              "      <td>1.90</td>\n",
              "      <td>0.064</td>\n",
              "      <td>29.0</td>\n",
              "      <td>38.0</td>\n",
              "      <td>0.99472</td>\n",
              "      <td>3.30</td>\n",
              "      <td>0.56</td>\n",
              "      <td>10.75</td>\n",
              "      <td>Chennai</td>\n",
              "    </tr>\n",
              "    <tr>\n",
              "      <th>1</th>\n",
              "      <td>6.9</td>\n",
              "      <td>0.630</td>\n",
              "      <td>0.33</td>\n",
              "      <td>6.70</td>\n",
              "      <td>0.235</td>\n",
              "      <td>66.0</td>\n",
              "      <td>115.0</td>\n",
              "      <td>0.99787</td>\n",
              "      <td>3.22</td>\n",
              "      <td>0.56</td>\n",
              "      <td>9.50</td>\n",
              "      <td>Cochin</td>\n",
              "    </tr>\n",
              "    <tr>\n",
              "      <th>2</th>\n",
              "      <td>11.9</td>\n",
              "      <td>0.570</td>\n",
              "      <td>0.50</td>\n",
              "      <td>2.60</td>\n",
              "      <td>0.082</td>\n",
              "      <td>6.0</td>\n",
              "      <td>32.0</td>\n",
              "      <td>1.00060</td>\n",
              "      <td>3.12</td>\n",
              "      <td>0.78</td>\n",
              "      <td>10.70</td>\n",
              "      <td>Chennai</td>\n",
              "    </tr>\n",
              "    <tr>\n",
              "      <th>3</th>\n",
              "      <td>8.6</td>\n",
              "      <td>0.470</td>\n",
              "      <td>0.27</td>\n",
              "      <td>2.30</td>\n",
              "      <td>0.055</td>\n",
              "      <td>14.0</td>\n",
              "      <td>28.0</td>\n",
              "      <td>0.99516</td>\n",
              "      <td>3.18</td>\n",
              "      <td>0.80</td>\n",
              "      <td>11.20</td>\n",
              "      <td>Chennai</td>\n",
              "    </tr>\n",
              "    <tr>\n",
              "      <th>4</th>\n",
              "      <td>10.4</td>\n",
              "      <td>0.260</td>\n",
              "      <td>0.48</td>\n",
              "      <td>1.90</td>\n",
              "      <td>0.066</td>\n",
              "      <td>6.0</td>\n",
              "      <td>10.0</td>\n",
              "      <td>0.99724</td>\n",
              "      <td>3.33</td>\n",
              "      <td>0.87</td>\n",
              "      <td>10.90</td>\n",
              "      <td>Bangalore</td>\n",
              "    </tr>\n",
              "    <tr>\n",
              "      <th>...</th>\n",
              "      <td>...</td>\n",
              "      <td>...</td>\n",
              "      <td>...</td>\n",
              "      <td>...</td>\n",
              "      <td>...</td>\n",
              "      <td>...</td>\n",
              "      <td>...</td>\n",
              "      <td>...</td>\n",
              "      <td>...</td>\n",
              "      <td>...</td>\n",
              "      <td>...</td>\n",
              "      <td>...</td>\n",
              "    </tr>\n",
              "    <tr>\n",
              "      <th>1274</th>\n",
              "      <td>8.9</td>\n",
              "      <td>0.480</td>\n",
              "      <td>0.53</td>\n",
              "      <td>4.00</td>\n",
              "      <td>0.101</td>\n",
              "      <td>3.0</td>\n",
              "      <td>10.0</td>\n",
              "      <td>0.99586</td>\n",
              "      <td>3.21</td>\n",
              "      <td>0.59</td>\n",
              "      <td>12.10</td>\n",
              "      <td>Trivandrum</td>\n",
              "    </tr>\n",
              "    <tr>\n",
              "      <th>1275</th>\n",
              "      <td>6.4</td>\n",
              "      <td>0.570</td>\n",
              "      <td>0.14</td>\n",
              "      <td>3.90</td>\n",
              "      <td>0.070</td>\n",
              "      <td>27.0</td>\n",
              "      <td>73.0</td>\n",
              "      <td>0.99669</td>\n",
              "      <td>3.32</td>\n",
              "      <td>0.48</td>\n",
              "      <td>9.20</td>\n",
              "      <td>Chennai</td>\n",
              "    </tr>\n",
              "    <tr>\n",
              "      <th>1276</th>\n",
              "      <td>7.8</td>\n",
              "      <td>0.430</td>\n",
              "      <td>0.32</td>\n",
              "      <td>2.80</td>\n",
              "      <td>0.080</td>\n",
              "      <td>29.0</td>\n",
              "      <td>58.0</td>\n",
              "      <td>0.99740</td>\n",
              "      <td>3.31</td>\n",
              "      <td>0.64</td>\n",
              "      <td>10.30</td>\n",
              "      <td>Bangalore</td>\n",
              "    </tr>\n",
              "    <tr>\n",
              "      <th>1277</th>\n",
              "      <td>11.2</td>\n",
              "      <td>0.500</td>\n",
              "      <td>0.74</td>\n",
              "      <td>5.15</td>\n",
              "      <td>0.100</td>\n",
              "      <td>5.0</td>\n",
              "      <td>17.0</td>\n",
              "      <td>0.99960</td>\n",
              "      <td>3.22</td>\n",
              "      <td>0.62</td>\n",
              "      <td>11.20</td>\n",
              "      <td>Cochin</td>\n",
              "    </tr>\n",
              "    <tr>\n",
              "      <th>1278</th>\n",
              "      <td>8.7</td>\n",
              "      <td>0.420</td>\n",
              "      <td>0.45</td>\n",
              "      <td>2.40</td>\n",
              "      <td>0.072</td>\n",
              "      <td>32.0</td>\n",
              "      <td>59.0</td>\n",
              "      <td>0.99617</td>\n",
              "      <td>3.33</td>\n",
              "      <td>0.77</td>\n",
              "      <td>12.00</td>\n",
              "      <td>Bangalore</td>\n",
              "    </tr>\n",
              "  </tbody>\n",
              "</table>\n",
              "<p>1279 rows × 12 columns</p>\n",
              "</div>\n",
              "      <button class=\"colab-df-convert\" onclick=\"convertToInteractive('df-59717895-27b0-4db4-a001-ce4927a45cc9')\"\n",
              "              title=\"Convert this dataframe to an interactive table.\"\n",
              "              style=\"display:none;\">\n",
              "        \n",
              "  <svg xmlns=\"http://www.w3.org/2000/svg\" height=\"24px\"viewBox=\"0 0 24 24\"\n",
              "       width=\"24px\">\n",
              "    <path d=\"M0 0h24v24H0V0z\" fill=\"none\"/>\n",
              "    <path d=\"M18.56 5.44l.94 2.06.94-2.06 2.06-.94-2.06-.94-.94-2.06-.94 2.06-2.06.94zm-11 1L8.5 8.5l.94-2.06 2.06-.94-2.06-.94L8.5 2.5l-.94 2.06-2.06.94zm10 10l.94 2.06.94-2.06 2.06-.94-2.06-.94-.94-2.06-.94 2.06-2.06.94z\"/><path d=\"M17.41 7.96l-1.37-1.37c-.4-.4-.92-.59-1.43-.59-.52 0-1.04.2-1.43.59L10.3 9.45l-7.72 7.72c-.78.78-.78 2.05 0 2.83L4 21.41c.39.39.9.59 1.41.59.51 0 1.02-.2 1.41-.59l7.78-7.78 2.81-2.81c.8-.78.8-2.07 0-2.86zM5.41 20L4 18.59l7.72-7.72 1.47 1.35L5.41 20z\"/>\n",
              "  </svg>\n",
              "      </button>\n",
              "      \n",
              "  <style>\n",
              "    .colab-df-container {\n",
              "      display:flex;\n",
              "      flex-wrap:wrap;\n",
              "      gap: 12px;\n",
              "    }\n",
              "\n",
              "    .colab-df-convert {\n",
              "      background-color: #E8F0FE;\n",
              "      border: none;\n",
              "      border-radius: 50%;\n",
              "      cursor: pointer;\n",
              "      display: none;\n",
              "      fill: #1967D2;\n",
              "      height: 32px;\n",
              "      padding: 0 0 0 0;\n",
              "      width: 32px;\n",
              "    }\n",
              "\n",
              "    .colab-df-convert:hover {\n",
              "      background-color: #E2EBFA;\n",
              "      box-shadow: 0px 1px 2px rgba(60, 64, 67, 0.3), 0px 1px 3px 1px rgba(60, 64, 67, 0.15);\n",
              "      fill: #174EA6;\n",
              "    }\n",
              "\n",
              "    [theme=dark] .colab-df-convert {\n",
              "      background-color: #3B4455;\n",
              "      fill: #D2E3FC;\n",
              "    }\n",
              "\n",
              "    [theme=dark] .colab-df-convert:hover {\n",
              "      background-color: #434B5C;\n",
              "      box-shadow: 0px 1px 3px 1px rgba(0, 0, 0, 0.15);\n",
              "      filter: drop-shadow(0px 1px 2px rgba(0, 0, 0, 0.3));\n",
              "      fill: #FFFFFF;\n",
              "    }\n",
              "  </style>\n",
              "\n",
              "      <script>\n",
              "        const buttonEl =\n",
              "          document.querySelector('#df-59717895-27b0-4db4-a001-ce4927a45cc9 button.colab-df-convert');\n",
              "        buttonEl.style.display =\n",
              "          google.colab.kernel.accessAllowed ? 'block' : 'none';\n",
              "\n",
              "        async function convertToInteractive(key) {\n",
              "          const element = document.querySelector('#df-59717895-27b0-4db4-a001-ce4927a45cc9');\n",
              "          const dataTable =\n",
              "            await google.colab.kernel.invokeFunction('convertToInteractive',\n",
              "                                                     [key], {});\n",
              "          if (!dataTable) return;\n",
              "\n",
              "          const docLinkHtml = 'Like what you see? Visit the ' +\n",
              "            '<a target=\"_blank\" href=https://colab.research.google.com/notebooks/data_table.ipynb>data table notebook</a>'\n",
              "            + ' to learn more about interactive tables.';\n",
              "          element.innerHTML = '';\n",
              "          dataTable['output_type'] = 'display_data';\n",
              "          await google.colab.output.renderOutput(dataTable, element);\n",
              "          const docLink = document.createElement('div');\n",
              "          docLink.innerHTML = docLinkHtml;\n",
              "          element.appendChild(docLink);\n",
              "        }\n",
              "      </script>\n",
              "    </div>\n",
              "  </div>\n",
              "  "
            ]
          },
          "metadata": {},
          "execution_count": 58
        }
      ],
      "source": [
        "wine_features_modified = wine_features_tr.copy()\n",
        "wine_features_modified['place_of_manufacturing'] = df.loc[:,0]\n",
        "wine_features_modified"
      ]
    },
    {
      "cell_type": "code",
      "execution_count": null,
      "id": "cc6c94c0",
      "metadata": {
        "id": "cc6c94c0"
      },
      "outputs": [],
      "source": [
        "# Use ColumnTransformer to transform mixed features\n",
        "from sklearn.compose import ColumnTransformer\n",
        "from sklearn.preprocessing import MinMaxScaler, StandardScaler\n",
        "num_attribs = list(wine_features)\n",
        "cat_attribs = [\"place_of_manufacturing\"]"
      ]
    },
    {
      "cell_type": "code",
      "execution_count": null,
      "id": "d1f1654d",
      "metadata": {
        "id": "d1f1654d"
      },
      "outputs": [],
      "source": [
        "# t = [(\"num\", MinMaxScaler(), num_attribs), (\"cat\", OneHotEncoder(sparse=False), cat_attribs)]\n",
        "t = [(\"num\", StandardScaler(), num_attribs), (\"cat\", OneHotEncoder(sparse=False), cat_attribs)] # scale as Standard normal distribution\n",
        "full_pipeline = ColumnTransformer(transformers=t)\n",
        "wine_features_modified_encoded = full_pipeline.fit_transform(wine_features_modified)"
      ]
    },
    {
      "cell_type": "code",
      "execution_count": null,
      "id": "33c54087",
      "metadata": {
        "scrolled": true,
        "colab": {
          "base_uri": "https://localhost:8080/"
        },
        "id": "33c54087",
        "outputId": "4003edfc-4200-43cf-e90a-2b5deab76848"
      },
      "outputs": [
        {
          "output_type": "execute_result",
          "data": {
            "text/plain": [
              "array([[-0.94797009,  1.84038456, -1.30310213, ...,  0.        ,\n",
              "         0.        ,  0.        ],\n",
              "       [-0.8299525 ,  0.57378326,  0.28806218, ...,  0.        ,\n",
              "         0.        ,  0.        ],\n",
              "       [ 2.12048734,  0.23602292,  1.16063616, ...,  0.        ,\n",
              "         0.        ,  0.        ],\n",
              "       ...,\n",
              "       [-0.29887333, -0.55208456,  0.2367343 , ...,  0.        ,\n",
              "         0.        ,  0.        ],\n",
              "       [ 1.70742577, -0.15803082,  2.3925053 , ...,  0.        ,\n",
              "         0.        ,  0.        ],\n",
              "       [ 0.23220584, -0.60837795,  0.90399675, ...,  0.        ,\n",
              "         0.        ,  0.        ]])"
            ]
          },
          "metadata": {},
          "execution_count": 61
        }
      ],
      "source": [
        "wine_features_modified_encoded"
      ]
    },
    {
      "cell_type": "markdown",
      "id": "3232a50f",
      "metadata": {
        "id": "3232a50f"
      },
      "source": [
        "### Transformation pipelines (feature imputing + feature scaling)"
      ]
    },
    {
      "cell_type": "code",
      "execution_count": null,
      "id": "1766e57a",
      "metadata": {
        "id": "1766e57a"
      },
      "outputs": [],
      "source": [
        "from sklearn.pipeline import Pipeline\n",
        "from sklearn.preprocessing import StandardScaler\n",
        "transform_pipeline = Pipeline([\n",
        "    ('imputer', SimpleImputer(strategy=\"median\")),\n",
        "    ('std_scaler', StandardScaler()),])\n",
        "wine_features_tr_pipeline = transform_pipeline.fit_transform(wine_features)"
      ]
    },
    {
      "cell_type": "code",
      "execution_count": null,
      "id": "3805b749",
      "metadata": {
        "scrolled": true,
        "colab": {
          "base_uri": "https://localhost:8080/"
        },
        "id": "3805b749",
        "outputId": "8ef1f454-f883-44a4-8d51-2f0e8482e6db"
      },
      "outputs": [
        {
          "output_type": "execute_result",
          "data": {
            "text/plain": [
              "array([[-0.94797009,  1.84038456, -1.30310213, ..., -0.05665069,\n",
              "        -0.58149257,  0.30561112],\n",
              "       [-0.8299525 ,  0.57378326,  0.28806218, ..., -0.58456494,\n",
              "        -0.58149257, -0.86781667],\n",
              "       [ 2.12048734,  0.23602292,  1.16063616, ..., -1.24445776,\n",
              "         0.65244695,  0.258674  ],\n",
              "       ...,\n",
              "       [-0.29887333, -0.55208456,  0.2367343 , ...,  0.00933859,\n",
              "        -0.13278729, -0.11682289],\n",
              "       [ 1.70742577, -0.15803082,  2.3925053 , ..., -0.58456494,\n",
              "        -0.24496361,  0.72804512],\n",
              "       [ 0.23220584, -0.60837795,  0.90399675, ...,  0.14131716,\n",
              "         0.59635879,  1.4790389 ]])"
            ]
          },
          "metadata": {},
          "execution_count": 63
        }
      ],
      "source": [
        "wine_features_tr_pipeline"
      ]
    },
    {
      "cell_type": "markdown",
      "id": "092e8e66",
      "metadata": {
        "id": "092e8e66"
      },
      "source": [
        "# Step 5: Select and train ML model"
      ]
    },
    {
      "cell_type": "markdown",
      "id": "bf5c81e4",
      "metadata": {
        "id": "bf5c81e4"
      },
      "source": [
        "#### Fit Linear Regression model"
      ]
    },
    {
      "cell_type": "code",
      "execution_count": null,
      "id": "35991fbf",
      "metadata": {
        "colab": {
          "base_uri": "https://localhost:8080/"
        },
        "id": "35991fbf",
        "outputId": "e0efc57d-8a1d-48e1-8e72-bcc8067e1dda"
      },
      "outputs": [
        {
          "output_type": "execute_result",
          "data": {
            "text/plain": [
              "LinearRegression()"
            ]
          },
          "metadata": {},
          "execution_count": 64
        }
      ],
      "source": [
        "from sklearn.linear_model import LinearRegression\n",
        "lin_reg = LinearRegression()\n",
        "lin_reg.fit(wine_features_tr, wine_labels)"
      ]
    },
    {
      "cell_type": "code",
      "execution_count": null,
      "id": "45be3f95",
      "metadata": {
        "colab": {
          "base_uri": "https://localhost:8080/"
        },
        "id": "45be3f95",
        "outputId": "a962b7a3-373f-4a16-d7e3-774990d395cd"
      },
      "outputs": [
        {
          "output_type": "execute_result",
          "data": {
            "text/plain": [
              "0.42065710600602785"
            ]
          },
          "metadata": {},
          "execution_count": 65
        }
      ],
      "source": [
        "# Evaluate performance on training set\n",
        "from sklearn.metrics import mean_squared_error\n",
        "quality_predictions = lin_reg.predict(wine_features_tr)\n",
        "mean_squared_error(wine_labels, quality_predictions)"
      ]
    },
    {
      "cell_type": "code",
      "execution_count": null,
      "id": "6d70b9b1",
      "metadata": {
        "colab": {
          "base_uri": "https://localhost:8080/"
        },
        "id": "6d70b9b1",
        "outputId": "3a9ac907-9dcb-4128-94c3-b20eb7995457"
      },
      "outputs": [
        {
          "output_type": "stream",
          "name": "stderr",
          "text": [
            "/usr/local/lib/python3.7/dist-packages/sklearn/base.py:451: UserWarning: X does not have valid feature names, but LinearRegression was fitted with feature names\n",
            "  \"X does not have valid feature names, but\"\n"
          ]
        },
        {
          "output_type": "execute_result",
          "data": {
            "text/plain": [
              "12.896152700622249"
            ]
          },
          "metadata": {},
          "execution_count": 66
        }
      ],
      "source": [
        "# Evaluating performance on test set\n",
        "wine_features_test = strat_test_set.drop(\"quality\", axis=1)\n",
        "wine_labels_test = strat_test_set['quality'].copy()\n",
        "\n",
        "wine_features_test_tr = transform_pipeline.fit_transform(wine_features_test)\n",
        "\n",
        "quality_test_predictions = lin_reg.predict(wine_features_test_tr)\n",
        "mean_squared_error(wine_labels_test, quality_test_predictions)"
      ]
    },
    {
      "cell_type": "code",
      "execution_count": null,
      "id": "de603b70",
      "metadata": {
        "id": "de603b70"
      },
      "outputs": [],
      "source": []
    },
    {
      "cell_type": "markdown",
      "id": "3c199b95",
      "metadata": {
        "id": "3c199b95"
      },
      "source": [
        "#### Fit DecisionTreeRegressor model"
      ]
    },
    {
      "cell_type": "code",
      "execution_count": null,
      "id": "050111c3",
      "metadata": {
        "colab": {
          "base_uri": "https://localhost:8080/"
        },
        "id": "050111c3",
        "outputId": "f80813a9-73c2-4f0b-a1ab-8d3c0f92dfbe"
      },
      "outputs": [
        {
          "output_type": "execute_result",
          "data": {
            "text/plain": [
              "DecisionTreeRegressor()"
            ]
          },
          "metadata": {},
          "execution_count": 67
        }
      ],
      "source": [
        "from sklearn.tree import DecisionTreeRegressor\n",
        "tree_reg = DecisionTreeRegressor()\n",
        "tree_reg.fit(wine_features_tr, wine_labels)"
      ]
    },
    {
      "cell_type": "code",
      "execution_count": null,
      "id": "30fde33c",
      "metadata": {
        "colab": {
          "base_uri": "https://localhost:8080/"
        },
        "id": "30fde33c",
        "outputId": "0996ccc8-027d-4083-b32e-967e7469a91a"
      },
      "outputs": [
        {
          "output_type": "execute_result",
          "data": {
            "text/plain": [
              "0.0"
            ]
          },
          "metadata": {},
          "execution_count": 68
        }
      ],
      "source": [
        "# Evaluate performance on training set\n",
        "quality_predictions = tree_reg.predict(wine_features_tr)\n",
        "mean_squared_error(wine_labels, quality_predictions)"
      ]
    },
    {
      "cell_type": "code",
      "execution_count": null,
      "id": "20078d27",
      "metadata": {
        "colab": {
          "base_uri": "https://localhost:8080/"
        },
        "id": "20078d27",
        "outputId": "294e5bf7-5044-4302-ee5f-adbff5fb8f68"
      },
      "outputs": [
        {
          "output_type": "stream",
          "name": "stderr",
          "text": [
            "/usr/local/lib/python3.7/dist-packages/sklearn/base.py:451: UserWarning: X does not have valid feature names, but DecisionTreeRegressor was fitted with feature names\n",
            "  \"X does not have valid feature names, but\"\n"
          ]
        },
        {
          "output_type": "execute_result",
          "data": {
            "text/plain": [
              "2.65625"
            ]
          },
          "metadata": {},
          "execution_count": 69
        }
      ],
      "source": [
        "# Evaluate performance on test set\n",
        "quality_test_predictions = tree_reg.predict(wine_features_test_tr)\n",
        "mean_squared_error(wine_labels_test, quality_test_predictions)"
      ]
    },
    {
      "cell_type": "code",
      "source": [
        "plt.scatter(wine_labels_test, quality_test_predictions)\n",
        "plt.plot(wine_labels_test, wine_labels_test, 'r-')\n",
        "plt.xlabel('Actual quality')\n",
        "plt.ylabel('Predicted quality')"
      ],
      "metadata": {
        "colab": {
          "base_uri": "https://localhost:8080/"
        },
        "id": "AK9wN7T5I_EK",
        "outputId": "4d551e3b-e657-4ba9-980c-204ebf395eb0"
      },
      "id": "AK9wN7T5I_EK",
      "execution_count": null,
      "outputs": [
        {
          "output_type": "execute_result",
          "data": {
            "text/plain": [
              "Text(0, 0.5, 'Predicted quality')"
            ]
          },
          "metadata": {},
          "execution_count": 70
        },
        {
          "output_type": "display_data",
          "data": {
            "text/plain": [
              "<Figure size 432x288 with 1 Axes>"
            ],
            "image/png": "[encoded data removed]"
          },
          "metadata": {}
        }
      ]
    },
    {
      "cell_type": "markdown",
      "id": "6cf6334d",
      "metadata": {
        "id": "6cf6334d"
      },
      "source": [
        "#### Fit RandomForest model"
      ]
    },
    {
      "cell_type": "code",
      "execution_count": null,
      "id": "7757ca93",
      "metadata": {
        "colab": {
          "base_uri": "https://localhost:8080/"
        },
        "id": "7757ca93",
        "outputId": "23db9d2e-82c5-4b62-b198-c7dcbe4fb49a"
      },
      "outputs": [
        {
          "output_type": "execute_result",
          "data": {
            "text/plain": [
              "RandomForestRegressor()"
            ]
          },
          "metadata": {},
          "execution_count": 71
        }
      ],
      "source": [
        "from sklearn.ensemble import RandomForestRegressor\n",
        "forest_reg = RandomForestRegressor()\n",
        "forest_reg.fit(wine_features_tr, wine_labels)"
      ]
    },
    {
      "cell_type": "code",
      "execution_count": null,
      "id": "ee0c0b8c",
      "metadata": {
        "colab": {
          "base_uri": "https://localhost:8080/"
        },
        "id": "ee0c0b8c",
        "outputId": "dded1ed8-0dd3-4d1b-ce0d-98056fa7370e"
      },
      "outputs": [
        {
          "output_type": "execute_result",
          "data": {
            "text/plain": [
              "0.0473697419859265"
            ]
          },
          "metadata": {},
          "execution_count": 72
        }
      ],
      "source": [
        "# Evaluate performance on training set\n",
        "quality_predictions = forest_reg.predict(wine_features_tr)\n",
        "mean_squared_error(wine_labels, quality_predictions)"
      ]
    },
    {
      "cell_type": "code",
      "execution_count": null,
      "id": "fb34e71f",
      "metadata": {
        "colab": {
          "base_uri": "https://localhost:8080/"
        },
        "id": "fb34e71f",
        "outputId": "1b6d38d1-bca3-4538-8d0e-c7b74ff01ec4"
      },
      "outputs": [
        {
          "output_type": "stream",
          "name": "stderr",
          "text": [
            "/usr/local/lib/python3.7/dist-packages/sklearn/base.py:451: UserWarning: X does not have valid feature names, but RandomForestRegressor was fitted with feature names\n",
            "  \"X does not have valid feature names, but\"\n"
          ]
        },
        {
          "output_type": "execute_result",
          "data": {
            "text/plain": [
              "0.9560150000000001"
            ]
          },
          "metadata": {},
          "execution_count": 73
        }
      ],
      "source": [
        "# Evaluate performance on test set\n",
        "quality_test_predictions = forest_reg.predict(wine_features_test_tr)\n",
        "mean_squared_error(wine_labels_test, quality_test_predictions)"
      ]
    },
    {
      "cell_type": "code",
      "execution_count": null,
      "id": "513a87a9",
      "metadata": {
        "scrolled": true,
        "colab": {
          "base_uri": "https://localhost:8080/"
        },
        "id": "513a87a9",
        "outputId": "56cd4d18-3a32-4c6c-978c-4e0bbf54ad9d"
      },
      "outputs": [
        {
          "output_type": "execute_result",
          "data": {
            "text/plain": [
              "Text(0, 0.5, 'Predicted quality')"
            ]
          },
          "metadata": {},
          "execution_count": 74
        },
        {
          "output_type": "display_data",
          "data": {
            "text/plain": [
              "<Figure size 432x288 with 1 Axes>"
            ],
            "image/png": "[encoded data removed]"
          },
          "metadata": {}
        }
      ],
      "source": [
        "plt.scatter(wine_labels_test, quality_test_predictions)\n",
        "plt.plot(wine_labels_test, wine_labels_test, 'r-')\n",
        "plt.xlabel('Actual quality')\n",
        "plt.ylabel('Predicted quality')"
      ]
    },
    {
      "cell_type": "markdown",
      "id": "a65cc518",
      "metadata": {
        "id": "a65cc518"
      },
      "source": [
        "### Cross-validation"
      ]
    },
    {
      "cell_type": "code",
      "execution_count": null,
      "id": "66105e45",
      "metadata": {
        "id": "66105e45"
      },
      "outputs": [],
      "source": [
        "def display_scores(scores):\n",
        "    print(\"Scores:\", scores)\n",
        "    print(\"Mean:\", scores.mean())\n",
        "    print(\"Standard deviation:\", scores.std())"
      ]
    },
    {
      "cell_type": "code",
      "execution_count": null,
      "id": "159d94a4",
      "metadata": {
        "colab": {
          "base_uri": "https://localhost:8080/"
        },
        "id": "159d94a4",
        "outputId": "bd1633df-7d89-4dec-9df1-84bae9b1e78b"
      },
      "outputs": [
        {
          "output_type": "stream",
          "name": "stdout",
          "text": [
            "Scores: [0.56364537 0.4429824  0.38302744 0.40166681 0.29687635 0.37322622\n",
            " 0.33184855 0.50182048 0.51661311 0.50468542]\n",
            "Mean: 0.431639217212196\n",
            "Standard deviation: 0.08356359730413902\n"
          ]
        }
      ],
      "source": [
        "from sklearn.model_selection import cross_val_score\n",
        "scores = cross_val_score(lin_reg, wine_features_tr, wine_labels, scoring=\"neg_mean_squared_error\", cv=10) #cv = numbers of folds\n",
        "lin_reg_mse_scores = -scores\n",
        "display_scores(lin_reg_mse_scores)"
      ]
    },
    {
      "cell_type": "code",
      "execution_count": null,
      "id": "5241691c",
      "metadata": {
        "colab": {
          "base_uri": "https://localhost:8080/"
        },
        "id": "5241691c",
        "outputId": "b7b9d0e4-9443-4646-ca03-21d1dbfd4735"
      },
      "outputs": [
        {
          "output_type": "stream",
          "name": "stdout",
          "text": [
            "Scores: [0.59375    0.7421875  0.59375    0.46875    0.4296875  0.5703125\n",
            " 0.6171875  0.765625   0.8671875  0.98425197]\n",
            "Mean: 0.6632689468503937\n",
            "Standard deviation: 0.16557350568548737\n"
          ]
        }
      ],
      "source": [
        "scores = cross_val_score(tree_reg, wine_features_tr, wine_labels, scoring=\"neg_mean_squared_error\", cv=10)\n",
        "tree_mse_scores = -scores\n",
        "display_scores(tree_mse_scores)"
      ]
    },
    {
      "cell_type": "code",
      "execution_count": null,
      "id": "3802d0c8",
      "metadata": {
        "scrolled": true,
        "colab": {
          "base_uri": "https://localhost:8080/"
        },
        "id": "3802d0c8",
        "outputId": "e28706af-817c-48a3-a1f8-d280e0d3330b"
      },
      "outputs": [
        {
          "output_type": "stream",
          "name": "stdout",
          "text": [
            "Scores: [0.36085156 0.42883281 0.30084844 0.32678594 0.21999141 0.28885313\n",
            " 0.27150391 0.38917813 0.43847188 0.44352756]\n",
            "Mean: 0.34688447465551187\n",
            "Standard deviation: 0.07355439245894307\n"
          ]
        }
      ],
      "source": [
        "scores = cross_val_score(forest_reg, wine_features_tr, wine_labels, scoring=\"neg_mean_squared_error\", cv=10)\n",
        "forest_mse_scores = -scores\n",
        "display_scores(forest_mse_scores)"
      ]
    },
    {
      "cell_type": "markdown",
      "id": "988f8d91",
      "metadata": {
        "id": "988f8d91"
      },
      "source": [
        "# Step 6: Finetune your model"
      ]
    },
    {
      "cell_type": "markdown",
      "id": "656f25b8",
      "metadata": {
        "id": "656f25b8"
      },
      "source": [
        "##### Grid search for RandomForest model"
      ]
    },
    {
      "cell_type": "code",
      "execution_count": null,
      "id": "2f85b083",
      "metadata": {
        "id": "2f85b083"
      },
      "outputs": [],
      "source": [
        "from sklearn.model_selection import GridSearchCV\n",
        "# RandomForest has two hyper-parameters: n_estimators (number of classifiers) and max_features (number of features)\n",
        "param_grid = [\n",
        "    {'n_estimators': [3, 10, 30], 'max_features': [2, 4, 6, 8]},\n",
        "    {'bootstrap': [False], 'n_estimators': [3, 10], 'max_features': [2, 3, 4]},\n",
        "]"
      ]
    },
    {
      "cell_type": "code",
      "execution_count": null,
      "id": "166902cd",
      "metadata": {
        "scrolled": true,
        "colab": {
          "base_uri": "https://localhost:8080/"
        },
        "id": "166902cd",
        "outputId": "813c742a-c143-483c-83e6-9bcbfc931b8f"
      },
      "outputs": [
        {
          "output_type": "execute_result",
          "data": {
            "text/plain": [
              "GridSearchCV(cv=5, estimator=RandomForestRegressor(),\n",
              "             param_grid=[{'max_features': [2, 4, 6, 8],\n",
              "                          'n_estimators': [3, 10, 30]},\n",
              "                         {'bootstrap': [False], 'max_features': [2, 3, 4],\n",
              "                          'n_estimators': [3, 10]}],\n",
              "             return_train_score=True, scoring='neg_mean_squared_error')"
            ]
          },
          "metadata": {},
          "execution_count": 80
        }
      ],
      "source": [
        "grid_search = GridSearchCV(forest_reg, param_grid, cv=5, scoring='neg_mean_squared_error', return_train_score=True) # refit has a default value of True\n",
        "grid_search.fit(wine_features_tr, wine_labels)"
      ]
    },
    {
      "cell_type": "code",
      "execution_count": null,
      "id": "69c1e67e",
      "metadata": {
        "scrolled": false,
        "colab": {
          "base_uri": "https://localhost:8080/"
        },
        "id": "69c1e67e",
        "outputId": "fe14ac9d-7c68-4c04-8665-1e3b6d61a34f"
      },
      "outputs": [
        {
          "output_type": "stream",
          "name": "stdout",
          "text": [
            "0.4555232162309368 {'max_features': 2, 'n_estimators': 3}\n",
            "0.3890544730392157 {'max_features': 2, 'n_estimators': 10}\n",
            "0.3626417687908497 {'max_features': 2, 'n_estimators': 30}\n",
            "0.4988422521786492 {'max_features': 4, 'n_estimators': 3}\n",
            "0.3928750919117647 {'max_features': 4, 'n_estimators': 10}\n",
            "0.3575461669389978 {'max_features': 4, 'n_estimators': 30}\n",
            "0.5151256127450979 {'max_features': 6, 'n_estimators': 3}\n",
            "0.38185600490196075 {'max_features': 6, 'n_estimators': 10}\n",
            "0.36158230187908497 {'max_features': 6, 'n_estimators': 30}\n",
            "0.4685038807189542 {'max_features': 8, 'n_estimators': 3}\n",
            "0.3851208333333333 {'max_features': 8, 'n_estimators': 10}\n",
            "0.36303888208060997 {'max_features': 8, 'n_estimators': 30}\n",
            "0.46159586056644875 {'bootstrap': False, 'max_features': 2, 'n_estimators': 3}\n",
            "0.38414568014705874 {'bootstrap': False, 'max_features': 2, 'n_estimators': 10}\n",
            "0.45233660130718956 {'bootstrap': False, 'max_features': 3, 'n_estimators': 3}\n",
            "0.3796339154411765 {'bootstrap': False, 'max_features': 3, 'n_estimators': 10}\n",
            "0.46133306100217863 {'bootstrap': False, 'max_features': 4, 'n_estimators': 3}\n",
            "0.39420382965686274 {'bootstrap': False, 'max_features': 4, 'n_estimators': 10}\n"
          ]
        }
      ],
      "source": [
        "cvres = grid_search.cv_results_\n",
        "for mean_score, params in zip(cvres[\"mean_test_score\"], cvres[\"params\"]):\n",
        "    print(-mean_score, params)"
      ]
    },
    {
      "cell_type": "code",
      "execution_count": null,
      "id": "ba6e3c7b",
      "metadata": {
        "colab": {
          "base_uri": "https://localhost:8080/"
        },
        "id": "ba6e3c7b",
        "outputId": "f1e5c8bc-4d7a-449c-a131-73765b03fca8"
      },
      "outputs": [
        {
          "output_type": "execute_result",
          "data": {
            "text/plain": [
              "{'max_features': 4, 'n_estimators': 30}"
            ]
          },
          "metadata": {},
          "execution_count": 82
        }
      ],
      "source": [
        "grid_search.best_params_ # best parameters corresponds to the lowest MSE"
      ]
    },
    {
      "cell_type": "code",
      "execution_count": null,
      "id": "68cd39e8",
      "metadata": {
        "colab": {
          "base_uri": "https://localhost:8080/"
        },
        "id": "68cd39e8",
        "outputId": "6ebe60a2-6c1a-4b2b-c247-beea17cdd2c8"
      },
      "outputs": [
        {
          "output_type": "execute_result",
          "data": {
            "text/plain": [
              "RandomForestRegressor(max_features=4, n_estimators=30)"
            ]
          },
          "metadata": {},
          "execution_count": 83
        }
      ],
      "source": [
        "grid_search.best_estimator_ # best estimator corresponds to the lowest MSE"
      ]
    },
    {
      "cell_type": "markdown",
      "id": "c8da132d",
      "metadata": {
        "id": "c8da132d"
      },
      "source": [
        "##### Randomized Search for RandomForest model."
      ]
    },
    {
      "cell_type": "code",
      "execution_count": null,
      "id": "2e2303f9",
      "metadata": {
        "id": "2e2303f9"
      },
      "outputs": [],
      "source": [
        "from sklearn.model_selection import RandomizedSearchCV"
      ]
    },
    {
      "cell_type": "code",
      "execution_count": null,
      "id": "be44eff2",
      "metadata": {
        "scrolled": true,
        "colab": {
          "base_uri": "https://localhost:8080/"
        },
        "id": "be44eff2",
        "outputId": "d9bd24cc-f470-4ed1-fdb1-66ecba19eb50"
      },
      "outputs": [
        {
          "output_type": "execute_result",
          "data": {
            "text/plain": [
              "RandomizedSearchCV(cv=5, estimator=RandomForestRegressor(),\n",
              "                   param_distributions=[{'max_features': [2, 4, 6, 8],\n",
              "                                         'n_estimators': [3, 10, 30]},\n",
              "                                        {'bootstrap': [False],\n",
              "                                         'max_features': [2, 3, 4],\n",
              "                                         'n_estimators': [3, 10]}],\n",
              "                   return_train_score=True, scoring='neg_mean_squared_error')"
            ]
          },
          "metadata": {},
          "execution_count": 85
        }
      ],
      "source": [
        "rand_search = RandomizedSearchCV(forest_reg, param_grid, cv=5, scoring='neg_mean_squared_error', return_train_score=True) # refit has a default value of True\n",
        "rand_search.fit(wine_features_tr, wine_labels)"
      ]
    },
    {
      "cell_type": "code",
      "execution_count": null,
      "id": "ae554888",
      "metadata": {
        "scrolled": false,
        "colab": {
          "base_uri": "https://localhost:8080/"
        },
        "id": "ae554888",
        "outputId": "92c930cd-20dc-4e0d-b41d-abccc2f1485d"
      },
      "outputs": [
        {
          "output_type": "stream",
          "name": "stdout",
          "text": [
            "0.47803581154684094 {'n_estimators': 3, 'max_features': 3, 'bootstrap': False}\n",
            "0.4828778594771241 {'n_estimators': 3, 'max_features': 4}\n",
            "0.3822645833333333 {'n_estimators': 10, 'max_features': 6}\n",
            "0.38686835171568623 {'n_estimators': 10, 'max_features': 2}\n",
            "0.43539828431372546 {'n_estimators': 3, 'max_features': 2, 'bootstrap': False}\n",
            "0.3822260110294118 {'n_estimators': 10, 'max_features': 3, 'bootstrap': False}\n",
            "0.39870257352941174 {'n_estimators': 10, 'max_features': 8}\n",
            "0.3599362881263616 {'n_estimators': 30, 'max_features': 8}\n",
            "0.3650584184368192 {'n_estimators': 30, 'max_features': 2}\n",
            "0.3576639365468409 {'n_estimators': 30, 'max_features': 4}\n"
          ]
        }
      ],
      "source": [
        "cvres = rand_search.cv_results_\n",
        "for mean_score, params in zip(cvres[\"mean_test_score\"], cvres[\"params\"]):\n",
        "    print(-mean_score, params)"
      ]
    },
    {
      "cell_type": "code",
      "execution_count": null,
      "id": "592558a2",
      "metadata": {
        "colab": {
          "base_uri": "https://localhost:8080/"
        },
        "id": "592558a2",
        "outputId": "215895bd-6145-45ab-ef5e-57f62cab9c3d"
      },
      "outputs": [
        {
          "output_type": "execute_result",
          "data": {
            "text/plain": [
              "{'n_estimators': 30, 'max_features': 4}"
            ]
          },
          "metadata": {},
          "execution_count": 87
        }
      ],
      "source": [
        "rand_search.best_params_ # best parameters corresponds to the lowest MSE"
      ]
    },
    {
      "cell_type": "code",
      "execution_count": null,
      "id": "8788bfb7",
      "metadata": {
        "colab": {
          "base_uri": "https://localhost:8080/"
        },
        "id": "8788bfb7",
        "outputId": "12e33e3b-91ca-43b3-83c9-10746b091fee"
      },
      "outputs": [
        {
          "output_type": "execute_result",
          "data": {
            "text/plain": [
              "RandomForestRegressor(max_features=4, n_estimators=30)"
            ]
          },
          "metadata": {},
          "execution_count": 88
        }
      ],
      "source": [
        "rand_search.best_estimator_ # best estimator corresponds to the lowest MSE"
      ]
    },
    {
      "cell_type": "markdown",
      "id": "20f96538",
      "metadata": {
        "id": "20f96538"
      },
      "source": [
        "##### Analysis of best model and its errors"
      ]
    },
    {
      "cell_type": "code",
      "execution_count": null,
      "id": "14a40a87",
      "metadata": {
        "scrolled": true,
        "colab": {
          "base_uri": "https://localhost:8080/"
        },
        "id": "14a40a87",
        "outputId": "80c7a0e9-f774-4525-f01e-a93ad8a3d626"
      },
      "outputs": [
        {
          "output_type": "execute_result",
          "data": {
            "text/plain": [
              "[(0.20807986817339394, 'alcohol'),\n",
              " (0.1385953877119365, 'sulphates'),\n",
              " (0.12140048378708224, 'volatile acidity'),\n",
              " (0.09557097490513662, 'density'),\n",
              " (0.07934595189574295, 'total sulfur dioxide'),\n",
              " (0.06571435955682312, 'chlorides'),\n",
              " (0.06384960304308733, 'pH'),\n",
              " (0.0619565567811652, 'fixed acidity'),\n",
              " (0.0593241211995821, 'citric acid'),\n",
              " (0.0560799001554581, 'residual sugar'),\n",
              " (0.05008279279059201, 'free sulfur dioxide')]"
            ]
          },
          "metadata": {},
          "execution_count": 89
        }
      ],
      "source": [
        "feature_importances = grid_search.best_estimator_.feature_importances_\n",
        "sorted(zip(feature_importances, features), reverse=True)"
      ]
    },
    {
      "cell_type": "markdown",
      "id": "1f35941c",
      "metadata": {
        "id": "1f35941c"
      },
      "source": [
        "Based on this information, we may drop features that are not so important.  It is also useful to analyze the errors in prediction and understand its causes and fix them"
      ]
    },
    {
      "cell_type": "markdown",
      "id": "9cbf4756",
      "metadata": {
        "id": "9cbf4756"
      },
      "source": [
        "##### Evaluation on test set"
      ]
    },
    {
      "cell_type": "code",
      "execution_count": null,
      "id": "3ff48447",
      "metadata": {
        "id": "3ff48447"
      },
      "outputs": [],
      "source": [
        "wine_features_test = strat_test_set.drop(\"quality\", axis=1)\n",
        "wine_labels_test = strat_test_set['quality'].copy()"
      ]
    },
    {
      "cell_type": "code",
      "execution_count": null,
      "id": "f061961b",
      "metadata": {
        "id": "f061961b"
      },
      "outputs": [],
      "source": [
        "wine_features_test_tr = transform_pipeline.fit_transform(wine_features_test)"
      ]
    },
    {
      "cell_type": "code",
      "execution_count": null,
      "id": "72fb9413",
      "metadata": {
        "scrolled": true,
        "colab": {
          "base_uri": "https://localhost:8080/"
        },
        "id": "72fb9413",
        "outputId": "c6994c9c-7a3c-40e0-f54a-4b41537983c6"
      },
      "outputs": [
        {
          "output_type": "stream",
          "name": "stderr",
          "text": [
            "/usr/local/lib/python3.7/dist-packages/sklearn/base.py:451: UserWarning: X does not have valid feature names, but RandomForestRegressor was fitted with feature names\n",
            "  \"X does not have valid feature names, but\"\n"
          ]
        },
        {
          "output_type": "execute_result",
          "data": {
            "text/plain": [
              "0.6388333333333333"
            ]
          },
          "metadata": {},
          "execution_count": 92
        }
      ],
      "source": [
        "quality_test_predictions = grid_search.best_estimator_.predict(wine_features_test_tr)\n",
        "mean_squared_error(wine_labels_test, quality_test_predictions)"
      ]
    },
    {
      "cell_type": "code",
      "execution_count": null,
      "id": "780c58a1",
      "metadata": {
        "colab": {
          "base_uri": "https://localhost:8080/"
        },
        "id": "780c58a1",
        "outputId": "8c293b31-47c3-4897-bd98-433d1c298ccb"
      },
      "outputs": [
        {
          "output_type": "execute_result",
          "data": {
            "text/plain": [
              "(0.5289321916722581, 0.7487344749944084)"
            ]
          },
          "metadata": {},
          "execution_count": 93
        }
      ],
      "source": [
        "# To find the 95% confidence interval\n",
        "\n",
        "from scipy import stats\n",
        "confidence = 0.95\n",
        "squared_errors = (quality_test_predictions - wine_labels_test) ** 2\n",
        "stats.t.interval(confidence, len(squared_errors) - 1, loc=squared_errors.mean(), scale=stats.sem(squared_errors))"
      ]
    },
    {
      "cell_type": "code",
      "execution_count": null,
      "id": "1a271410",
      "metadata": {
        "id": "1a271410"
      },
      "outputs": [],
      "source": []
    }
  ],
  "metadata": {
    "kernelspec": {
      "display_name": "Python 3 (ipykernel)",
      "language": "python",
      "name": "python3"
    },
    "language_info": {
      "codemirror_mode": {
        "name": "ipython",
        "version": 3
      },
      "file_extension": ".py",
      "mimetype": "text/x-python",
      "name": "python",
      "nbconvert_exporter": "python",
      "pygments_lexer": "ipython3",
      "version": "3.9.7"
    },
    "colab": {
      "provenance": [],
      "collapsed_sections": [
        "d43d2c9e",
        "082b4fe8",
        "mfePh5L7Mp5F",
        "WlFudXqq7sEN",
        "FS5Oi35bLomY",
        "e0BACnPJL72w",
        "2b03203f",
        "b803cea7",
        "0e65b8a4",
        "Pb_bP7piHeGe",
        "78754268",
        "b25e9bab",
        "a6866acc",
        "270a0d14",
        "b385c5b1",
        "aeb9e759",
        "3232a50f",
        "092e8e66",
        "bf5c81e4",
        "3c199b95",
        "6cf6334d",
        "a65cc518",
        "988f8d91",
        "656f25b8",
        "c8da132d",
        "20f96538",
        "9cbf4756"
      ],
      "include_colab_link": true
    }
  },
  "nbformat": 4,
  "nbformat_minor": 5
}