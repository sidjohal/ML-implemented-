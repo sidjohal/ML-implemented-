{
  "nbformat": 4,
  "nbformat_minor": 0,
  "metadata": {
    "colab": {
      "provenance": [],
      "toc_visible": true,
      "authorship_tag": "ABX9TyPEuXCj4bYZpwIA78AuenN2",
      "include_colab_link": true
    },
    "kernelspec": {
      "name": "python3",
      "display_name": "Python 3"
    },
    "language_info": {
      "name": "python"
    }
  },
  "cells": [
    {
      "cell_type": "markdown",
      "metadata": {
        "id": "view-in-github",
        "colab_type": "text"
      },
      "source": [
        "<a href=\"https://colab.research.google.com/github/sidjohal/ML_implemented/blob/main/2.%20data%20preprocessing.ipynb\" target=\"_parent\"><img src=\"https://colab.research.google.com/assets/colab-badge.svg\" alt=\"Open In Colab\"/></a>"
      ]
    },
    {
      "cell_type": "code",
      "source": [
        "    import numpy as np, pandas as pd, matplotlib.pyplot as plt"
      ],
      "metadata": {
        "id": "w0tT99fvLHGh"
      },
      "execution_count": null,
      "outputs": []
    },
    {
      "cell_type": "markdown",
      "source": [
        "# Data preprocessing"
      ],
      "metadata": {
        "id": "-1ugGO2ZGpTN"
      }
    },
    {
      "cell_type": "markdown",
      "source": [
        "## 1. Feature extraction"
      ],
      "metadata": {
        "id": "oL1My4ixGjaG"
      }
    },
    {
      "cell_type": "markdown",
      "source": [
        "    DictVectorizer - converts dict -> matrix\n",
        "    FeatureHasher - optimal for large datasets"
      ],
      "metadata": {
        "id": "n7TB4D8dMamj"
      }
    },
    {
      "cell_type": "code",
      "execution_count": null,
      "metadata": {
        "id": "nEKrYDNCGckL"
      },
      "outputs": [],
      "source": [
        "from sklearn.feature_extraction import DictVectorizer, FeatureHasher"
      ]
    },
    {
      "cell_type": "code",
      "source": [
        "data = [{'age': 4, 'height':96.0},\n",
        "{'age': 1, 'height':73.9},\n",
        "{'age': 3, 'height':88.9},\n",
        "{'age': 2, 'height':81.6}]"
      ],
      "metadata": {
        "id": "0yuvPNZCGi2V"
      },
      "execution_count": null,
      "outputs": []
    },
    {
      "cell_type": "code",
      "source": [
        "dv = DictVectorizer(sparse=False)\n",
        "dv.fit_transform(data)"
      ],
      "metadata": {
        "colab": {
          "base_uri": "https://localhost:8080/"
        },
        "id": "meRCwuh1G73B",
        "outputId": "1489c624-8b2a-47ab-d857-d82eef39b8bf"
      },
      "execution_count": null,
      "outputs": [
        {
          "output_type": "execute_result",
          "data": {
            "text/plain": [
              "array([[ 4. , 96. ],\n",
              "       [ 1. , 73.9],\n",
              "       [ 3. , 88.9],\n",
              "       [ 2. , 81.6]])"
            ]
          },
          "metadata": {},
          "execution_count": 64
        }
      ]
    },
    {
      "cell_type": "code",
      "source": [
        "fh = FeatureHasher(n_features=2)\n",
        "fh.transform(data).toarray()"
      ],
      "metadata": {
        "colab": {
          "base_uri": "https://localhost:8080/"
        },
        "id": "NErfsHInfBEr",
        "outputId": "bae4aace-8f71-4492-9d43-1062fe1e45d8"
      },
      "execution_count": null,
      "outputs": [
        {
          "output_type": "execute_result",
          "data": {
            "text/plain": [
              "array([[  0. , 100. ],\n",
              "       [  0. ,  74.9],\n",
              "       [  0. ,  91.9],\n",
              "       [  0. ,  83.6]])"
            ]
          },
          "metadata": {},
          "execution_count": 65
        }
      ]
    },
    {
      "cell_type": "code",
      "source": [],
      "metadata": {
        "id": "hq_tV0wifF58"
      },
      "execution_count": null,
      "outputs": []
    },
    {
      "cell_type": "markdown",
      "source": [
        "## 2. Data cleaning"
      ],
      "metadata": {
        "id": "0gYZuuU-Kll_"
      }
    },
    {
      "cell_type": "markdown",
      "source": [
        "### Feature imputation"
      ],
      "metadata": {
        "id": "0N0aNM3wKo4d"
      }
    },
    {
      "cell_type": "markdown",
      "source": [
        "    SimpleImputer\n",
        "    KNNImputer"
      ],
      "metadata": {
        "id": "W8JDZvrnZNss"
      }
    },
    {
      "cell_type": "code",
      "source": [
        "from sklearn.impute import SimpleImputer, KNNImputer"
      ],
      "metadata": {
        "id": "wMvIT6dMKrqn"
      },
      "execution_count": null,
      "outputs": []
    },
    {
      "cell_type": "code",
      "source": [
        "x = np.array([[7, 1], [np.nan, 8], [2, np.nan], [9, 6]])\n",
        "x"
      ],
      "metadata": {
        "colab": {
          "base_uri": "https://localhost:8080/"
        },
        "id": "eNyPWCPSKy8q",
        "outputId": "97dd7f82-1d21-4761-eb0c-2399d6404329"
      },
      "execution_count": null,
      "outputs": [
        {
          "output_type": "execute_result",
          "data": {
            "text/plain": [
              "array([[ 7.,  1.],\n",
              "       [nan,  8.],\n",
              "       [ 2., nan],\n",
              "       [ 9.,  6.]])"
            ]
          },
          "metadata": {},
          "execution_count": 67
        }
      ]
    },
    {
      "cell_type": "code",
      "source": [
        "si = SimpleImputer(strategy='mean')"
      ],
      "metadata": {
        "id": "c_orskrtK0hh"
      },
      "execution_count": null,
      "outputs": []
    },
    {
      "cell_type": "code",
      "source": [
        "si.fit_transform(x)"
      ],
      "metadata": {
        "colab": {
          "base_uri": "https://localhost:8080/"
        },
        "id": "fUOIvOkXLcrr",
        "outputId": "91ddca69-a95d-4cda-c299-8d649709f5f9"
      },
      "execution_count": null,
      "outputs": [
        {
          "output_type": "execute_result",
          "data": {
            "text/plain": [
              "array([[7., 1.],\n",
              "       [6., 8.],\n",
              "       [2., 5.],\n",
              "       [9., 6.]])"
            ]
          },
          "metadata": {},
          "execution_count": 69
        }
      ]
    },
    {
      "cell_type": "code",
      "source": [
        "ops = ['mean', 'median', 'most_frequent', 'constant']\n",
        "for i in ops:\n",
        "    print(SimpleImputer(strategy=i).fit_transform(x), i, \"\\n\")"
      ],
      "metadata": {
        "colab": {
          "base_uri": "https://localhost:8080/"
        },
        "id": "4NVLtpxhLdIe",
        "outputId": "64652597-cb92-4457-abc4-122047e8a184"
      },
      "execution_count": null,
      "outputs": [
        {
          "output_type": "stream",
          "name": "stdout",
          "text": [
            "[[7. 1.]\n",
            " [6. 8.]\n",
            " [2. 5.]\n",
            " [9. 6.]] mean \n",
            "\n",
            "[[7. 1.]\n",
            " [7. 8.]\n",
            " [2. 6.]\n",
            " [9. 6.]] median \n",
            "\n",
            "[[7. 1.]\n",
            " [2. 8.]\n",
            " [2. 1.]\n",
            " [9. 6.]] most_frequent \n",
            "\n",
            "[[7. 1.]\n",
            " [0. 8.]\n",
            " [2. 0.]\n",
            " [9. 6.]] constant \n",
            "\n"
          ]
        }
      ]
    },
    {
      "cell_type": "code",
      "source": [
        "kim = KNNImputer(n_neighbors=2)"
      ],
      "metadata": {
        "id": "F-DOdf7qM3sx"
      },
      "execution_count": null,
      "outputs": []
    },
    {
      "cell_type": "code",
      "source": [
        "kim.fit_transform(x)"
      ],
      "metadata": {
        "colab": {
          "base_uri": "https://localhost:8080/"
        },
        "id": "Z2L-ay3SM3gj",
        "outputId": "3abb6f46-61d1-4ac7-aac1-82d83414f5f3"
      },
      "execution_count": null,
      "outputs": [
        {
          "output_type": "execute_result",
          "data": {
            "text/plain": [
              "array([[7. , 1. ],\n",
              "       [8. , 8. ],\n",
              "       [2. , 3.5],\n",
              "       [9. , 6. ]])"
            ]
          },
          "metadata": {},
          "execution_count": 72
        }
      ]
    },
    {
      "cell_type": "code",
      "source": [
        "xt = SimpleImputer().fit_transform(x)\n",
        "xt"
      ],
      "metadata": {
        "colab": {
          "base_uri": "https://localhost:8080/"
        },
        "id": "U7fiOWsTTaVG",
        "outputId": "7610f3b8-a9ce-49c1-dc8e-d8b66da84ff2"
      },
      "execution_count": null,
      "outputs": [
        {
          "output_type": "execute_result",
          "data": {
            "text/plain": [
              "array([[7., 1.],\n",
              "       [6., 8.],\n",
              "       [2., 5.],\n",
              "       [9., 6.]])"
            ]
          },
          "metadata": {},
          "execution_count": 73
        }
      ]
    },
    {
      "cell_type": "markdown",
      "source": [
        "### Categorical transformers"
      ],
      "metadata": {
        "id": "XEEjHvs0WSTa"
      }
    },
    {
      "cell_type": "markdown",
      "source": [
        "    OneHotEncoder; OrdinalEncoder;  LabelEncoder\n",
        "    LabelBinarizer; MultiLabelBinarizer"
      ],
      "metadata": {
        "id": "U0k_6VHCZvR4"
      }
    },
    {
      "cell_type": "code",
      "source": [
        "from sklearn.preprocessing import OneHotEncoder, OrdinalEncoder, LabelEncoder"
      ],
      "metadata": {
        "id": "_zpkV_BzaDdj"
      },
      "execution_count": null,
      "outputs": []
    },
    {
      "cell_type": "code",
      "source": [
        "arr = np.array([1,2,1,4,2,5])\n",
        "arr.reshape(-1,1), arr # -1 or length of arr"
      ],
      "metadata": {
        "id": "JhRVEyL7aOcr",
        "colab": {
          "base_uri": "https://localhost:8080/"
        },
        "outputId": "e8c00939-1145-4382-ef08-e1525093bd86"
      },
      "execution_count": null,
      "outputs": [
        {
          "output_type": "execute_result",
          "data": {
            "text/plain": [
              "(array([[1],\n",
              "        [2],\n",
              "        [1],\n",
              "        [4],\n",
              "        [2],\n",
              "        [5]]), array([1, 2, 1, 4, 2, 5]))"
            ]
          },
          "metadata": {},
          "execution_count": 75
        }
      ]
    },
    {
      "cell_type": "code",
      "source": [
        "ohe = OneHotEncoder(sparse=False)\n",
        "ohe.fit_transform(arr.reshape(-1,1))"
      ],
      "metadata": {
        "colab": {
          "base_uri": "https://localhost:8080/"
        },
        "id": "G4FwaXfTbShN",
        "outputId": "43c6090e-106a-40d0-9398-d6556d0fbb6f"
      },
      "execution_count": null,
      "outputs": [
        {
          "output_type": "execute_result",
          "data": {
            "text/plain": [
              "array([[1., 0., 0., 0.],\n",
              "       [0., 1., 0., 0.],\n",
              "       [1., 0., 0., 0.],\n",
              "       [0., 0., 1., 0.],\n",
              "       [0., 1., 0., 0.],\n",
              "       [0., 0., 0., 1.]])"
            ]
          },
          "metadata": {},
          "execution_count": 76
        }
      ]
    },
    {
      "cell_type": "code",
      "source": [
        "np.array([1,2,1,4,2,5]).reshape(len(arr),1)"
      ],
      "metadata": {
        "colab": {
          "base_uri": "https://localhost:8080/"
        },
        "id": "dU4HBZWfIC3n",
        "outputId": "bae0aa73-379e-4263-9880-88489cbb1f4d"
      },
      "execution_count": null,
      "outputs": [
        {
          "output_type": "execute_result",
          "data": {
            "text/plain": [
              "array([[1],\n",
              "       [2],\n",
              "       [1],\n",
              "       [4],\n",
              "       [2],\n",
              "       [5]])"
            ]
          },
          "metadata": {},
          "execution_count": 77
        }
      ]
    },
    {
      "cell_type": "code",
      "source": [
        "OrdinalEncoder().fit_transform(x.reshape(-1,1))"
      ],
      "metadata": {
        "colab": {
          "base_uri": "https://localhost:8080/"
        },
        "id": "xX0wNAAYHg0R",
        "outputId": "97da6289-9da6-497b-f90b-d345ef6e1008"
      },
      "execution_count": null,
      "outputs": [
        {
          "output_type": "execute_result",
          "data": {
            "text/plain": [
              "array([[ 3.],\n",
              "       [ 0.],\n",
              "       [nan],\n",
              "       [ 4.],\n",
              "       [ 1.],\n",
              "       [nan],\n",
              "       [ 5.],\n",
              "       [ 2.]])"
            ]
          },
          "metadata": {},
          "execution_count": 78
        }
      ]
    },
    {
      "cell_type": "code",
      "source": [
        "ohe.fit_transform(x)"
      ],
      "metadata": {
        "colab": {
          "base_uri": "https://localhost:8080/"
        },
        "id": "w1PMdbFEHgbS",
        "outputId": "6c283622-dac9-4d00-f7d8-7b03dabd7358"
      },
      "execution_count": null,
      "outputs": [
        {
          "output_type": "execute_result",
          "data": {
            "text/plain": [
              "array([[0., 1., 0., 0., 1., 0., 0., 0.],\n",
              "       [0., 0., 0., 1., 0., 0., 1., 0.],\n",
              "       [1., 0., 0., 0., 0., 0., 0., 1.],\n",
              "       [0., 0., 1., 0., 0., 1., 0., 0.]])"
            ]
          },
          "metadata": {},
          "execution_count": 79
        }
      ]
    },
    {
      "cell_type": "code",
      "source": [
        "oe = OrdinalEncoder()\n",
        "xoe = oe.fit_transform(x)\n",
        "print(x, \"\\n\\n\", xoe)"
      ],
      "metadata": {
        "colab": {
          "base_uri": "https://localhost:8080/"
        },
        "id": "DGvsZBirbUnF",
        "outputId": "b31a1f2a-22df-4b7a-a238-ae4642c659b6"
      },
      "execution_count": null,
      "outputs": [
        {
          "output_type": "stream",
          "name": "stdout",
          "text": [
            "[[ 7.  1.]\n",
            " [nan  8.]\n",
            " [ 2. nan]\n",
            " [ 9.  6.]] \n",
            "\n",
            " [[ 1.  0.]\n",
            " [nan  2.]\n",
            " [ 0. nan]\n",
            " [ 2.  1.]]\n"
          ]
        }
      ]
    },
    {
      "cell_type": "code",
      "source": [
        "y = [1,3,2,5,2,2]\n",
        "le = LabelEncoder()\n",
        "le.fit_transform(y) #works"
      ],
      "metadata": {
        "colab": {
          "base_uri": "https://localhost:8080/"
        },
        "id": "W-NYs_cAcHeF",
        "outputId": "703655db-b664-41d1-97ae-d8928064d16d"
      },
      "execution_count": null,
      "outputs": [
        {
          "output_type": "execute_result",
          "data": {
            "text/plain": [
              "array([0, 2, 1, 3, 1, 1])"
            ]
          },
          "metadata": {},
          "execution_count": 81
        }
      ]
    },
    {
      "cell_type": "code",
      "source": [],
      "metadata": {
        "id": "-yYaWY4JdOXL"
      },
      "execution_count": null,
      "outputs": []
    },
    {
      "cell_type": "markdown",
      "source": [],
      "metadata": {
        "id": "9M0vHYHKcjlH"
      }
    },
    {
      "cell_type": "markdown",
      "source": [
        "### Numerical transformers"
      ],
      "metadata": {
        "id": "N4L3llo6K0rb"
      }
    },
    {
      "cell_type": "markdown",
      "source": [
        "    StandardScaler; MinMaxScaler; MaxAbsScaler\n",
        "    FunctionTransformer\n",
        "    PolynomialFeatures (polynomial transformation)"
      ],
      "metadata": {
        "id": "ITLju0YkZSIk"
      }
    },
    {
      "cell_type": "code",
      "source": [
        "from sklearn.preprocessing import StandardScaler, MinMaxScaler, MaxAbsScaler"
      ],
      "metadata": {
        "id": "46hTWDRrK5Wu"
      },
      "execution_count": null,
      "outputs": []
    },
    {
      "cell_type": "code",
      "source": [
        "x"
      ],
      "metadata": {
        "colab": {
          "base_uri": "https://localhost:8080/"
        },
        "id": "j2olH1OvTYqm",
        "outputId": "40f075ca-c321-486a-a232-e6b2b188a171"
      },
      "execution_count": null,
      "outputs": [
        {
          "output_type": "execute_result",
          "data": {
            "text/plain": [
              "array([[ 7.,  1.],\n",
              "       [nan,  8.],\n",
              "       [ 2., nan],\n",
              "       [ 9.,  6.]])"
            ]
          },
          "metadata": {},
          "execution_count": 83
        }
      ]
    },
    {
      "cell_type": "code",
      "source": [
        "StandardScaler().fit_transform(xt)"
      ],
      "metadata": {
        "colab": {
          "base_uri": "https://localhost:8080/"
        },
        "id": "dnWO9Hy0Thny",
        "outputId": "709560f5-c6ff-49e2-feb3-748396a71bbb"
      },
      "execution_count": null,
      "outputs": [
        {
          "output_type": "execute_result",
          "data": {
            "text/plain": [
              "array([[ 0.39223227, -1.56892908],\n",
              "       [ 0.        ,  1.17669681],\n",
              "       [-1.56892908,  0.        ],\n",
              "       [ 1.17669681,  0.39223227]])"
            ]
          },
          "metadata": {},
          "execution_count": 84
        }
      ]
    },
    {
      "cell_type": "code",
      "source": [
        "MinMaxScaler().fit_transform(xt)"
      ],
      "metadata": {
        "colab": {
          "base_uri": "https://localhost:8080/"
        },
        "id": "2bU9SY-ITogs",
        "outputId": "326d3c66-d51c-44b7-f99a-c948457ee7c4"
      },
      "execution_count": null,
      "outputs": [
        {
          "output_type": "execute_result",
          "data": {
            "text/plain": [
              "array([[0.71428571, 0.        ],\n",
              "       [0.57142857, 1.        ],\n",
              "       [0.        , 0.57142857],\n",
              "       [1.        , 0.71428571]])"
            ]
          },
          "metadata": {},
          "execution_count": 85
        }
      ]
    },
    {
      "cell_type": "code",
      "source": [],
      "metadata": {
        "id": "bJ-55UD0VPpr"
      },
      "execution_count": null,
      "outputs": []
    },
    {
      "cell_type": "markdown",
      "source": [
        "#### Function Transformer\n",
        "    user defined function trnasformation"
      ],
      "metadata": {
        "id": "_SSzCAeFWAeq"
      }
    },
    {
      "cell_type": "code",
      "source": [
        "from sklearn.preprocessing import FunctionTransformer"
      ],
      "metadata": {
        "id": "TaKSowIUWLor"
      },
      "execution_count": null,
      "outputs": []
    },
    {
      "cell_type": "code",
      "source": [
        "ft = FunctionTransformer(np.log2)"
      ],
      "metadata": {
        "id": "Yn9iMR6OWWYN"
      },
      "execution_count": null,
      "outputs": []
    },
    {
      "cell_type": "code",
      "source": [
        "ft.fit_transform(xt)"
      ],
      "metadata": {
        "colab": {
          "base_uri": "https://localhost:8080/"
        },
        "id": "70gwKIXQWV8y",
        "outputId": "d29582f3-cb4d-4a2d-db36-2f003f43443a"
      },
      "execution_count": null,
      "outputs": [
        {
          "output_type": "execute_result",
          "data": {
            "text/plain": [
              "array([[2.80735492, 0.        ],\n",
              "       [2.5849625 , 3.        ],\n",
              "       [1.        , 2.32192809],\n",
              "       [3.169925  , 2.5849625 ]])"
            ]
          },
          "metadata": {},
          "execution_count": 88
        }
      ]
    },
    {
      "cell_type": "markdown",
      "source": [
        "#### Polynomial transformation"
      ],
      "metadata": {
        "id": "dHi0mBkwWFNl"
      }
    },
    {
      "cell_type": "code",
      "source": [
        "from sklearn.preprocessing import PolynomialFeatures"
      ],
      "metadata": {
        "id": "dzvKtWrtWQMt"
      },
      "execution_count": null,
      "outputs": []
    },
    {
      "cell_type": "code",
      "source": [
        "arr = np.array([[3,4]])\n",
        "pf = PolynomialFeatures(degree=2)"
      ],
      "metadata": {
        "id": "9kzVDawVWvfw"
      },
      "execution_count": null,
      "outputs": []
    },
    {
      "cell_type": "code",
      "source": [
        "pf.fit_transform(arr)"
      ],
      "metadata": {
        "colab": {
          "base_uri": "https://localhost:8080/"
        },
        "id": "CnbdP0ScaVcy",
        "outputId": "e26cfb95-1ba6-4e23-98a6-12eda91bc406"
      },
      "execution_count": null,
      "outputs": [
        {
          "output_type": "execute_result",
          "data": {
            "text/plain": [
              "array([[ 1.,  3.,  4.,  9., 12., 16.]])"
            ]
          },
          "metadata": {},
          "execution_count": 91
        }
      ]
    },
    {
      "cell_type": "code",
      "source": [],
      "metadata": {
        "id": "Yp3mai_1akdW"
      },
      "execution_count": null,
      "outputs": []
    },
    {
      "cell_type": "code",
      "source": [
        "from sklearn.preprocessing import KBinsDiscretizer"
      ],
      "metadata": {
        "id": "pG2MeqYrakhP"
      },
      "execution_count": null,
      "outputs": []
    },
    {
      "cell_type": "code",
      "source": [
        "ser = np.array([[0.1,0.3,0.2, 0.5, 6, 0.7, 0.9, 1.0]])\n",
        "kbd = KBinsDiscretizer(strategy='uniform', encode='ordinal')"
      ],
      "metadata": {
        "id": "mK2VA2xYakkt"
      },
      "execution_count": null,
      "outputs": []
    },
    {
      "cell_type": "code",
      "source": [],
      "metadata": {
        "id": "NZj0Fo3Na04s"
      },
      "execution_count": null,
      "outputs": []
    }
  ]
}